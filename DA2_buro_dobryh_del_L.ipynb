{
  "cells": [
    {
      "cell_type": "markdown",
      "id": "e53a49b6",
      "metadata": {
        "toc": true,
        "id": "e53a49b6"
      },
      "source": [
        "<h1>Table of Contents<span class=\"tocSkip\"></span></h1>\n",
        "<div class=\"toc\"><ul class=\"toc-item\"><li><span><a href=\"#Просмотр-данных\" data-toc-modified-id=\"Просмотр-данных-1\"><span class=\"toc-item-num\">1&nbsp;&nbsp;</span>Просмотр данных</a></span></li><li><span><a href=\"#Исследовательский-анализ-данных\" data-toc-modified-id=\"Исследовательский-анализ-данных-2\"><span class=\"toc-item-num\">2&nbsp;&nbsp;</span>Исследовательский анализ данных</a></span><ul class=\"toc-item\"><li><span><a href=\"#Изучение-столбца-meaning---назначение-платежа\" data-toc-modified-id=\"Изучение-столбца-meaning---назначение-платежа-2.1\"><span class=\"toc-item-num\">2.1&nbsp;&nbsp;</span>Изучение столбца meaning - назначение платежа</a></span></li><li><span><a href=\"#Каналы-оплаты\" data-toc-modified-id=\"Каналы-оплаты-2.2\"><span class=\"toc-item-num\">2.2&nbsp;&nbsp;</span>Каналы оплаты</a></span></li><li><span><a href=\"#Период\" data-toc-modified-id=\"Период-2.3\"><span class=\"toc-item-num\">2.3&nbsp;&nbsp;</span>Период</a></span></li><li><span><a href=\"#Рекурентность\" data-toc-modified-id=\"Рекурентность-2.4\"><span class=\"toc-item-num\">2.4&nbsp;&nbsp;</span>Рекурентность</a></span></li><li><span><a href=\"#Пол\" data-toc-modified-id=\"Пол-2.5\"><span class=\"toc-item-num\">2.5&nbsp;&nbsp;</span>Пол</a></span></li><li><span><a href=\"#Город\" data-toc-modified-id=\"Город-2.6\"><span class=\"toc-item-num\">2.6&nbsp;&nbsp;</span>Город</a></span></li><li><span><a href=\"#Сумма-пожертвований\" data-toc-modified-id=\"Сумма-пожертвований-2.7\"><span class=\"toc-item-num\">2.7&nbsp;&nbsp;</span>Сумма пожертвований</a></span></li></ul></li></ul></div>"
      ]
    },
    {
      "cell_type": "code",
      "execution_count": null,
      "id": "3a9bb814",
      "metadata": {
        "id": "3a9bb814"
      },
      "outputs": [],
      "source": [
        "#импорт библиотек\n",
        "import pandas as pd\n",
        "import numpy as np\n",
        "import seaborn as sns\n",
        "import matplotlib.pyplot as plt\n",
        "\n",
        "import warnings \n",
        "warnings.simplefilter('ignore', FutureWarning)"
      ]
    },
    {
      "cell_type": "code",
      "source": [
        "#для лемматизации\n",
        "import nltk\n",
        "nltk.download('wordnet')\n",
        "nltk.download('punkt')\n",
        "nltk.download('omw-1.4')\n",
        "from nltk.stem import WordNetLemmatizer\n"
      ],
      "metadata": {
        "colab": {
          "base_uri": "https://localhost:8080/"
        },
        "id": "0Io4S4-GXL4K",
        "outputId": "e32347b7-0548-4565-8d0e-4b84403fd89f"
      },
      "id": "0Io4S4-GXL4K",
      "execution_count": null,
      "outputs": [
        {
          "output_type": "stream",
          "name": "stderr",
          "text": [
            "[nltk_data] Downloading package wordnet to /root/nltk_data...\n",
            "[nltk_data] Downloading package punkt to /root/nltk_data...\n",
            "[nltk_data]   Unzipping tokenizers/punkt.zip.\n",
            "[nltk_data] Downloading package omw-1.4 to /root/nltk_data...\n"
          ]
        }
      ]
    },
    {
      "cell_type": "code",
      "execution_count": null,
      "id": "85743ff8",
      "metadata": {
        "id": "85743ff8"
      },
      "outputs": [],
      "source": [
        "#форматирование вывода\n",
        "pd.set_option('max_rows', 10)\n",
        "pd.set_option('display.float_format', '{:.2f}'.format)"
      ]
    },
    {
      "cell_type": "markdown",
      "id": "ea47b343",
      "metadata": {
        "id": "ea47b343"
      },
      "source": [
        "## Просмотр данных"
      ]
    },
    {
      "cell_type": "code",
      "source": [
        "! gdown 1CVgAktxM9bK2x2AxjTq3Z9-A0YzrJ0R9"
      ],
      "metadata": {
        "colab": {
          "base_uri": "https://localhost:8080/"
        },
        "id": "Rk-7eP1BDFkp",
        "outputId": "9cb954c0-c515-4fdd-8979-ddfae5388d56"
      },
      "id": "Rk-7eP1BDFkp",
      "execution_count": null,
      "outputs": [
        {
          "output_type": "stream",
          "name": "stdout",
          "text": [
            "Downloading...\n",
            "From: https://drive.google.com/uc?id=1CVgAktxM9bK2x2AxjTq3Z9-A0YzrJ0R9\n",
            "To: /content/charity.xlsx\n",
            "\r  0% 0.00/780k [00:00<?, ?B/s]\r100% 780k/780k [00:00<00:00, 45.8MB/s]\n"
          ]
        }
      ]
    },
    {
      "cell_type": "code",
      "execution_count": null,
      "id": "1cda4d24",
      "metadata": {
        "id": "1cda4d24"
      },
      "outputs": [],
      "source": [
        "#чтение данных\n",
        "donations = pd.read_excel('/content/charity.xlsx', sheet_name='Пожертвования')"
      ]
    },
    {
      "cell_type": "code",
      "execution_count": null,
      "id": "0399a286",
      "metadata": {
        "id": "0399a286"
      },
      "outputs": [],
      "source": [
        "#функция для изучения общей информации о данных\n",
        "def description(x):\n",
        "    print('\\033[1m' + 'Получение общей информации о данных в таблице:' + '\\033[0m')\n",
        "    display(x.info())\n",
        "    print('\\033[1m' + 'Количество строк и столбцов:' + '\\033[0m')\n",
        "    display(x.shape)\n",
        "    print('\\033[1m' + 'Подсчёт пропусков в таблице:' + '\\033[0m')\n",
        "    display(pd.concat([x.isna().sum(), x.isna().mean()], axis=1)\\\n",
        "    .rename(columns={0:'кол-во', 1:'доля'})\\\n",
        "    .style.format({'кол-во':'{:.0f}', 'доля':'{:.2%}'}))\n",
        "    print('\\033[1m' + 'Наличие дубликатов в таблице:' + '\\033[0m')\n",
        "    display(x.duplicated().sum())\n",
        "    print('\\033[1m' + 'Доля дубликатов в таблице:' + '\\033[0m')\n",
        "    display(\"{:.3%}\".format(x.duplicated().sum() / len(x), 2))\n",
        "    print('\\033[1m' + 'Уникальные значения в таблице:' + '\\033[0m')\n",
        "    display(x.nunique())\n",
        "    print('\\033[1m' + 'Вывод первых пяти строк из таблицы:' + '\\033[0m')\n",
        "    display(x.head())"
      ]
    },
    {
      "cell_type": "code",
      "execution_count": null,
      "id": "8315cdb8",
      "metadata": {
        "colab": {
          "base_uri": "https://localhost:8080/",
          "height": 966
        },
        "id": "8315cdb8",
        "outputId": "e93b295b-967a-4070-f53d-c6e05ff25e08"
      },
      "outputs": [
        {
          "output_type": "stream",
          "name": "stdout",
          "text": [
            "\u001b[1mПолучение общей информации о данных в таблице:\u001b[0m\n",
            "<class 'pandas.core.frame.DataFrame'>\n",
            "RangeIndex: 14043 entries, 0 to 14042\n",
            "Data columns (total 6 columns):\n",
            " #   Column              Non-Null Count  Dtype         \n",
            "---  ------              --------------  -----         \n",
            " 0   Donor ID            14043 non-null  object        \n",
            " 1   Дата платежа        14043 non-null  datetime64[ns]\n",
            " 2   Сумма платежа       14043 non-null  float64       \n",
            " 3   Рекуррентный        14043 non-null  object        \n",
            " 4   Назначение платежа  12774 non-null  object        \n",
            " 5   Канал оплаты        14043 non-null  object        \n",
            "dtypes: datetime64[ns](1), float64(1), object(4)\n",
            "memory usage: 658.4+ KB\n"
          ]
        },
        {
          "output_type": "display_data",
          "data": {
            "text/plain": [
              "None"
            ]
          },
          "metadata": {}
        },
        {
          "output_type": "stream",
          "name": "stdout",
          "text": [
            "\u001b[1mКоличество строк и столбцов:\u001b[0m\n"
          ]
        },
        {
          "output_type": "display_data",
          "data": {
            "text/plain": [
              "(14043, 6)"
            ]
          },
          "metadata": {}
        },
        {
          "output_type": "stream",
          "name": "stdout",
          "text": [
            "\u001b[1mПодсчёт пропусков в таблице:\u001b[0m\n"
          ]
        },
        {
          "output_type": "display_data",
          "data": {
            "text/plain": [
              "<pandas.io.formats.style.Styler at 0x7f48348b3c90>"
            ],
            "text/html": [
              "<style type=\"text/css\">\n",
              "</style>\n",
              "<table id=\"T_3434a_\" class=\"dataframe\">\n",
              "  <thead>\n",
              "    <tr>\n",
              "      <th class=\"blank level0\" >&nbsp;</th>\n",
              "      <th class=\"col_heading level0 col0\" >кол-во</th>\n",
              "      <th class=\"col_heading level0 col1\" >доля</th>\n",
              "    </tr>\n",
              "  </thead>\n",
              "  <tbody>\n",
              "    <tr>\n",
              "      <th id=\"T_3434a_level0_row0\" class=\"row_heading level0 row0\" >Donor ID</th>\n",
              "      <td id=\"T_3434a_row0_col0\" class=\"data row0 col0\" >0</td>\n",
              "      <td id=\"T_3434a_row0_col1\" class=\"data row0 col1\" >0.00%</td>\n",
              "    </tr>\n",
              "    <tr>\n",
              "      <th id=\"T_3434a_level0_row1\" class=\"row_heading level0 row1\" >Дата платежа</th>\n",
              "      <td id=\"T_3434a_row1_col0\" class=\"data row1 col0\" >0</td>\n",
              "      <td id=\"T_3434a_row1_col1\" class=\"data row1 col1\" >0.00%</td>\n",
              "    </tr>\n",
              "    <tr>\n",
              "      <th id=\"T_3434a_level0_row2\" class=\"row_heading level0 row2\" >Сумма платежа</th>\n",
              "      <td id=\"T_3434a_row2_col0\" class=\"data row2 col0\" >0</td>\n",
              "      <td id=\"T_3434a_row2_col1\" class=\"data row2 col1\" >0.00%</td>\n",
              "    </tr>\n",
              "    <tr>\n",
              "      <th id=\"T_3434a_level0_row3\" class=\"row_heading level0 row3\" >Рекуррентный</th>\n",
              "      <td id=\"T_3434a_row3_col0\" class=\"data row3 col0\" >0</td>\n",
              "      <td id=\"T_3434a_row3_col1\" class=\"data row3 col1\" >0.00%</td>\n",
              "    </tr>\n",
              "    <tr>\n",
              "      <th id=\"T_3434a_level0_row4\" class=\"row_heading level0 row4\" >Назначение платежа</th>\n",
              "      <td id=\"T_3434a_row4_col0\" class=\"data row4 col0\" >1269</td>\n",
              "      <td id=\"T_3434a_row4_col1\" class=\"data row4 col1\" >9.04%</td>\n",
              "    </tr>\n",
              "    <tr>\n",
              "      <th id=\"T_3434a_level0_row5\" class=\"row_heading level0 row5\" >Канал оплаты</th>\n",
              "      <td id=\"T_3434a_row5_col0\" class=\"data row5 col0\" >0</td>\n",
              "      <td id=\"T_3434a_row5_col1\" class=\"data row5 col1\" >0.00%</td>\n",
              "    </tr>\n",
              "  </tbody>\n",
              "</table>\n"
            ]
          },
          "metadata": {}
        },
        {
          "output_type": "stream",
          "name": "stdout",
          "text": [
            "\u001b[1mНаличие дубликатов в таблице:\u001b[0m\n"
          ]
        },
        {
          "output_type": "display_data",
          "data": {
            "text/plain": [
              "12"
            ]
          },
          "metadata": {}
        },
        {
          "output_type": "stream",
          "name": "stdout",
          "text": [
            "\u001b[1mДоля дубликатов в таблице:\u001b[0m\n"
          ]
        },
        {
          "output_type": "display_data",
          "data": {
            "text/plain": [
              "'0.085%'"
            ],
            "application/vnd.google.colaboratory.intrinsic+json": {
              "type": "string"
            }
          },
          "metadata": {}
        },
        {
          "output_type": "stream",
          "name": "stdout",
          "text": [
            "\u001b[1mУникальные значения в таблице:\u001b[0m\n"
          ]
        },
        {
          "output_type": "display_data",
          "data": {
            "text/plain": [
              "Donor ID               3683\n",
              "Дата платежа          13386\n",
              "Сумма платежа           373\n",
              "Рекуррентный              2\n",
              "Назначение платежа      893\n",
              "Канал оплаты              4\n",
              "dtype: int64"
            ]
          },
          "metadata": {}
        },
        {
          "output_type": "stream",
          "name": "stdout",
          "text": [
            "\u001b[1mВывод первых пяти строк из таблицы:\u001b[0m\n"
          ]
        },
        {
          "output_type": "display_data",
          "data": {
            "text/plain": [
              "                               Donor ID        Дата платежа  Сумма платежа  \\\n",
              "0  DE5393F9-9585-4057-B7FB-24B69697FC08 2022-07-03 19:49:48         300.00   \n",
              "1  81CD4BEF-443E-4D36-B34F-664E11182D65 2020-03-14 12:20:02         300.00   \n",
              "2  D3BEB76D-D8B6-47E2-8109-44F1B278943B 2022-04-07 00:00:00          16.00   \n",
              "3  F1310736-B229-4AAC-99B7-F13ACECF67CB 2019-12-26 02:25:42         300.00   \n",
              "4  61C3D86B-39DA-445C-9D7F-9924CE9BDA14 2021-06-26 01:26:07         200.00   \n",
              "\n",
              "                                        Рекуррентный  \\\n",
              "0  Да                                            ...   \n",
              "1  Нет                                           ...   \n",
              "2  Нет                                           ...   \n",
              "3  Нет                                           ...   \n",
              "4  Да                                            ...   \n",
              "\n",
              "                              Назначение платежа                  Канал оплаты  \n",
              "0                       ПОЖЕРТВОВАНИЕ  undefined            Банковские карты    \n",
              "1                                        SMS bdd                         SMS    \n",
              "2  Добровольное пожертвование. НДС не облагается  Прямые поступления на счет    \n",
              "3                                            NaN                         SMS    \n",
              "4                       ПОЖЕРТВОВАНИЕ  undefined            Банковские карты    "
            ],
            "text/html": [
              "\n",
              "  <div id=\"df-ecf584ce-1022-489f-9699-4d753b1d386a\">\n",
              "    <div class=\"colab-df-container\">\n",
              "      <div>\n",
              "<style scoped>\n",
              "    .dataframe tbody tr th:only-of-type {\n",
              "        vertical-align: middle;\n",
              "    }\n",
              "\n",
              "    .dataframe tbody tr th {\n",
              "        vertical-align: top;\n",
              "    }\n",
              "\n",
              "    .dataframe thead th {\n",
              "        text-align: right;\n",
              "    }\n",
              "</style>\n",
              "<table border=\"1\" class=\"dataframe\">\n",
              "  <thead>\n",
              "    <tr style=\"text-align: right;\">\n",
              "      <th></th>\n",
              "      <th>Donor ID</th>\n",
              "      <th>Дата платежа</th>\n",
              "      <th>Сумма платежа</th>\n",
              "      <th>Рекуррентный</th>\n",
              "      <th>Назначение платежа</th>\n",
              "      <th>Канал оплаты</th>\n",
              "    </tr>\n",
              "  </thead>\n",
              "  <tbody>\n",
              "    <tr>\n",
              "      <th>0</th>\n",
              "      <td>DE5393F9-9585-4057-B7FB-24B69697FC08</td>\n",
              "      <td>2022-07-03 19:49:48</td>\n",
              "      <td>300.00</td>\n",
              "      <td>Да                                            ...</td>\n",
              "      <td>ПОЖЕРТВОВАНИЕ  undefined</td>\n",
              "      <td>Банковские карты</td>\n",
              "    </tr>\n",
              "    <tr>\n",
              "      <th>1</th>\n",
              "      <td>81CD4BEF-443E-4D36-B34F-664E11182D65</td>\n",
              "      <td>2020-03-14 12:20:02</td>\n",
              "      <td>300.00</td>\n",
              "      <td>Нет                                           ...</td>\n",
              "      <td>SMS bdd</td>\n",
              "      <td>SMS</td>\n",
              "    </tr>\n",
              "    <tr>\n",
              "      <th>2</th>\n",
              "      <td>D3BEB76D-D8B6-47E2-8109-44F1B278943B</td>\n",
              "      <td>2022-04-07 00:00:00</td>\n",
              "      <td>16.00</td>\n",
              "      <td>Нет                                           ...</td>\n",
              "      <td>Добровольное пожертвование. НДС не облагается</td>\n",
              "      <td>Прямые поступления на счет</td>\n",
              "    </tr>\n",
              "    <tr>\n",
              "      <th>3</th>\n",
              "      <td>F1310736-B229-4AAC-99B7-F13ACECF67CB</td>\n",
              "      <td>2019-12-26 02:25:42</td>\n",
              "      <td>300.00</td>\n",
              "      <td>Нет                                           ...</td>\n",
              "      <td>NaN</td>\n",
              "      <td>SMS</td>\n",
              "    </tr>\n",
              "    <tr>\n",
              "      <th>4</th>\n",
              "      <td>61C3D86B-39DA-445C-9D7F-9924CE9BDA14</td>\n",
              "      <td>2021-06-26 01:26:07</td>\n",
              "      <td>200.00</td>\n",
              "      <td>Да                                            ...</td>\n",
              "      <td>ПОЖЕРТВОВАНИЕ  undefined</td>\n",
              "      <td>Банковские карты</td>\n",
              "    </tr>\n",
              "  </tbody>\n",
              "</table>\n",
              "</div>\n",
              "      <button class=\"colab-df-convert\" onclick=\"convertToInteractive('df-ecf584ce-1022-489f-9699-4d753b1d386a')\"\n",
              "              title=\"Convert this dataframe to an interactive table.\"\n",
              "              style=\"display:none;\">\n",
              "        \n",
              "  <svg xmlns=\"http://www.w3.org/2000/svg\" height=\"24px\"viewBox=\"0 0 24 24\"\n",
              "       width=\"24px\">\n",
              "    <path d=\"M0 0h24v24H0V0z\" fill=\"none\"/>\n",
              "    <path d=\"M18.56 5.44l.94 2.06.94-2.06 2.06-.94-2.06-.94-.94-2.06-.94 2.06-2.06.94zm-11 1L8.5 8.5l.94-2.06 2.06-.94-2.06-.94L8.5 2.5l-.94 2.06-2.06.94zm10 10l.94 2.06.94-2.06 2.06-.94-2.06-.94-.94-2.06-.94 2.06-2.06.94z\"/><path d=\"M17.41 7.96l-1.37-1.37c-.4-.4-.92-.59-1.43-.59-.52 0-1.04.2-1.43.59L10.3 9.45l-7.72 7.72c-.78.78-.78 2.05 0 2.83L4 21.41c.39.39.9.59 1.41.59.51 0 1.02-.2 1.41-.59l7.78-7.78 2.81-2.81c.8-.78.8-2.07 0-2.86zM5.41 20L4 18.59l7.72-7.72 1.47 1.35L5.41 20z\"/>\n",
              "  </svg>\n",
              "      </button>\n",
              "      \n",
              "  <style>\n",
              "    .colab-df-container {\n",
              "      display:flex;\n",
              "      flex-wrap:wrap;\n",
              "      gap: 12px;\n",
              "    }\n",
              "\n",
              "    .colab-df-convert {\n",
              "      background-color: #E8F0FE;\n",
              "      border: none;\n",
              "      border-radius: 50%;\n",
              "      cursor: pointer;\n",
              "      display: none;\n",
              "      fill: #1967D2;\n",
              "      height: 32px;\n",
              "      padding: 0 0 0 0;\n",
              "      width: 32px;\n",
              "    }\n",
              "\n",
              "    .colab-df-convert:hover {\n",
              "      background-color: #E2EBFA;\n",
              "      box-shadow: 0px 1px 2px rgba(60, 64, 67, 0.3), 0px 1px 3px 1px rgba(60, 64, 67, 0.15);\n",
              "      fill: #174EA6;\n",
              "    }\n",
              "\n",
              "    [theme=dark] .colab-df-convert {\n",
              "      background-color: #3B4455;\n",
              "      fill: #D2E3FC;\n",
              "    }\n",
              "\n",
              "    [theme=dark] .colab-df-convert:hover {\n",
              "      background-color: #434B5C;\n",
              "      box-shadow: 0px 1px 3px 1px rgba(0, 0, 0, 0.15);\n",
              "      filter: drop-shadow(0px 1px 2px rgba(0, 0, 0, 0.3));\n",
              "      fill: #FFFFFF;\n",
              "    }\n",
              "  </style>\n",
              "\n",
              "      <script>\n",
              "        const buttonEl =\n",
              "          document.querySelector('#df-ecf584ce-1022-489f-9699-4d753b1d386a button.colab-df-convert');\n",
              "        buttonEl.style.display =\n",
              "          google.colab.kernel.accessAllowed ? 'block' : 'none';\n",
              "\n",
              "        async function convertToInteractive(key) {\n",
              "          const element = document.querySelector('#df-ecf584ce-1022-489f-9699-4d753b1d386a');\n",
              "          const dataTable =\n",
              "            await google.colab.kernel.invokeFunction('convertToInteractive',\n",
              "                                                     [key], {});\n",
              "          if (!dataTable) return;\n",
              "\n",
              "          const docLinkHtml = 'Like what you see? Visit the ' +\n",
              "            '<a target=\"_blank\" href=https://colab.research.google.com/notebooks/data_table.ipynb>data table notebook</a>'\n",
              "            + ' to learn more about interactive tables.';\n",
              "          element.innerHTML = '';\n",
              "          dataTable['output_type'] = 'display_data';\n",
              "          await google.colab.output.renderOutput(dataTable, element);\n",
              "          const docLink = document.createElement('div');\n",
              "          docLink.innerHTML = docLinkHtml;\n",
              "          element.appendChild(docLink);\n",
              "        }\n",
              "      </script>\n",
              "    </div>\n",
              "  </div>\n",
              "  "
            ]
          },
          "metadata": {}
        }
      ],
      "source": [
        "#просмотр данных\n",
        "description(donations)"
      ]
    },
    {
      "cell_type": "code",
      "execution_count": null,
      "id": "ed142d1d",
      "metadata": {
        "id": "ed142d1d"
      },
      "outputs": [],
      "source": [
        "#переименование столбцов\n",
        "donations = donations.rename(columns = {'Donor ID' : 'donor_id', 'Сумма платежа':'amount','Дата платежа' : 'date', \n",
        "                          'Назначение платежа' : 'purpose', 'Рекуррентный':'is_reccurent', 'Канал оплаты':'channel' })"
      ]
    },
    {
      "cell_type": "markdown",
      "id": "097e6978",
      "metadata": {
        "id": "097e6978"
      },
      "source": [
        "Вывод по качеству данных:\n",
        "- типы данных соответсвуют;\n",
        "- дубликатов нет;\n",
        "- пропущены значения по столбцу 'meaning', их доля составляет меньше 2%;\n",
        "- названия столбцов привели к стандратному виду"
      ]
    },
    {
      "cell_type": "code",
      "execution_count": null,
      "id": "cbe1119c",
      "metadata": {
        "id": "cbe1119c"
      },
      "outputs": [],
      "source": [
        "#чтение данных\n",
        "donors=pd.read_excel('/content/charity.xlsx', sheet_name='Доноры')"
      ]
    },
    {
      "cell_type": "code",
      "execution_count": null,
      "id": "01f45177",
      "metadata": {
        "colab": {
          "base_uri": "https://localhost:8080/",
          "height": 834
        },
        "id": "01f45177",
        "outputId": "38a2f876-28fa-4c0f-e0c8-5f36842c1e35"
      },
      "outputs": [
        {
          "output_type": "stream",
          "name": "stdout",
          "text": [
            "\u001b[1mПолучение общей информации о данных в таблице:\u001b[0m\n",
            "<class 'pandas.core.frame.DataFrame'>\n",
            "RangeIndex: 3683 entries, 0 to 3682\n",
            "Data columns (total 4 columns):\n",
            " #   Column                           Non-Null Count  Dtype         \n",
            "---  ------                           --------------  -----         \n",
            " 0   ID                               3683 non-null   object        \n",
            " 1   Пол                              2431 non-null   object        \n",
            " 2   Город                            1015 non-null   object        \n",
            " 3   Дата последней email активности  1835 non-null   datetime64[ns]\n",
            "dtypes: datetime64[ns](1), object(3)\n",
            "memory usage: 115.2+ KB\n"
          ]
        },
        {
          "output_type": "display_data",
          "data": {
            "text/plain": [
              "None"
            ]
          },
          "metadata": {}
        },
        {
          "output_type": "stream",
          "name": "stdout",
          "text": [
            "\u001b[1mКоличество строк и столбцов:\u001b[0m\n"
          ]
        },
        {
          "output_type": "display_data",
          "data": {
            "text/plain": [
              "(3683, 4)"
            ]
          },
          "metadata": {}
        },
        {
          "output_type": "stream",
          "name": "stdout",
          "text": [
            "\u001b[1mПодсчёт пропусков в таблице:\u001b[0m\n"
          ]
        },
        {
          "output_type": "display_data",
          "data": {
            "text/plain": [
              "<pandas.io.formats.style.Styler at 0x7f4835ab2110>"
            ],
            "text/html": [
              "<style type=\"text/css\">\n",
              "</style>\n",
              "<table id=\"T_c17ba_\" class=\"dataframe\">\n",
              "  <thead>\n",
              "    <tr>\n",
              "      <th class=\"blank level0\" >&nbsp;</th>\n",
              "      <th class=\"col_heading level0 col0\" >кол-во</th>\n",
              "      <th class=\"col_heading level0 col1\" >доля</th>\n",
              "    </tr>\n",
              "  </thead>\n",
              "  <tbody>\n",
              "    <tr>\n",
              "      <th id=\"T_c17ba_level0_row0\" class=\"row_heading level0 row0\" >ID</th>\n",
              "      <td id=\"T_c17ba_row0_col0\" class=\"data row0 col0\" >0</td>\n",
              "      <td id=\"T_c17ba_row0_col1\" class=\"data row0 col1\" >0.00%</td>\n",
              "    </tr>\n",
              "    <tr>\n",
              "      <th id=\"T_c17ba_level0_row1\" class=\"row_heading level0 row1\" >Пол</th>\n",
              "      <td id=\"T_c17ba_row1_col0\" class=\"data row1 col0\" >1252</td>\n",
              "      <td id=\"T_c17ba_row1_col1\" class=\"data row1 col1\" >33.99%</td>\n",
              "    </tr>\n",
              "    <tr>\n",
              "      <th id=\"T_c17ba_level0_row2\" class=\"row_heading level0 row2\" >Город</th>\n",
              "      <td id=\"T_c17ba_row2_col0\" class=\"data row2 col0\" >2668</td>\n",
              "      <td id=\"T_c17ba_row2_col1\" class=\"data row2 col1\" >72.44%</td>\n",
              "    </tr>\n",
              "    <tr>\n",
              "      <th id=\"T_c17ba_level0_row3\" class=\"row_heading level0 row3\" >Дата последней email активности</th>\n",
              "      <td id=\"T_c17ba_row3_col0\" class=\"data row3 col0\" >1848</td>\n",
              "      <td id=\"T_c17ba_row3_col1\" class=\"data row3 col1\" >50.18%</td>\n",
              "    </tr>\n",
              "  </tbody>\n",
              "</table>\n"
            ]
          },
          "metadata": {}
        },
        {
          "output_type": "stream",
          "name": "stdout",
          "text": [
            "\u001b[1mНаличие дубликатов в таблице:\u001b[0m\n"
          ]
        },
        {
          "output_type": "display_data",
          "data": {
            "text/plain": [
              "0"
            ]
          },
          "metadata": {}
        },
        {
          "output_type": "stream",
          "name": "stdout",
          "text": [
            "\u001b[1mДоля дубликатов в таблице:\u001b[0m\n"
          ]
        },
        {
          "output_type": "display_data",
          "data": {
            "text/plain": [
              "'0.000%'"
            ],
            "application/vnd.google.colaboratory.intrinsic+json": {
              "type": "string"
            }
          },
          "metadata": {}
        },
        {
          "output_type": "stream",
          "name": "stdout",
          "text": [
            "\u001b[1mУникальные значения в таблице:\u001b[0m\n"
          ]
        },
        {
          "output_type": "display_data",
          "data": {
            "text/plain": [
              "ID                                 3683\n",
              "Пол                                   2\n",
              "Город                               234\n",
              "Дата последней email активности     653\n",
              "dtype: int64"
            ]
          },
          "metadata": {}
        },
        {
          "output_type": "stream",
          "name": "stdout",
          "text": [
            "\u001b[1mВывод первых пяти строк из таблицы:\u001b[0m\n"
          ]
        },
        {
          "output_type": "display_data",
          "data": {
            "text/plain": [
              "                                     ID  \\\n",
              "0  AF575B85-917F-475D-8875-00055586E05B   \n",
              "1  229A9B43-3A15-4A48-8CB6-000EDB240D50   \n",
              "2  C6606486-05A8-4437-ACF9-00344E54FEE1   \n",
              "3  6ED86154-A688-4A11-868F-006209035413   \n",
              "4  46C41E20-EA56-4698-9C37-00692FD6FFE8   \n",
              "\n",
              "                                                 Пол Город  \\\n",
              "0                                                NaN   NaN   \n",
              "1                                                NaN   NaN   \n",
              "2                                                NaN   NaN   \n",
              "3  Женский                                       ...   NaN   \n",
              "4  Женский                                       ...   NaN   \n",
              "\n",
              "  Дата последней email активности  \n",
              "0                             NaT  \n",
              "1                             NaT  \n",
              "2                             NaT  \n",
              "3                             NaT  \n",
              "4                             NaT  "
            ],
            "text/html": [
              "\n",
              "  <div id=\"df-27363429-0759-4e14-8bdc-1ab89cf20d3e\">\n",
              "    <div class=\"colab-df-container\">\n",
              "      <div>\n",
              "<style scoped>\n",
              "    .dataframe tbody tr th:only-of-type {\n",
              "        vertical-align: middle;\n",
              "    }\n",
              "\n",
              "    .dataframe tbody tr th {\n",
              "        vertical-align: top;\n",
              "    }\n",
              "\n",
              "    .dataframe thead th {\n",
              "        text-align: right;\n",
              "    }\n",
              "</style>\n",
              "<table border=\"1\" class=\"dataframe\">\n",
              "  <thead>\n",
              "    <tr style=\"text-align: right;\">\n",
              "      <th></th>\n",
              "      <th>ID</th>\n",
              "      <th>Пол</th>\n",
              "      <th>Город</th>\n",
              "      <th>Дата последней email активности</th>\n",
              "    </tr>\n",
              "  </thead>\n",
              "  <tbody>\n",
              "    <tr>\n",
              "      <th>0</th>\n",
              "      <td>AF575B85-917F-475D-8875-00055586E05B</td>\n",
              "      <td>NaN</td>\n",
              "      <td>NaN</td>\n",
              "      <td>NaT</td>\n",
              "    </tr>\n",
              "    <tr>\n",
              "      <th>1</th>\n",
              "      <td>229A9B43-3A15-4A48-8CB6-000EDB240D50</td>\n",
              "      <td>NaN</td>\n",
              "      <td>NaN</td>\n",
              "      <td>NaT</td>\n",
              "    </tr>\n",
              "    <tr>\n",
              "      <th>2</th>\n",
              "      <td>C6606486-05A8-4437-ACF9-00344E54FEE1</td>\n",
              "      <td>NaN</td>\n",
              "      <td>NaN</td>\n",
              "      <td>NaT</td>\n",
              "    </tr>\n",
              "    <tr>\n",
              "      <th>3</th>\n",
              "      <td>6ED86154-A688-4A11-868F-006209035413</td>\n",
              "      <td>Женский                                       ...</td>\n",
              "      <td>NaN</td>\n",
              "      <td>NaT</td>\n",
              "    </tr>\n",
              "    <tr>\n",
              "      <th>4</th>\n",
              "      <td>46C41E20-EA56-4698-9C37-00692FD6FFE8</td>\n",
              "      <td>Женский                                       ...</td>\n",
              "      <td>NaN</td>\n",
              "      <td>NaT</td>\n",
              "    </tr>\n",
              "  </tbody>\n",
              "</table>\n",
              "</div>\n",
              "      <button class=\"colab-df-convert\" onclick=\"convertToInteractive('df-27363429-0759-4e14-8bdc-1ab89cf20d3e')\"\n",
              "              title=\"Convert this dataframe to an interactive table.\"\n",
              "              style=\"display:none;\">\n",
              "        \n",
              "  <svg xmlns=\"http://www.w3.org/2000/svg\" height=\"24px\"viewBox=\"0 0 24 24\"\n",
              "       width=\"24px\">\n",
              "    <path d=\"M0 0h24v24H0V0z\" fill=\"none\"/>\n",
              "    <path d=\"M18.56 5.44l.94 2.06.94-2.06 2.06-.94-2.06-.94-.94-2.06-.94 2.06-2.06.94zm-11 1L8.5 8.5l.94-2.06 2.06-.94-2.06-.94L8.5 2.5l-.94 2.06-2.06.94zm10 10l.94 2.06.94-2.06 2.06-.94-2.06-.94-.94-2.06-.94 2.06-2.06.94z\"/><path d=\"M17.41 7.96l-1.37-1.37c-.4-.4-.92-.59-1.43-.59-.52 0-1.04.2-1.43.59L10.3 9.45l-7.72 7.72c-.78.78-.78 2.05 0 2.83L4 21.41c.39.39.9.59 1.41.59.51 0 1.02-.2 1.41-.59l7.78-7.78 2.81-2.81c.8-.78.8-2.07 0-2.86zM5.41 20L4 18.59l7.72-7.72 1.47 1.35L5.41 20z\"/>\n",
              "  </svg>\n",
              "      </button>\n",
              "      \n",
              "  <style>\n",
              "    .colab-df-container {\n",
              "      display:flex;\n",
              "      flex-wrap:wrap;\n",
              "      gap: 12px;\n",
              "    }\n",
              "\n",
              "    .colab-df-convert {\n",
              "      background-color: #E8F0FE;\n",
              "      border: none;\n",
              "      border-radius: 50%;\n",
              "      cursor: pointer;\n",
              "      display: none;\n",
              "      fill: #1967D2;\n",
              "      height: 32px;\n",
              "      padding: 0 0 0 0;\n",
              "      width: 32px;\n",
              "    }\n",
              "\n",
              "    .colab-df-convert:hover {\n",
              "      background-color: #E2EBFA;\n",
              "      box-shadow: 0px 1px 2px rgba(60, 64, 67, 0.3), 0px 1px 3px 1px rgba(60, 64, 67, 0.15);\n",
              "      fill: #174EA6;\n",
              "    }\n",
              "\n",
              "    [theme=dark] .colab-df-convert {\n",
              "      background-color: #3B4455;\n",
              "      fill: #D2E3FC;\n",
              "    }\n",
              "\n",
              "    [theme=dark] .colab-df-convert:hover {\n",
              "      background-color: #434B5C;\n",
              "      box-shadow: 0px 1px 3px 1px rgba(0, 0, 0, 0.15);\n",
              "      filter: drop-shadow(0px 1px 2px rgba(0, 0, 0, 0.3));\n",
              "      fill: #FFFFFF;\n",
              "    }\n",
              "  </style>\n",
              "\n",
              "      <script>\n",
              "        const buttonEl =\n",
              "          document.querySelector('#df-27363429-0759-4e14-8bdc-1ab89cf20d3e button.colab-df-convert');\n",
              "        buttonEl.style.display =\n",
              "          google.colab.kernel.accessAllowed ? 'block' : 'none';\n",
              "\n",
              "        async function convertToInteractive(key) {\n",
              "          const element = document.querySelector('#df-27363429-0759-4e14-8bdc-1ab89cf20d3e');\n",
              "          const dataTable =\n",
              "            await google.colab.kernel.invokeFunction('convertToInteractive',\n",
              "                                                     [key], {});\n",
              "          if (!dataTable) return;\n",
              "\n",
              "          const docLinkHtml = 'Like what you see? Visit the ' +\n",
              "            '<a target=\"_blank\" href=https://colab.research.google.com/notebooks/data_table.ipynb>data table notebook</a>'\n",
              "            + ' to learn more about interactive tables.';\n",
              "          element.innerHTML = '';\n",
              "          dataTable['output_type'] = 'display_data';\n",
              "          await google.colab.output.renderOutput(dataTable, element);\n",
              "          const docLink = document.createElement('div');\n",
              "          docLink.innerHTML = docLinkHtml;\n",
              "          element.appendChild(docLink);\n",
              "        }\n",
              "      </script>\n",
              "    </div>\n",
              "  </div>\n",
              "  "
            ]
          },
          "metadata": {}
        }
      ],
      "source": [
        "#просмотр данных\n",
        "description(donors)"
      ]
    },
    {
      "cell_type": "code",
      "execution_count": null,
      "id": "b1daa3c6",
      "metadata": {
        "id": "b1daa3c6"
      },
      "outputs": [],
      "source": [
        "#переименование столбцов\n",
        "donors = donors.rename(columns = {'ID' : 'donor_id', 'Пол' : 'gender','Город' : 'city', \n",
        "                          'Дата последней email активности' : 'last_email_dt'})"
      ]
    },
    {
      "cell_type": "markdown",
      "source": [
        "Вывод: \n",
        "- типы данных соответствующие;\n",
        "- пропущенные значения по столбцам присутствуют;\n",
        "- всего уникальных доноров 3683;\n",
        "- названия столбцов привели к общему виду"
      ],
      "metadata": {
        "id": "nOye4uj2D3uz"
      },
      "id": "nOye4uj2D3uz"
    },
    {
      "cell_type": "code",
      "source": [
        ""
      ],
      "metadata": {
        "id": "PdAfpHZ7wVjL"
      },
      "id": "PdAfpHZ7wVjL",
      "execution_count": null,
      "outputs": []
    },
    {
      "cell_type": "markdown",
      "id": "60cf4384",
      "metadata": {
        "id": "60cf4384"
      },
      "source": [
        "## Исследовательский анализ данных"
      ]
    },
    {
      "cell_type": "markdown",
      "id": "75aeef3a",
      "metadata": {
        "id": "75aeef3a"
      },
      "source": [
        "### Изучение столбца meaning - назначение платежа"
      ]
    },
    {
      "cell_type": "code",
      "execution_count": null,
      "id": "dcda3ca5",
      "metadata": {
        "id": "dcda3ca5"
      },
      "outputs": [],
      "source": [
        "#объединение таблиц\n",
        "dd = donations.merge(donors, on='donor_id', how='left')"
      ]
    },
    {
      "cell_type": "code",
      "source": [
        "#удалим пробелы в начале и в конце строк, приведем все записи к нижнему регистру\n",
        "for column in dd.select_dtypes(\"object\").columns:\n",
        "    dd[column] = dd[column].str.lower()\n",
        "    dd[column] = dd[column].str.strip()"
      ],
      "metadata": {
        "id": "F0U3ycrerKHa"
      },
      "id": "F0U3ycrerKHa",
      "execution_count": null,
      "outputs": []
    },
    {
      "cell_type": "code",
      "execution_count": null,
      "id": "3f65f7c2",
      "metadata": {
        "colab": {
          "base_uri": "https://localhost:8080/",
          "height": 175
        },
        "id": "3f65f7c2",
        "outputId": "c7047aed-971f-4329-e9c7-cfa6ade343e0"
      },
      "outputs": [
        {
          "output_type": "execute_result",
          "data": {
            "text/plain": [
              "                              donor_id        \n",
              "                                 count nunique\n",
              "is_reccurent channel                          \n",
              "нет          sms                  1221    1053\n",
              "             банковские карты       49      38"
            ],
            "text/html": [
              "\n",
              "  <div id=\"df-7ac43197-4cfb-46da-9942-ade697742a12\">\n",
              "    <div class=\"colab-df-container\">\n",
              "      <div>\n",
              "<style scoped>\n",
              "    .dataframe tbody tr th:only-of-type {\n",
              "        vertical-align: middle;\n",
              "    }\n",
              "\n",
              "    .dataframe tbody tr th {\n",
              "        vertical-align: top;\n",
              "    }\n",
              "\n",
              "    .dataframe thead tr th {\n",
              "        text-align: left;\n",
              "    }\n",
              "\n",
              "    .dataframe thead tr:last-of-type th {\n",
              "        text-align: right;\n",
              "    }\n",
              "</style>\n",
              "<table border=\"1\" class=\"dataframe\">\n",
              "  <thead>\n",
              "    <tr>\n",
              "      <th></th>\n",
              "      <th></th>\n",
              "      <th colspan=\"2\" halign=\"left\">donor_id</th>\n",
              "    </tr>\n",
              "    <tr>\n",
              "      <th></th>\n",
              "      <th></th>\n",
              "      <th>count</th>\n",
              "      <th>nunique</th>\n",
              "    </tr>\n",
              "    <tr>\n",
              "      <th>is_reccurent</th>\n",
              "      <th>channel</th>\n",
              "      <th></th>\n",
              "      <th></th>\n",
              "    </tr>\n",
              "  </thead>\n",
              "  <tbody>\n",
              "    <tr>\n",
              "      <th rowspan=\"2\" valign=\"top\">нет</th>\n",
              "      <th>sms</th>\n",
              "      <td>1221</td>\n",
              "      <td>1053</td>\n",
              "    </tr>\n",
              "    <tr>\n",
              "      <th>банковские карты</th>\n",
              "      <td>49</td>\n",
              "      <td>38</td>\n",
              "    </tr>\n",
              "  </tbody>\n",
              "</table>\n",
              "</div>\n",
              "      <button class=\"colab-df-convert\" onclick=\"convertToInteractive('df-7ac43197-4cfb-46da-9942-ade697742a12')\"\n",
              "              title=\"Convert this dataframe to an interactive table.\"\n",
              "              style=\"display:none;\">\n",
              "        \n",
              "  <svg xmlns=\"http://www.w3.org/2000/svg\" height=\"24px\"viewBox=\"0 0 24 24\"\n",
              "       width=\"24px\">\n",
              "    <path d=\"M0 0h24v24H0V0z\" fill=\"none\"/>\n",
              "    <path d=\"M18.56 5.44l.94 2.06.94-2.06 2.06-.94-2.06-.94-.94-2.06-.94 2.06-2.06.94zm-11 1L8.5 8.5l.94-2.06 2.06-.94-2.06-.94L8.5 2.5l-.94 2.06-2.06.94zm10 10l.94 2.06.94-2.06 2.06-.94-2.06-.94-.94-2.06-.94 2.06-2.06.94z\"/><path d=\"M17.41 7.96l-1.37-1.37c-.4-.4-.92-.59-1.43-.59-.52 0-1.04.2-1.43.59L10.3 9.45l-7.72 7.72c-.78.78-.78 2.05 0 2.83L4 21.41c.39.39.9.59 1.41.59.51 0 1.02-.2 1.41-.59l7.78-7.78 2.81-2.81c.8-.78.8-2.07 0-2.86zM5.41 20L4 18.59l7.72-7.72 1.47 1.35L5.41 20z\"/>\n",
              "  </svg>\n",
              "      </button>\n",
              "      \n",
              "  <style>\n",
              "    .colab-df-container {\n",
              "      display:flex;\n",
              "      flex-wrap:wrap;\n",
              "      gap: 12px;\n",
              "    }\n",
              "\n",
              "    .colab-df-convert {\n",
              "      background-color: #E8F0FE;\n",
              "      border: none;\n",
              "      border-radius: 50%;\n",
              "      cursor: pointer;\n",
              "      display: none;\n",
              "      fill: #1967D2;\n",
              "      height: 32px;\n",
              "      padding: 0 0 0 0;\n",
              "      width: 32px;\n",
              "    }\n",
              "\n",
              "    .colab-df-convert:hover {\n",
              "      background-color: #E2EBFA;\n",
              "      box-shadow: 0px 1px 2px rgba(60, 64, 67, 0.3), 0px 1px 3px 1px rgba(60, 64, 67, 0.15);\n",
              "      fill: #174EA6;\n",
              "    }\n",
              "\n",
              "    [theme=dark] .colab-df-convert {\n",
              "      background-color: #3B4455;\n",
              "      fill: #D2E3FC;\n",
              "    }\n",
              "\n",
              "    [theme=dark] .colab-df-convert:hover {\n",
              "      background-color: #434B5C;\n",
              "      box-shadow: 0px 1px 3px 1px rgba(0, 0, 0, 0.15);\n",
              "      filter: drop-shadow(0px 1px 2px rgba(0, 0, 0, 0.3));\n",
              "      fill: #FFFFFF;\n",
              "    }\n",
              "  </style>\n",
              "\n",
              "      <script>\n",
              "        const buttonEl =\n",
              "          document.querySelector('#df-7ac43197-4cfb-46da-9942-ade697742a12 button.colab-df-convert');\n",
              "        buttonEl.style.display =\n",
              "          google.colab.kernel.accessAllowed ? 'block' : 'none';\n",
              "\n",
              "        async function convertToInteractive(key) {\n",
              "          const element = document.querySelector('#df-7ac43197-4cfb-46da-9942-ade697742a12');\n",
              "          const dataTable =\n",
              "            await google.colab.kernel.invokeFunction('convertToInteractive',\n",
              "                                                     [key], {});\n",
              "          if (!dataTable) return;\n",
              "\n",
              "          const docLinkHtml = 'Like what you see? Visit the ' +\n",
              "            '<a target=\"_blank\" href=https://colab.research.google.com/notebooks/data_table.ipynb>data table notebook</a>'\n",
              "            + ' to learn more about interactive tables.';\n",
              "          element.innerHTML = '';\n",
              "          dataTable['output_type'] = 'display_data';\n",
              "          await google.colab.output.renderOutput(dataTable, element);\n",
              "          const docLink = document.createElement('div');\n",
              "          docLink.innerHTML = docLinkHtml;\n",
              "          element.appendChild(docLink);\n",
              "        }\n",
              "      </script>\n",
              "    </div>\n",
              "  </div>\n",
              "  "
            ]
          },
          "metadata": {},
          "execution_count": 14
        }
      ],
      "source": [
        "#просмотр пропущенных значений по столбцу назначения платежа\n",
        "dd['purpose'] = dd['purpose'].astype('str')\n",
        "(\n",
        "    dd[dd['purpose'] == 'nan'].\n",
        " groupby(['is_reccurent','channel']).\n",
        " agg({'donor_id':['count','nunique']})\n",
        " )"
      ]
    },
    {
      "cell_type": "markdown",
      "id": "c9526727",
      "metadata": {
        "id": "c9526727"
      },
      "source": [
        "Вывод: Можем сделать вывод, что пожертвования, у которых не указана назначение, являются нерекурентными и чаще всего совершают через SMS. Для них в столбце назначение платежа можно проставить SMS. Это может свидетельствовать о единоразовом пожертвовании, скорее всего заинтересованность у таких доноров минимальна."
      ]
    },
    {
      "cell_type": "markdown",
      "source": [
        "#### **Первый вариант группировки для столбца назнечения платежей**"
      ],
      "metadata": {
        "id": "PoTQS6Jlwb0z"
      },
      "id": "PoTQS6Jlwb0z"
    },
    {
      "cell_type": "code",
      "source": [
        "with pd.option_context(\"display.max_rows\", 1000):\n",
        "  display(dd['purpose'].value_counts().reset_index().head(30))"
      ],
      "metadata": {
        "colab": {
          "base_uri": "https://localhost:8080/",
          "height": 990
        },
        "id": "qsuitcC5qrFN",
        "outputId": "6feeacb0-5d26-4604-f665-3107ae3ec2a7"
      },
      "id": "qsuitcC5qrFN",
      "execution_count": null,
      "outputs": [
        {
          "output_type": "display_data",
          "data": {
            "text/plain": [
              "                                                index  purpose\n",
              "0                                       пожертвование     3837\n",
              "1   пожертвование в фонд помощи детям-отказникам и...     3335\n",
              "2                            пожертвование  undefined     2162\n",
              "3                                                 nan     1270\n",
              "4       добровольное пожертвование. ндс не облагается      497\n",
              "5                                             sms bdd      253\n",
              "6                           пожертвование клуб друзей      127\n",
              "7              на психологические консультации артёму       87\n",
              "8                        пожертвование без назначения       72\n",
              "9                    пожертвование на обучение артёма       62\n",
              "10               пожертвование на обучение александры       59\n",
              "11               день рождения со смыслом_м. виторган       55\n",
              "12                                    на работу фонда       42\n",
              "13                        на программу история успеха       38\n",
              "14                                 на ресурсный центр       36\n",
              "15                         добровольное пожертвование       36\n",
              "16                                на обучение дмитрия       35\n",
              "17                            на программу окно в мир       35\n",
              "18                      на обучение саши в мастерской       33\n",
              "19                             на обучение александра       31\n",
              "20                                  на тьютора ренате       31\n",
              "21                    на обучение романа в мастерской       29\n",
              "22                           московские каникулы 2022       28\n",
              "23                                 на обучение наташи       28\n",
              "24                                на обучение даниила       27\n",
              "25                                 на обучение фёдора       26\n",
              "26                                 на обучение валеры       26\n",
              "27                     на психологическую помощь лизе       25\n",
              "28                на обучение владимира​ в мастерской       25\n",
              "29                               на обучение светланы       25"
            ],
            "text/html": [
              "\n",
              "  <div id=\"df-28682690-e3f9-429a-8d50-05b67c848332\">\n",
              "    <div class=\"colab-df-container\">\n",
              "      <div>\n",
              "<style scoped>\n",
              "    .dataframe tbody tr th:only-of-type {\n",
              "        vertical-align: middle;\n",
              "    }\n",
              "\n",
              "    .dataframe tbody tr th {\n",
              "        vertical-align: top;\n",
              "    }\n",
              "\n",
              "    .dataframe thead th {\n",
              "        text-align: right;\n",
              "    }\n",
              "</style>\n",
              "<table border=\"1\" class=\"dataframe\">\n",
              "  <thead>\n",
              "    <tr style=\"text-align: right;\">\n",
              "      <th></th>\n",
              "      <th>index</th>\n",
              "      <th>purpose</th>\n",
              "    </tr>\n",
              "  </thead>\n",
              "  <tbody>\n",
              "    <tr>\n",
              "      <th>0</th>\n",
              "      <td>пожертвование</td>\n",
              "      <td>3837</td>\n",
              "    </tr>\n",
              "    <tr>\n",
              "      <th>1</th>\n",
              "      <td>пожертвование в фонд помощи детям-отказникам и...</td>\n",
              "      <td>3335</td>\n",
              "    </tr>\n",
              "    <tr>\n",
              "      <th>2</th>\n",
              "      <td>пожертвование  undefined</td>\n",
              "      <td>2162</td>\n",
              "    </tr>\n",
              "    <tr>\n",
              "      <th>3</th>\n",
              "      <td>nan</td>\n",
              "      <td>1270</td>\n",
              "    </tr>\n",
              "    <tr>\n",
              "      <th>4</th>\n",
              "      <td>добровольное пожертвование. ндс не облагается</td>\n",
              "      <td>497</td>\n",
              "    </tr>\n",
              "    <tr>\n",
              "      <th>5</th>\n",
              "      <td>sms bdd</td>\n",
              "      <td>253</td>\n",
              "    </tr>\n",
              "    <tr>\n",
              "      <th>6</th>\n",
              "      <td>пожертвование клуб друзей</td>\n",
              "      <td>127</td>\n",
              "    </tr>\n",
              "    <tr>\n",
              "      <th>7</th>\n",
              "      <td>на психологические консультации артёму</td>\n",
              "      <td>87</td>\n",
              "    </tr>\n",
              "    <tr>\n",
              "      <th>8</th>\n",
              "      <td>пожертвование без назначения</td>\n",
              "      <td>72</td>\n",
              "    </tr>\n",
              "    <tr>\n",
              "      <th>9</th>\n",
              "      <td>пожертвование на обучение артёма</td>\n",
              "      <td>62</td>\n",
              "    </tr>\n",
              "    <tr>\n",
              "      <th>10</th>\n",
              "      <td>пожертвование на обучение александры</td>\n",
              "      <td>59</td>\n",
              "    </tr>\n",
              "    <tr>\n",
              "      <th>11</th>\n",
              "      <td>день рождения со смыслом_м. виторган</td>\n",
              "      <td>55</td>\n",
              "    </tr>\n",
              "    <tr>\n",
              "      <th>12</th>\n",
              "      <td>на работу фонда</td>\n",
              "      <td>42</td>\n",
              "    </tr>\n",
              "    <tr>\n",
              "      <th>13</th>\n",
              "      <td>на программу история успеха</td>\n",
              "      <td>38</td>\n",
              "    </tr>\n",
              "    <tr>\n",
              "      <th>14</th>\n",
              "      <td>на ресурсный центр</td>\n",
              "      <td>36</td>\n",
              "    </tr>\n",
              "    <tr>\n",
              "      <th>15</th>\n",
              "      <td>добровольное пожертвование</td>\n",
              "      <td>36</td>\n",
              "    </tr>\n",
              "    <tr>\n",
              "      <th>16</th>\n",
              "      <td>на обучение дмитрия</td>\n",
              "      <td>35</td>\n",
              "    </tr>\n",
              "    <tr>\n",
              "      <th>17</th>\n",
              "      <td>на программу окно в мир</td>\n",
              "      <td>35</td>\n",
              "    </tr>\n",
              "    <tr>\n",
              "      <th>18</th>\n",
              "      <td>на обучение саши в мастерской</td>\n",
              "      <td>33</td>\n",
              "    </tr>\n",
              "    <tr>\n",
              "      <th>19</th>\n",
              "      <td>на обучение александра</td>\n",
              "      <td>31</td>\n",
              "    </tr>\n",
              "    <tr>\n",
              "      <th>20</th>\n",
              "      <td>на тьютора ренате</td>\n",
              "      <td>31</td>\n",
              "    </tr>\n",
              "    <tr>\n",
              "      <th>21</th>\n",
              "      <td>на обучение романа в мастерской</td>\n",
              "      <td>29</td>\n",
              "    </tr>\n",
              "    <tr>\n",
              "      <th>22</th>\n",
              "      <td>московские каникулы 2022</td>\n",
              "      <td>28</td>\n",
              "    </tr>\n",
              "    <tr>\n",
              "      <th>23</th>\n",
              "      <td>на обучение наташи</td>\n",
              "      <td>28</td>\n",
              "    </tr>\n",
              "    <tr>\n",
              "      <th>24</th>\n",
              "      <td>на обучение даниила</td>\n",
              "      <td>27</td>\n",
              "    </tr>\n",
              "    <tr>\n",
              "      <th>25</th>\n",
              "      <td>на обучение фёдора</td>\n",
              "      <td>26</td>\n",
              "    </tr>\n",
              "    <tr>\n",
              "      <th>26</th>\n",
              "      <td>на обучение валеры</td>\n",
              "      <td>26</td>\n",
              "    </tr>\n",
              "    <tr>\n",
              "      <th>27</th>\n",
              "      <td>на психологическую помощь лизе</td>\n",
              "      <td>25</td>\n",
              "    </tr>\n",
              "    <tr>\n",
              "      <th>28</th>\n",
              "      <td>на обучение владимира​ в мастерской</td>\n",
              "      <td>25</td>\n",
              "    </tr>\n",
              "    <tr>\n",
              "      <th>29</th>\n",
              "      <td>на обучение светланы</td>\n",
              "      <td>25</td>\n",
              "    </tr>\n",
              "  </tbody>\n",
              "</table>\n",
              "</div>\n",
              "      <button class=\"colab-df-convert\" onclick=\"convertToInteractive('df-28682690-e3f9-429a-8d50-05b67c848332')\"\n",
              "              title=\"Convert this dataframe to an interactive table.\"\n",
              "              style=\"display:none;\">\n",
              "        \n",
              "  <svg xmlns=\"http://www.w3.org/2000/svg\" height=\"24px\"viewBox=\"0 0 24 24\"\n",
              "       width=\"24px\">\n",
              "    <path d=\"M0 0h24v24H0V0z\" fill=\"none\"/>\n",
              "    <path d=\"M18.56 5.44l.94 2.06.94-2.06 2.06-.94-2.06-.94-.94-2.06-.94 2.06-2.06.94zm-11 1L8.5 8.5l.94-2.06 2.06-.94-2.06-.94L8.5 2.5l-.94 2.06-2.06.94zm10 10l.94 2.06.94-2.06 2.06-.94-2.06-.94-.94-2.06-.94 2.06-2.06.94z\"/><path d=\"M17.41 7.96l-1.37-1.37c-.4-.4-.92-.59-1.43-.59-.52 0-1.04.2-1.43.59L10.3 9.45l-7.72 7.72c-.78.78-.78 2.05 0 2.83L4 21.41c.39.39.9.59 1.41.59.51 0 1.02-.2 1.41-.59l7.78-7.78 2.81-2.81c.8-.78.8-2.07 0-2.86zM5.41 20L4 18.59l7.72-7.72 1.47 1.35L5.41 20z\"/>\n",
              "  </svg>\n",
              "      </button>\n",
              "      \n",
              "  <style>\n",
              "    .colab-df-container {\n",
              "      display:flex;\n",
              "      flex-wrap:wrap;\n",
              "      gap: 12px;\n",
              "    }\n",
              "\n",
              "    .colab-df-convert {\n",
              "      background-color: #E8F0FE;\n",
              "      border: none;\n",
              "      border-radius: 50%;\n",
              "      cursor: pointer;\n",
              "      display: none;\n",
              "      fill: #1967D2;\n",
              "      height: 32px;\n",
              "      padding: 0 0 0 0;\n",
              "      width: 32px;\n",
              "    }\n",
              "\n",
              "    .colab-df-convert:hover {\n",
              "      background-color: #E2EBFA;\n",
              "      box-shadow: 0px 1px 2px rgba(60, 64, 67, 0.3), 0px 1px 3px 1px rgba(60, 64, 67, 0.15);\n",
              "      fill: #174EA6;\n",
              "    }\n",
              "\n",
              "    [theme=dark] .colab-df-convert {\n",
              "      background-color: #3B4455;\n",
              "      fill: #D2E3FC;\n",
              "    }\n",
              "\n",
              "    [theme=dark] .colab-df-convert:hover {\n",
              "      background-color: #434B5C;\n",
              "      box-shadow: 0px 1px 3px 1px rgba(0, 0, 0, 0.15);\n",
              "      filter: drop-shadow(0px 1px 2px rgba(0, 0, 0, 0.3));\n",
              "      fill: #FFFFFF;\n",
              "    }\n",
              "  </style>\n",
              "\n",
              "      <script>\n",
              "        const buttonEl =\n",
              "          document.querySelector('#df-28682690-e3f9-429a-8d50-05b67c848332 button.colab-df-convert');\n",
              "        buttonEl.style.display =\n",
              "          google.colab.kernel.accessAllowed ? 'block' : 'none';\n",
              "\n",
              "        async function convertToInteractive(key) {\n",
              "          const element = document.querySelector('#df-28682690-e3f9-429a-8d50-05b67c848332');\n",
              "          const dataTable =\n",
              "            await google.colab.kernel.invokeFunction('convertToInteractive',\n",
              "                                                     [key], {});\n",
              "          if (!dataTable) return;\n",
              "\n",
              "          const docLinkHtml = 'Like what you see? Visit the ' +\n",
              "            '<a target=\"_blank\" href=https://colab.research.google.com/notebooks/data_table.ipynb>data table notebook</a>'\n",
              "            + ' to learn more about interactive tables.';\n",
              "          element.innerHTML = '';\n",
              "          dataTable['output_type'] = 'display_data';\n",
              "          await google.colab.output.renderOutput(dataTable, element);\n",
              "          const docLink = document.createElement('div');\n",
              "          docLink.innerHTML = docLinkHtml;\n",
              "          element.appendChild(docLink);\n",
              "        }\n",
              "      </script>\n",
              "    </div>\n",
              "  </div>\n",
              "  "
            ]
          },
          "metadata": {}
        }
      ]
    },
    {
      "cell_type": "markdown",
      "id": "d886c240",
      "metadata": {
        "id": "d886c240"
      },
      "source": [
        "Исходя из данных и информации на сайте, можно предположить следующие варианты пожертвований: \n",
        "- регулярные пожертвования фонду, то есть оформление рекурентных платежей;\n",
        "- помощь конкретному ребенку, по программе, например, на обучение, на тьютора, на получение новой профессии;\n",
        "- также выделим категории возврат и sms, поскольку, в первом случае, нам непонятно что это значит, а во втором, как ранее убедились, такие пожертвования приходят без назначения платежей.\n"
      ]
    },
    {
      "cell_type": "code",
      "execution_count": null,
      "id": "94fc6567",
      "metadata": {
        "id": "94fc6567"
      },
      "outputs": [],
      "source": [
        "#создание собственной функции \n",
        "def rename (row):\n",
        "    if 'пожертвование' in row or 'взнос' in row or 'благотворит' in row:\n",
        "            return 'пожертвование' \n",
        "    if 'возврат' in row:\n",
        "            return 'возврат'\n",
        "    if 'nan'in row or 'sms' in row:\n",
        "            return 'смс'\n",
        "    if 'пополнение' in row:\n",
        "            return 'пополнение рс'\n",
        "    else:\n",
        "            return 'по программе'       \n",
        "    return row\n",
        "\n",
        "dd['new_purpose'] = dd['purpose'].apply(rename)"
      ]
    },
    {
      "cell_type": "code",
      "execution_count": null,
      "id": "41c0349a",
      "metadata": {
        "colab": {
          "base_uri": "https://localhost:8080/"
        },
        "id": "41c0349a",
        "outputId": "ecc05d55-b7f5-41e4-f5e3-2c536264dbd5"
      },
      "outputs": [
        {
          "output_type": "execute_result",
          "data": {
            "text/plain": [
              "пожертвование    11102\n",
              "смс               1523\n",
              "по программе      1392\n",
              "возврат             24\n",
              "пополнение рс        2\n",
              "Name: new_purpose, dtype: int64"
            ]
          },
          "metadata": {},
          "execution_count": 18
        }
      ],
      "source": [
        "dd['new_purpose'].value_counts()"
      ]
    },
    {
      "cell_type": "code",
      "source": [
        "dd.groupby('new_purpose').agg({'donor_id':'nunique', 'amount':'sum'}).reset_index()"
      ],
      "metadata": {
        "colab": {
          "base_uri": "https://localhost:8080/",
          "height": 206
        },
        "id": "-newok8VaShc",
        "outputId": "04964252-46a0-4d91-e31f-c6710a124d69"
      },
      "id": "-newok8VaShc",
      "execution_count": null,
      "outputs": [
        {
          "output_type": "execute_result",
          "data": {
            "text/plain": [
              "     new_purpose  donor_id      amount\n",
              "0        возврат        10   290912.00\n",
              "1   по программе       613  3037826.15\n",
              "2  пожертвование      2131 19657040.51\n",
              "3  пополнение рс         1   724000.00\n",
              "4            смс      1233   456059.00"
            ],
            "text/html": [
              "\n",
              "  <div id=\"df-8a3eff91-389c-4034-833c-93b685e81c9d\">\n",
              "    <div class=\"colab-df-container\">\n",
              "      <div>\n",
              "<style scoped>\n",
              "    .dataframe tbody tr th:only-of-type {\n",
              "        vertical-align: middle;\n",
              "    }\n",
              "\n",
              "    .dataframe tbody tr th {\n",
              "        vertical-align: top;\n",
              "    }\n",
              "\n",
              "    .dataframe thead th {\n",
              "        text-align: right;\n",
              "    }\n",
              "</style>\n",
              "<table border=\"1\" class=\"dataframe\">\n",
              "  <thead>\n",
              "    <tr style=\"text-align: right;\">\n",
              "      <th></th>\n",
              "      <th>new_purpose</th>\n",
              "      <th>donor_id</th>\n",
              "      <th>amount</th>\n",
              "    </tr>\n",
              "  </thead>\n",
              "  <tbody>\n",
              "    <tr>\n",
              "      <th>0</th>\n",
              "      <td>возврат</td>\n",
              "      <td>10</td>\n",
              "      <td>290912.00</td>\n",
              "    </tr>\n",
              "    <tr>\n",
              "      <th>1</th>\n",
              "      <td>по программе</td>\n",
              "      <td>613</td>\n",
              "      <td>3037826.15</td>\n",
              "    </tr>\n",
              "    <tr>\n",
              "      <th>2</th>\n",
              "      <td>пожертвование</td>\n",
              "      <td>2131</td>\n",
              "      <td>19657040.51</td>\n",
              "    </tr>\n",
              "    <tr>\n",
              "      <th>3</th>\n",
              "      <td>пополнение рс</td>\n",
              "      <td>1</td>\n",
              "      <td>724000.00</td>\n",
              "    </tr>\n",
              "    <tr>\n",
              "      <th>4</th>\n",
              "      <td>смс</td>\n",
              "      <td>1233</td>\n",
              "      <td>456059.00</td>\n",
              "    </tr>\n",
              "  </tbody>\n",
              "</table>\n",
              "</div>\n",
              "      <button class=\"colab-df-convert\" onclick=\"convertToInteractive('df-8a3eff91-389c-4034-833c-93b685e81c9d')\"\n",
              "              title=\"Convert this dataframe to an interactive table.\"\n",
              "              style=\"display:none;\">\n",
              "        \n",
              "  <svg xmlns=\"http://www.w3.org/2000/svg\" height=\"24px\"viewBox=\"0 0 24 24\"\n",
              "       width=\"24px\">\n",
              "    <path d=\"M0 0h24v24H0V0z\" fill=\"none\"/>\n",
              "    <path d=\"M18.56 5.44l.94 2.06.94-2.06 2.06-.94-2.06-.94-.94-2.06-.94 2.06-2.06.94zm-11 1L8.5 8.5l.94-2.06 2.06-.94-2.06-.94L8.5 2.5l-.94 2.06-2.06.94zm10 10l.94 2.06.94-2.06 2.06-.94-2.06-.94-.94-2.06-.94 2.06-2.06.94z\"/><path d=\"M17.41 7.96l-1.37-1.37c-.4-.4-.92-.59-1.43-.59-.52 0-1.04.2-1.43.59L10.3 9.45l-7.72 7.72c-.78.78-.78 2.05 0 2.83L4 21.41c.39.39.9.59 1.41.59.51 0 1.02-.2 1.41-.59l7.78-7.78 2.81-2.81c.8-.78.8-2.07 0-2.86zM5.41 20L4 18.59l7.72-7.72 1.47 1.35L5.41 20z\"/>\n",
              "  </svg>\n",
              "      </button>\n",
              "      \n",
              "  <style>\n",
              "    .colab-df-container {\n",
              "      display:flex;\n",
              "      flex-wrap:wrap;\n",
              "      gap: 12px;\n",
              "    }\n",
              "\n",
              "    .colab-df-convert {\n",
              "      background-color: #E8F0FE;\n",
              "      border: none;\n",
              "      border-radius: 50%;\n",
              "      cursor: pointer;\n",
              "      display: none;\n",
              "      fill: #1967D2;\n",
              "      height: 32px;\n",
              "      padding: 0 0 0 0;\n",
              "      width: 32px;\n",
              "    }\n",
              "\n",
              "    .colab-df-convert:hover {\n",
              "      background-color: #E2EBFA;\n",
              "      box-shadow: 0px 1px 2px rgba(60, 64, 67, 0.3), 0px 1px 3px 1px rgba(60, 64, 67, 0.15);\n",
              "      fill: #174EA6;\n",
              "    }\n",
              "\n",
              "    [theme=dark] .colab-df-convert {\n",
              "      background-color: #3B4455;\n",
              "      fill: #D2E3FC;\n",
              "    }\n",
              "\n",
              "    [theme=dark] .colab-df-convert:hover {\n",
              "      background-color: #434B5C;\n",
              "      box-shadow: 0px 1px 3px 1px rgba(0, 0, 0, 0.15);\n",
              "      filter: drop-shadow(0px 1px 2px rgba(0, 0, 0, 0.3));\n",
              "      fill: #FFFFFF;\n",
              "    }\n",
              "  </style>\n",
              "\n",
              "      <script>\n",
              "        const buttonEl =\n",
              "          document.querySelector('#df-8a3eff91-389c-4034-833c-93b685e81c9d button.colab-df-convert');\n",
              "        buttonEl.style.display =\n",
              "          google.colab.kernel.accessAllowed ? 'block' : 'none';\n",
              "\n",
              "        async function convertToInteractive(key) {\n",
              "          const element = document.querySelector('#df-8a3eff91-389c-4034-833c-93b685e81c9d');\n",
              "          const dataTable =\n",
              "            await google.colab.kernel.invokeFunction('convertToInteractive',\n",
              "                                                     [key], {});\n",
              "          if (!dataTable) return;\n",
              "\n",
              "          const docLinkHtml = 'Like what you see? Visit the ' +\n",
              "            '<a target=\"_blank\" href=https://colab.research.google.com/notebooks/data_table.ipynb>data table notebook</a>'\n",
              "            + ' to learn more about interactive tables.';\n",
              "          element.innerHTML = '';\n",
              "          dataTable['output_type'] = 'display_data';\n",
              "          await google.colab.output.renderOutput(dataTable, element);\n",
              "          const docLink = document.createElement('div');\n",
              "          docLink.innerHTML = docLinkHtml;\n",
              "          element.appendChild(docLink);\n",
              "        }\n",
              "      </script>\n",
              "    </div>\n",
              "  </div>\n",
              "  "
            ]
          },
          "metadata": {},
          "execution_count": 128
        }
      ]
    },
    {
      "cell_type": "markdown",
      "source": [
        "Вывод: в целом пожертвования можно разделить на две группы целевое и нецелевое, где целевое - это помощь конкретному ребенку или по определенной программе, а нецелевое - помощь фонду в целом. (принять решение на усмотрение команды)\n",
        "\n",
        "Также важно отметить, что в большинстве случаев пожертвования перечисляются в целом на фонд, чем по программе."
      ],
      "metadata": {
        "id": "hQhQB4aVaFKU"
      },
      "id": "hQhQB4aVaFKU"
    },
    {
      "cell_type": "markdown",
      "source": [
        "#### **Второй подход к категоризации значений в назначении платежей - Лемматизация**"
      ],
      "metadata": {
        "id": "oTjxkvu2ySe-"
      },
      "id": "oTjxkvu2ySe-"
    },
    {
      "cell_type": "code",
      "source": [
        "lemmatizer = WordNetLemmatizer()\n",
        "w_tokenizer = nltk.tokenize.WhitespaceTokenizer()"
      ],
      "metadata": {
        "id": "T_NaqUMlJwwx"
      },
      "id": "T_NaqUMlJwwx",
      "execution_count": null,
      "outputs": []
    },
    {
      "cell_type": "code",
      "source": [
        "def lemmatize_text(purpose):\n",
        "    return [lemmatizer.lemmatize(w) for w in w_tokenizer.tokenize(purpose)]"
      ],
      "metadata": {
        "id": "ZP7sdC26TMP1"
      },
      "id": "ZP7sdC26TMP1",
      "execution_count": null,
      "outputs": []
    },
    {
      "cell_type": "code",
      "source": [
        "dd['purpose_lemmatized'] = dd.purpose.apply(lemmatize_text)\n",
        "dd.head()"
      ],
      "metadata": {
        "colab": {
          "base_uri": "https://localhost:8080/",
          "height": 424
        },
        "id": "Xs_Qtk7nTg0h",
        "outputId": "7439a9b0-08df-48c5-876a-25584695ec5b"
      },
      "id": "Xs_Qtk7nTg0h",
      "execution_count": null,
      "outputs": [
        {
          "output_type": "execute_result",
          "data": {
            "text/plain": [
              "                               donor_id                date  amount  \\\n",
              "0  de5393f9-9585-4057-b7fb-24b69697fc08 2022-07-03 19:49:48  300.00   \n",
              "1  81cd4bef-443e-4d36-b34f-664e11182d65 2020-03-14 12:20:02  300.00   \n",
              "2  d3beb76d-d8b6-47e2-8109-44f1b278943b 2022-04-07 00:00:00   16.00   \n",
              "3  f1310736-b229-4aac-99b7-f13acecf67cb 2019-12-26 02:25:42  300.00   \n",
              "4  61c3d86b-39da-445c-9d7f-9924ce9bda14 2021-06-26 01:26:07  200.00   \n",
              "\n",
              "  is_reccurent                                        purpose  \\\n",
              "0           да                       пожертвование  undefined   \n",
              "1          нет                                        sms bdd   \n",
              "2          нет  добровольное пожертвование. ндс не облагается   \n",
              "3          нет                                            nan   \n",
              "4           да                       пожертвование  undefined   \n",
              "\n",
              "                      channel   gender    city       last_email_dt  \\\n",
              "0            банковские карты  женский  москва 2022-06-03 20:15:57   \n",
              "1                         sms  женский  москва 2022-07-18 17:19:02   \n",
              "2  прямые поступления на счет  мужской     NaN                 NaT   \n",
              "3                         sms      NaN     NaN                 NaT   \n",
              "4            банковские карты  женский     NaN 2022-07-20 20:32:37   \n",
              "\n",
              "     new_purpose                                 purpose_lemmatized  \n",
              "0  пожертвование                         [пожертвование, undefined]  \n",
              "1            смс                                          [sm, bdd]  \n",
              "2  пожертвование  [добровольное, пожертвование., ндс, не, облага...  \n",
              "3            смс                                              [nan]  \n",
              "4  пожертвование                         [пожертвование, undefined]  "
            ],
            "text/html": [
              "\n",
              "  <div id=\"df-82cee457-eb30-46d8-ad96-662b7e3e8511\">\n",
              "    <div class=\"colab-df-container\">\n",
              "      <div>\n",
              "<style scoped>\n",
              "    .dataframe tbody tr th:only-of-type {\n",
              "        vertical-align: middle;\n",
              "    }\n",
              "\n",
              "    .dataframe tbody tr th {\n",
              "        vertical-align: top;\n",
              "    }\n",
              "\n",
              "    .dataframe thead th {\n",
              "        text-align: right;\n",
              "    }\n",
              "</style>\n",
              "<table border=\"1\" class=\"dataframe\">\n",
              "  <thead>\n",
              "    <tr style=\"text-align: right;\">\n",
              "      <th></th>\n",
              "      <th>donor_id</th>\n",
              "      <th>date</th>\n",
              "      <th>amount</th>\n",
              "      <th>is_reccurent</th>\n",
              "      <th>purpose</th>\n",
              "      <th>channel</th>\n",
              "      <th>gender</th>\n",
              "      <th>city</th>\n",
              "      <th>last_email_dt</th>\n",
              "      <th>new_purpose</th>\n",
              "      <th>purpose_lemmatized</th>\n",
              "    </tr>\n",
              "  </thead>\n",
              "  <tbody>\n",
              "    <tr>\n",
              "      <th>0</th>\n",
              "      <td>de5393f9-9585-4057-b7fb-24b69697fc08</td>\n",
              "      <td>2022-07-03 19:49:48</td>\n",
              "      <td>300.00</td>\n",
              "      <td>да</td>\n",
              "      <td>пожертвование  undefined</td>\n",
              "      <td>банковские карты</td>\n",
              "      <td>женский</td>\n",
              "      <td>москва</td>\n",
              "      <td>2022-06-03 20:15:57</td>\n",
              "      <td>пожертвование</td>\n",
              "      <td>[пожертвование, undefined]</td>\n",
              "    </tr>\n",
              "    <tr>\n",
              "      <th>1</th>\n",
              "      <td>81cd4bef-443e-4d36-b34f-664e11182d65</td>\n",
              "      <td>2020-03-14 12:20:02</td>\n",
              "      <td>300.00</td>\n",
              "      <td>нет</td>\n",
              "      <td>sms bdd</td>\n",
              "      <td>sms</td>\n",
              "      <td>женский</td>\n",
              "      <td>москва</td>\n",
              "      <td>2022-07-18 17:19:02</td>\n",
              "      <td>смс</td>\n",
              "      <td>[sm, bdd]</td>\n",
              "    </tr>\n",
              "    <tr>\n",
              "      <th>2</th>\n",
              "      <td>d3beb76d-d8b6-47e2-8109-44f1b278943b</td>\n",
              "      <td>2022-04-07 00:00:00</td>\n",
              "      <td>16.00</td>\n",
              "      <td>нет</td>\n",
              "      <td>добровольное пожертвование. ндс не облагается</td>\n",
              "      <td>прямые поступления на счет</td>\n",
              "      <td>мужской</td>\n",
              "      <td>NaN</td>\n",
              "      <td>NaT</td>\n",
              "      <td>пожертвование</td>\n",
              "      <td>[добровольное, пожертвование., ндс, не, облага...</td>\n",
              "    </tr>\n",
              "    <tr>\n",
              "      <th>3</th>\n",
              "      <td>f1310736-b229-4aac-99b7-f13acecf67cb</td>\n",
              "      <td>2019-12-26 02:25:42</td>\n",
              "      <td>300.00</td>\n",
              "      <td>нет</td>\n",
              "      <td>nan</td>\n",
              "      <td>sms</td>\n",
              "      <td>NaN</td>\n",
              "      <td>NaN</td>\n",
              "      <td>NaT</td>\n",
              "      <td>смс</td>\n",
              "      <td>[nan]</td>\n",
              "    </tr>\n",
              "    <tr>\n",
              "      <th>4</th>\n",
              "      <td>61c3d86b-39da-445c-9d7f-9924ce9bda14</td>\n",
              "      <td>2021-06-26 01:26:07</td>\n",
              "      <td>200.00</td>\n",
              "      <td>да</td>\n",
              "      <td>пожертвование  undefined</td>\n",
              "      <td>банковские карты</td>\n",
              "      <td>женский</td>\n",
              "      <td>NaN</td>\n",
              "      <td>2022-07-20 20:32:37</td>\n",
              "      <td>пожертвование</td>\n",
              "      <td>[пожертвование, undefined]</td>\n",
              "    </tr>\n",
              "  </tbody>\n",
              "</table>\n",
              "</div>\n",
              "      <button class=\"colab-df-convert\" onclick=\"convertToInteractive('df-82cee457-eb30-46d8-ad96-662b7e3e8511')\"\n",
              "              title=\"Convert this dataframe to an interactive table.\"\n",
              "              style=\"display:none;\">\n",
              "        \n",
              "  <svg xmlns=\"http://www.w3.org/2000/svg\" height=\"24px\"viewBox=\"0 0 24 24\"\n",
              "       width=\"24px\">\n",
              "    <path d=\"M0 0h24v24H0V0z\" fill=\"none\"/>\n",
              "    <path d=\"M18.56 5.44l.94 2.06.94-2.06 2.06-.94-2.06-.94-.94-2.06-.94 2.06-2.06.94zm-11 1L8.5 8.5l.94-2.06 2.06-.94-2.06-.94L8.5 2.5l-.94 2.06-2.06.94zm10 10l.94 2.06.94-2.06 2.06-.94-2.06-.94-.94-2.06-.94 2.06-2.06.94z\"/><path d=\"M17.41 7.96l-1.37-1.37c-.4-.4-.92-.59-1.43-.59-.52 0-1.04.2-1.43.59L10.3 9.45l-7.72 7.72c-.78.78-.78 2.05 0 2.83L4 21.41c.39.39.9.59 1.41.59.51 0 1.02-.2 1.41-.59l7.78-7.78 2.81-2.81c.8-.78.8-2.07 0-2.86zM5.41 20L4 18.59l7.72-7.72 1.47 1.35L5.41 20z\"/>\n",
              "  </svg>\n",
              "      </button>\n",
              "      \n",
              "  <style>\n",
              "    .colab-df-container {\n",
              "      display:flex;\n",
              "      flex-wrap:wrap;\n",
              "      gap: 12px;\n",
              "    }\n",
              "\n",
              "    .colab-df-convert {\n",
              "      background-color: #E8F0FE;\n",
              "      border: none;\n",
              "      border-radius: 50%;\n",
              "      cursor: pointer;\n",
              "      display: none;\n",
              "      fill: #1967D2;\n",
              "      height: 32px;\n",
              "      padding: 0 0 0 0;\n",
              "      width: 32px;\n",
              "    }\n",
              "\n",
              "    .colab-df-convert:hover {\n",
              "      background-color: #E2EBFA;\n",
              "      box-shadow: 0px 1px 2px rgba(60, 64, 67, 0.3), 0px 1px 3px 1px rgba(60, 64, 67, 0.15);\n",
              "      fill: #174EA6;\n",
              "    }\n",
              "\n",
              "    [theme=dark] .colab-df-convert {\n",
              "      background-color: #3B4455;\n",
              "      fill: #D2E3FC;\n",
              "    }\n",
              "\n",
              "    [theme=dark] .colab-df-convert:hover {\n",
              "      background-color: #434B5C;\n",
              "      box-shadow: 0px 1px 3px 1px rgba(0, 0, 0, 0.15);\n",
              "      filter: drop-shadow(0px 1px 2px rgba(0, 0, 0, 0.3));\n",
              "      fill: #FFFFFF;\n",
              "    }\n",
              "  </style>\n",
              "\n",
              "      <script>\n",
              "        const buttonEl =\n",
              "          document.querySelector('#df-82cee457-eb30-46d8-ad96-662b7e3e8511 button.colab-df-convert');\n",
              "        buttonEl.style.display =\n",
              "          google.colab.kernel.accessAllowed ? 'block' : 'none';\n",
              "\n",
              "        async function convertToInteractive(key) {\n",
              "          const element = document.querySelector('#df-82cee457-eb30-46d8-ad96-662b7e3e8511');\n",
              "          const dataTable =\n",
              "            await google.colab.kernel.invokeFunction('convertToInteractive',\n",
              "                                                     [key], {});\n",
              "          if (!dataTable) return;\n",
              "\n",
              "          const docLinkHtml = 'Like what you see? Visit the ' +\n",
              "            '<a target=\"_blank\" href=https://colab.research.google.com/notebooks/data_table.ipynb>data table notebook</a>'\n",
              "            + ' to learn more about interactive tables.';\n",
              "          element.innerHTML = '';\n",
              "          dataTable['output_type'] = 'display_data';\n",
              "          await google.colab.output.renderOutput(dataTable, element);\n",
              "          const docLink = document.createElement('div');\n",
              "          docLink.innerHTML = docLinkHtml;\n",
              "          element.appendChild(docLink);\n",
              "        }\n",
              "      </script>\n",
              "    </div>\n",
              "  </div>\n",
              "  "
            ]
          },
          "metadata": {},
          "execution_count": 131
        }
      ]
    },
    {
      "cell_type": "markdown",
      "source": [
        "Вывод: далее использовать лемматизацию считаю бессмысленно. По итогу получаем тоже самое."
      ],
      "metadata": {
        "id": "xOGRq-K8X1_h"
      },
      "id": "xOGRq-K8X1_h"
    },
    {
      "cell_type": "code",
      "source": [
        "dd[dd['new_purpose']=='по программе'].groupby(['is_reccurent','channel']).agg({'donor_id':['count', 'nunique'], 'amount':['sum']})"
      ],
      "metadata": {
        "colab": {
          "base_uri": "https://localhost:8080/",
          "height": 206
        },
        "id": "KtDKP_bNLVuu",
        "outputId": "2f409926-7246-4826-ebb6-2cc1f22ea95e"
      },
      "id": "KtDKP_bNLVuu",
      "execution_count": null,
      "outputs": [
        {
          "output_type": "execute_result",
          "data": {
            "text/plain": [
              "                                        donor_id             amount\n",
              "                                           count nunique        sum\n",
              "is_reccurent channel                                               \n",
              "да           банковские карты                 25       6   27100.00\n",
              "нет          банковские карты               1359     604 2959426.15\n",
              "             прямые поступления на счет        8       5   51300.00"
            ],
            "text/html": [
              "\n",
              "  <div id=\"df-ef00088d-22a2-4759-b4eb-52c29ffa4dff\">\n",
              "    <div class=\"colab-df-container\">\n",
              "      <div>\n",
              "<style scoped>\n",
              "    .dataframe tbody tr th:only-of-type {\n",
              "        vertical-align: middle;\n",
              "    }\n",
              "\n",
              "    .dataframe tbody tr th {\n",
              "        vertical-align: top;\n",
              "    }\n",
              "\n",
              "    .dataframe thead tr th {\n",
              "        text-align: left;\n",
              "    }\n",
              "\n",
              "    .dataframe thead tr:last-of-type th {\n",
              "        text-align: right;\n",
              "    }\n",
              "</style>\n",
              "<table border=\"1\" class=\"dataframe\">\n",
              "  <thead>\n",
              "    <tr>\n",
              "      <th></th>\n",
              "      <th></th>\n",
              "      <th colspan=\"2\" halign=\"left\">donor_id</th>\n",
              "      <th>amount</th>\n",
              "    </tr>\n",
              "    <tr>\n",
              "      <th></th>\n",
              "      <th></th>\n",
              "      <th>count</th>\n",
              "      <th>nunique</th>\n",
              "      <th>sum</th>\n",
              "    </tr>\n",
              "    <tr>\n",
              "      <th>is_reccurent</th>\n",
              "      <th>channel</th>\n",
              "      <th></th>\n",
              "      <th></th>\n",
              "      <th></th>\n",
              "    </tr>\n",
              "  </thead>\n",
              "  <tbody>\n",
              "    <tr>\n",
              "      <th>да</th>\n",
              "      <th>банковские карты</th>\n",
              "      <td>25</td>\n",
              "      <td>6</td>\n",
              "      <td>27100.00</td>\n",
              "    </tr>\n",
              "    <tr>\n",
              "      <th rowspan=\"2\" valign=\"top\">нет</th>\n",
              "      <th>банковские карты</th>\n",
              "      <td>1359</td>\n",
              "      <td>604</td>\n",
              "      <td>2959426.15</td>\n",
              "    </tr>\n",
              "    <tr>\n",
              "      <th>прямые поступления на счет</th>\n",
              "      <td>8</td>\n",
              "      <td>5</td>\n",
              "      <td>51300.00</td>\n",
              "    </tr>\n",
              "  </tbody>\n",
              "</table>\n",
              "</div>\n",
              "      <button class=\"colab-df-convert\" onclick=\"convertToInteractive('df-ef00088d-22a2-4759-b4eb-52c29ffa4dff')\"\n",
              "              title=\"Convert this dataframe to an interactive table.\"\n",
              "              style=\"display:none;\">\n",
              "        \n",
              "  <svg xmlns=\"http://www.w3.org/2000/svg\" height=\"24px\"viewBox=\"0 0 24 24\"\n",
              "       width=\"24px\">\n",
              "    <path d=\"M0 0h24v24H0V0z\" fill=\"none\"/>\n",
              "    <path d=\"M18.56 5.44l.94 2.06.94-2.06 2.06-.94-2.06-.94-.94-2.06-.94 2.06-2.06.94zm-11 1L8.5 8.5l.94-2.06 2.06-.94-2.06-.94L8.5 2.5l-.94 2.06-2.06.94zm10 10l.94 2.06.94-2.06 2.06-.94-2.06-.94-.94-2.06-.94 2.06-2.06.94z\"/><path d=\"M17.41 7.96l-1.37-1.37c-.4-.4-.92-.59-1.43-.59-.52 0-1.04.2-1.43.59L10.3 9.45l-7.72 7.72c-.78.78-.78 2.05 0 2.83L4 21.41c.39.39.9.59 1.41.59.51 0 1.02-.2 1.41-.59l7.78-7.78 2.81-2.81c.8-.78.8-2.07 0-2.86zM5.41 20L4 18.59l7.72-7.72 1.47 1.35L5.41 20z\"/>\n",
              "  </svg>\n",
              "      </button>\n",
              "      \n",
              "  <style>\n",
              "    .colab-df-container {\n",
              "      display:flex;\n",
              "      flex-wrap:wrap;\n",
              "      gap: 12px;\n",
              "    }\n",
              "\n",
              "    .colab-df-convert {\n",
              "      background-color: #E8F0FE;\n",
              "      border: none;\n",
              "      border-radius: 50%;\n",
              "      cursor: pointer;\n",
              "      display: none;\n",
              "      fill: #1967D2;\n",
              "      height: 32px;\n",
              "      padding: 0 0 0 0;\n",
              "      width: 32px;\n",
              "    }\n",
              "\n",
              "    .colab-df-convert:hover {\n",
              "      background-color: #E2EBFA;\n",
              "      box-shadow: 0px 1px 2px rgba(60, 64, 67, 0.3), 0px 1px 3px 1px rgba(60, 64, 67, 0.15);\n",
              "      fill: #174EA6;\n",
              "    }\n",
              "\n",
              "    [theme=dark] .colab-df-convert {\n",
              "      background-color: #3B4455;\n",
              "      fill: #D2E3FC;\n",
              "    }\n",
              "\n",
              "    [theme=dark] .colab-df-convert:hover {\n",
              "      background-color: #434B5C;\n",
              "      box-shadow: 0px 1px 3px 1px rgba(0, 0, 0, 0.15);\n",
              "      filter: drop-shadow(0px 1px 2px rgba(0, 0, 0, 0.3));\n",
              "      fill: #FFFFFF;\n",
              "    }\n",
              "  </style>\n",
              "\n",
              "      <script>\n",
              "        const buttonEl =\n",
              "          document.querySelector('#df-ef00088d-22a2-4759-b4eb-52c29ffa4dff button.colab-df-convert');\n",
              "        buttonEl.style.display =\n",
              "          google.colab.kernel.accessAllowed ? 'block' : 'none';\n",
              "\n",
              "        async function convertToInteractive(key) {\n",
              "          const element = document.querySelector('#df-ef00088d-22a2-4759-b4eb-52c29ffa4dff');\n",
              "          const dataTable =\n",
              "            await google.colab.kernel.invokeFunction('convertToInteractive',\n",
              "                                                     [key], {});\n",
              "          if (!dataTable) return;\n",
              "\n",
              "          const docLinkHtml = 'Like what you see? Visit the ' +\n",
              "            '<a target=\"_blank\" href=https://colab.research.google.com/notebooks/data_table.ipynb>data table notebook</a>'\n",
              "            + ' to learn more about interactive tables.';\n",
              "          element.innerHTML = '';\n",
              "          dataTable['output_type'] = 'display_data';\n",
              "          await google.colab.output.renderOutput(dataTable, element);\n",
              "          const docLink = document.createElement('div');\n",
              "          docLink.innerHTML = docLinkHtml;\n",
              "          element.appendChild(docLink);\n",
              "        }\n",
              "      </script>\n",
              "    </div>\n",
              "  </div>\n",
              "  "
            ]
          },
          "metadata": {},
          "execution_count": 132
        }
      ]
    },
    {
      "cell_type": "markdown",
      "source": [
        "Вывод: при пожертвовании по какой-либо программе, доноры не оформляют подписку, однако помощь оказывают не единоразово."
      ],
      "metadata": {
        "id": "ba8999YcLjI-"
      },
      "id": "ba8999YcLjI-"
    },
    {
      "cell_type": "code",
      "source": [
        "dd[dd['new_purpose']=='пожертвование'].groupby(['is_reccurent','channel']).agg({'donor_id':['count', 'nunique'], 'amount':['sum']})"
      ],
      "metadata": {
        "colab": {
          "base_uri": "https://localhost:8080/",
          "height": 238
        },
        "id": "Ob9Rk3lHQkBV",
        "outputId": "dede2715-f297-4a2f-ce7b-5629294bed66"
      },
      "id": "Ob9Rk3lHQkBV",
      "execution_count": null,
      "outputs": [
        {
          "output_type": "execute_result",
          "data": {
            "text/plain": [
              "                                        donor_id             amount\n",
              "                                           count nunique        sum\n",
              "is_reccurent channel                                               \n",
              "да           банковские карты               8060     481 5830696.00\n",
              "нет          банковские карты               1711    1183 4654568.63\n",
              "             наличные в кассу                  2       1  410700.00\n",
              "             прямые поступления на счет     1329     561 8761075.88"
            ],
            "text/html": [
              "\n",
              "  <div id=\"df-28b0d5f1-d1a8-40b0-b6a3-9d8323f0a88f\">\n",
              "    <div class=\"colab-df-container\">\n",
              "      <div>\n",
              "<style scoped>\n",
              "    .dataframe tbody tr th:only-of-type {\n",
              "        vertical-align: middle;\n",
              "    }\n",
              "\n",
              "    .dataframe tbody tr th {\n",
              "        vertical-align: top;\n",
              "    }\n",
              "\n",
              "    .dataframe thead tr th {\n",
              "        text-align: left;\n",
              "    }\n",
              "\n",
              "    .dataframe thead tr:last-of-type th {\n",
              "        text-align: right;\n",
              "    }\n",
              "</style>\n",
              "<table border=\"1\" class=\"dataframe\">\n",
              "  <thead>\n",
              "    <tr>\n",
              "      <th></th>\n",
              "      <th></th>\n",
              "      <th colspan=\"2\" halign=\"left\">donor_id</th>\n",
              "      <th>amount</th>\n",
              "    </tr>\n",
              "    <tr>\n",
              "      <th></th>\n",
              "      <th></th>\n",
              "      <th>count</th>\n",
              "      <th>nunique</th>\n",
              "      <th>sum</th>\n",
              "    </tr>\n",
              "    <tr>\n",
              "      <th>is_reccurent</th>\n",
              "      <th>channel</th>\n",
              "      <th></th>\n",
              "      <th></th>\n",
              "      <th></th>\n",
              "    </tr>\n",
              "  </thead>\n",
              "  <tbody>\n",
              "    <tr>\n",
              "      <th>да</th>\n",
              "      <th>банковские карты</th>\n",
              "      <td>8060</td>\n",
              "      <td>481</td>\n",
              "      <td>5830696.00</td>\n",
              "    </tr>\n",
              "    <tr>\n",
              "      <th rowspan=\"3\" valign=\"top\">нет</th>\n",
              "      <th>банковские карты</th>\n",
              "      <td>1711</td>\n",
              "      <td>1183</td>\n",
              "      <td>4654568.63</td>\n",
              "    </tr>\n",
              "    <tr>\n",
              "      <th>наличные в кассу</th>\n",
              "      <td>2</td>\n",
              "      <td>1</td>\n",
              "      <td>410700.00</td>\n",
              "    </tr>\n",
              "    <tr>\n",
              "      <th>прямые поступления на счет</th>\n",
              "      <td>1329</td>\n",
              "      <td>561</td>\n",
              "      <td>8761075.88</td>\n",
              "    </tr>\n",
              "  </tbody>\n",
              "</table>\n",
              "</div>\n",
              "      <button class=\"colab-df-convert\" onclick=\"convertToInteractive('df-28b0d5f1-d1a8-40b0-b6a3-9d8323f0a88f')\"\n",
              "              title=\"Convert this dataframe to an interactive table.\"\n",
              "              style=\"display:none;\">\n",
              "        \n",
              "  <svg xmlns=\"http://www.w3.org/2000/svg\" height=\"24px\"viewBox=\"0 0 24 24\"\n",
              "       width=\"24px\">\n",
              "    <path d=\"M0 0h24v24H0V0z\" fill=\"none\"/>\n",
              "    <path d=\"M18.56 5.44l.94 2.06.94-2.06 2.06-.94-2.06-.94-.94-2.06-.94 2.06-2.06.94zm-11 1L8.5 8.5l.94-2.06 2.06-.94-2.06-.94L8.5 2.5l-.94 2.06-2.06.94zm10 10l.94 2.06.94-2.06 2.06-.94-2.06-.94-.94-2.06-.94 2.06-2.06.94z\"/><path d=\"M17.41 7.96l-1.37-1.37c-.4-.4-.92-.59-1.43-.59-.52 0-1.04.2-1.43.59L10.3 9.45l-7.72 7.72c-.78.78-.78 2.05 0 2.83L4 21.41c.39.39.9.59 1.41.59.51 0 1.02-.2 1.41-.59l7.78-7.78 2.81-2.81c.8-.78.8-2.07 0-2.86zM5.41 20L4 18.59l7.72-7.72 1.47 1.35L5.41 20z\"/>\n",
              "  </svg>\n",
              "      </button>\n",
              "      \n",
              "  <style>\n",
              "    .colab-df-container {\n",
              "      display:flex;\n",
              "      flex-wrap:wrap;\n",
              "      gap: 12px;\n",
              "    }\n",
              "\n",
              "    .colab-df-convert {\n",
              "      background-color: #E8F0FE;\n",
              "      border: none;\n",
              "      border-radius: 50%;\n",
              "      cursor: pointer;\n",
              "      display: none;\n",
              "      fill: #1967D2;\n",
              "      height: 32px;\n",
              "      padding: 0 0 0 0;\n",
              "      width: 32px;\n",
              "    }\n",
              "\n",
              "    .colab-df-convert:hover {\n",
              "      background-color: #E2EBFA;\n",
              "      box-shadow: 0px 1px 2px rgba(60, 64, 67, 0.3), 0px 1px 3px 1px rgba(60, 64, 67, 0.15);\n",
              "      fill: #174EA6;\n",
              "    }\n",
              "\n",
              "    [theme=dark] .colab-df-convert {\n",
              "      background-color: #3B4455;\n",
              "      fill: #D2E3FC;\n",
              "    }\n",
              "\n",
              "    [theme=dark] .colab-df-convert:hover {\n",
              "      background-color: #434B5C;\n",
              "      box-shadow: 0px 1px 3px 1px rgba(0, 0, 0, 0.15);\n",
              "      filter: drop-shadow(0px 1px 2px rgba(0, 0, 0, 0.3));\n",
              "      fill: #FFFFFF;\n",
              "    }\n",
              "  </style>\n",
              "\n",
              "      <script>\n",
              "        const buttonEl =\n",
              "          document.querySelector('#df-28b0d5f1-d1a8-40b0-b6a3-9d8323f0a88f button.colab-df-convert');\n",
              "        buttonEl.style.display =\n",
              "          google.colab.kernel.accessAllowed ? 'block' : 'none';\n",
              "\n",
              "        async function convertToInteractive(key) {\n",
              "          const element = document.querySelector('#df-28b0d5f1-d1a8-40b0-b6a3-9d8323f0a88f');\n",
              "          const dataTable =\n",
              "            await google.colab.kernel.invokeFunction('convertToInteractive',\n",
              "                                                     [key], {});\n",
              "          if (!dataTable) return;\n",
              "\n",
              "          const docLinkHtml = 'Like what you see? Visit the ' +\n",
              "            '<a target=\"_blank\" href=https://colab.research.google.com/notebooks/data_table.ipynb>data table notebook</a>'\n",
              "            + ' to learn more about interactive tables.';\n",
              "          element.innerHTML = '';\n",
              "          dataTable['output_type'] = 'display_data';\n",
              "          await google.colab.output.renderOutput(dataTable, element);\n",
              "          const docLink = document.createElement('div');\n",
              "          docLink.innerHTML = docLinkHtml;\n",
              "          element.appendChild(docLink);\n",
              "        }\n",
              "      </script>\n",
              "    </div>\n",
              "  </div>\n",
              "  "
            ]
          },
          "metadata": {},
          "execution_count": 133
        }
      ]
    },
    {
      "cell_type": "markdown",
      "source": [
        "Вывод: \n",
        "- прямые поступления на счет,вероятнее всего, совершаются юридическими лицами и они занимают первое место по объему пожертвований;\n",
        "- второе место занимают доноры, оформившие подписку;\n",
        "- и на третьем доноры, которые не оформили подписку\n",
        "Здесь же можно выделить, что доноры оформившие подписку приносят пожертвований больше. 12122 VS 3935\n"
      ],
      "metadata": {
        "id": "xABqvUpdQvny"
      },
      "id": "xABqvUpdQvny"
    },
    {
      "cell_type": "markdown",
      "id": "d6d8b6f4",
      "metadata": {
        "id": "d6d8b6f4"
      },
      "source": [
        "### Каналы оплаты "
      ]
    },
    {
      "cell_type": "code",
      "execution_count": null,
      "id": "f0a911b9",
      "metadata": {
        "colab": {
          "base_uri": "https://localhost:8080/"
        },
        "id": "f0a911b9",
        "outputId": "8b55796c-2c2f-4ea2-ca25-b38beca09b38"
      },
      "outputs": [
        {
          "output_type": "execute_result",
          "data": {
            "text/plain": [
              "банковские карты              11204\n",
              "sms                            1474\n",
              "прямые поступления на счет     1362\n",
              "наличные в кассу                  3\n",
              "Name: channel, dtype: int64"
            ]
          },
          "metadata": {},
          "execution_count": 134
        }
      ],
      "source": [
        "dd['channel'].value_counts()\n"
      ]
    },
    {
      "cell_type": "code",
      "source": [
        "dd.groupby('channel').agg({'donor_id':'nunique', 'amount':'sum'}).sort_values(by = 'amount', ascending = False)"
      ],
      "metadata": {
        "colab": {
          "base_uri": "https://localhost:8080/",
          "height": 206
        },
        "id": "y3LIUMLwh0Oz",
        "outputId": "85c42ceb-83bc-43c4-f6e5-80e36b050b4c"
      },
      "id": "y3LIUMLwh0Oz",
      "execution_count": null,
      "outputs": [
        {
          "output_type": "execute_result",
          "data": {
            "text/plain": [
              "                            donor_id      amount\n",
              "channel                                         \n",
              "банковские карты                1991 13530110.78\n",
              "прямые поступления на счет       567  9127287.88\n",
              "наличные в кассу                   1  1110700.00\n",
              "sms                             1197   397739.00"
            ],
            "text/html": [
              "\n",
              "  <div id=\"df-bc7572b6-d180-4b91-b152-af9892005cb8\">\n",
              "    <div class=\"colab-df-container\">\n",
              "      <div>\n",
              "<style scoped>\n",
              "    .dataframe tbody tr th:only-of-type {\n",
              "        vertical-align: middle;\n",
              "    }\n",
              "\n",
              "    .dataframe tbody tr th {\n",
              "        vertical-align: top;\n",
              "    }\n",
              "\n",
              "    .dataframe thead th {\n",
              "        text-align: right;\n",
              "    }\n",
              "</style>\n",
              "<table border=\"1\" class=\"dataframe\">\n",
              "  <thead>\n",
              "    <tr style=\"text-align: right;\">\n",
              "      <th></th>\n",
              "      <th>donor_id</th>\n",
              "      <th>amount</th>\n",
              "    </tr>\n",
              "    <tr>\n",
              "      <th>channel</th>\n",
              "      <th></th>\n",
              "      <th></th>\n",
              "    </tr>\n",
              "  </thead>\n",
              "  <tbody>\n",
              "    <tr>\n",
              "      <th>банковские карты</th>\n",
              "      <td>1991</td>\n",
              "      <td>13530110.78</td>\n",
              "    </tr>\n",
              "    <tr>\n",
              "      <th>прямые поступления на счет</th>\n",
              "      <td>567</td>\n",
              "      <td>9127287.88</td>\n",
              "    </tr>\n",
              "    <tr>\n",
              "      <th>наличные в кассу</th>\n",
              "      <td>1</td>\n",
              "      <td>1110700.00</td>\n",
              "    </tr>\n",
              "    <tr>\n",
              "      <th>sms</th>\n",
              "      <td>1197</td>\n",
              "      <td>397739.00</td>\n",
              "    </tr>\n",
              "  </tbody>\n",
              "</table>\n",
              "</div>\n",
              "      <button class=\"colab-df-convert\" onclick=\"convertToInteractive('df-bc7572b6-d180-4b91-b152-af9892005cb8')\"\n",
              "              title=\"Convert this dataframe to an interactive table.\"\n",
              "              style=\"display:none;\">\n",
              "        \n",
              "  <svg xmlns=\"http://www.w3.org/2000/svg\" height=\"24px\"viewBox=\"0 0 24 24\"\n",
              "       width=\"24px\">\n",
              "    <path d=\"M0 0h24v24H0V0z\" fill=\"none\"/>\n",
              "    <path d=\"M18.56 5.44l.94 2.06.94-2.06 2.06-.94-2.06-.94-.94-2.06-.94 2.06-2.06.94zm-11 1L8.5 8.5l.94-2.06 2.06-.94-2.06-.94L8.5 2.5l-.94 2.06-2.06.94zm10 10l.94 2.06.94-2.06 2.06-.94-2.06-.94-.94-2.06-.94 2.06-2.06.94z\"/><path d=\"M17.41 7.96l-1.37-1.37c-.4-.4-.92-.59-1.43-.59-.52 0-1.04.2-1.43.59L10.3 9.45l-7.72 7.72c-.78.78-.78 2.05 0 2.83L4 21.41c.39.39.9.59 1.41.59.51 0 1.02-.2 1.41-.59l7.78-7.78 2.81-2.81c.8-.78.8-2.07 0-2.86zM5.41 20L4 18.59l7.72-7.72 1.47 1.35L5.41 20z\"/>\n",
              "  </svg>\n",
              "      </button>\n",
              "      \n",
              "  <style>\n",
              "    .colab-df-container {\n",
              "      display:flex;\n",
              "      flex-wrap:wrap;\n",
              "      gap: 12px;\n",
              "    }\n",
              "\n",
              "    .colab-df-convert {\n",
              "      background-color: #E8F0FE;\n",
              "      border: none;\n",
              "      border-radius: 50%;\n",
              "      cursor: pointer;\n",
              "      display: none;\n",
              "      fill: #1967D2;\n",
              "      height: 32px;\n",
              "      padding: 0 0 0 0;\n",
              "      width: 32px;\n",
              "    }\n",
              "\n",
              "    .colab-df-convert:hover {\n",
              "      background-color: #E2EBFA;\n",
              "      box-shadow: 0px 1px 2px rgba(60, 64, 67, 0.3), 0px 1px 3px 1px rgba(60, 64, 67, 0.15);\n",
              "      fill: #174EA6;\n",
              "    }\n",
              "\n",
              "    [theme=dark] .colab-df-convert {\n",
              "      background-color: #3B4455;\n",
              "      fill: #D2E3FC;\n",
              "    }\n",
              "\n",
              "    [theme=dark] .colab-df-convert:hover {\n",
              "      background-color: #434B5C;\n",
              "      box-shadow: 0px 1px 3px 1px rgba(0, 0, 0, 0.15);\n",
              "      filter: drop-shadow(0px 1px 2px rgba(0, 0, 0, 0.3));\n",
              "      fill: #FFFFFF;\n",
              "    }\n",
              "  </style>\n",
              "\n",
              "      <script>\n",
              "        const buttonEl =\n",
              "          document.querySelector('#df-bc7572b6-d180-4b91-b152-af9892005cb8 button.colab-df-convert');\n",
              "        buttonEl.style.display =\n",
              "          google.colab.kernel.accessAllowed ? 'block' : 'none';\n",
              "\n",
              "        async function convertToInteractive(key) {\n",
              "          const element = document.querySelector('#df-bc7572b6-d180-4b91-b152-af9892005cb8');\n",
              "          const dataTable =\n",
              "            await google.colab.kernel.invokeFunction('convertToInteractive',\n",
              "                                                     [key], {});\n",
              "          if (!dataTable) return;\n",
              "\n",
              "          const docLinkHtml = 'Like what you see? Visit the ' +\n",
              "            '<a target=\"_blank\" href=https://colab.research.google.com/notebooks/data_table.ipynb>data table notebook</a>'\n",
              "            + ' to learn more about interactive tables.';\n",
              "          element.innerHTML = '';\n",
              "          dataTable['output_type'] = 'display_data';\n",
              "          await google.colab.output.renderOutput(dataTable, element);\n",
              "          const docLink = document.createElement('div');\n",
              "          docLink.innerHTML = docLinkHtml;\n",
              "          element.appendChild(docLink);\n",
              "        }\n",
              "      </script>\n",
              "    </div>\n",
              "  </div>\n",
              "  "
            ]
          },
          "metadata": {},
          "execution_count": 137
        }
      ]
    },
    {
      "cell_type": "markdown",
      "source": [
        "Вывод: больше всего поступлений приходит по каналу банковские карты, им пользуется больше половины доноров, второй по популярности, но приносящий наименьшую сумму пожертвований sms, а наличные в кассу заносил 1 человектри раза, но очень большие суммы."
      ],
      "metadata": {
        "id": "TIWZobfHiWas"
      },
      "id": "TIWZobfHiWas"
    },
    {
      "cell_type": "markdown",
      "id": "fa59f9b0",
      "metadata": {
        "id": "fa59f9b0"
      },
      "source": [
        "### Период"
      ]
    },
    {
      "cell_type": "code",
      "execution_count": null,
      "id": "833e3452",
      "metadata": {
        "colab": {
          "base_uri": "https://localhost:8080/",
          "height": 52
        },
        "id": "833e3452",
        "outputId": "410f6ebc-9f3c-4b4a-cf74-f76b683b9598"
      },
      "outputs": [
        {
          "output_type": "display_data",
          "data": {
            "text/plain": [
              "Timestamp('2015-07-19 20:10:11')"
            ]
          },
          "metadata": {}
        },
        {
          "output_type": "display_data",
          "data": {
            "text/plain": [
              "Timestamp('2022-07-28 19:22:15')"
            ]
          },
          "metadata": {}
        }
      ],
      "source": [
        "display(donations['date'].min(), donations['date'].max())"
      ]
    },
    {
      "cell_type": "code",
      "source": [
        "plt.figure (figsize = (10,5))\n",
        "sns.histplot(dd['date'])\n",
        "plt.xticks(rotation = 45)\n",
        "plt.title('Распределение событий во времени');"
      ],
      "metadata": {
        "colab": {
          "base_uri": "https://localhost:8080/",
          "height": 365
        },
        "id": "S0D_0lTE_9yX",
        "outputId": "8707efb7-7afe-4a8d-fb32-87b26cd688a1"
      },
      "id": "S0D_0lTE_9yX",
      "execution_count": null,
      "outputs": [
        {
          "output_type": "display_data",
          "data": {
            "text/plain": [
              "<Figure size 720x360 with 1 Axes>"
            ],
            "image/png": "[encoded data removed]"
          },
          "metadata": {
            "needs_background": "light"
          }
        }
      ]
    },
    {
      "cell_type": "markdown",
      "source": [
        "Вывод: активность доноров возросла с 2019 года, необходимо уточнить у заказчика, чем это могло быть обусловлено"
      ],
      "metadata": {
        "id": "5aTBZ9l4A__P"
      },
      "id": "5aTBZ9l4A__P"
    },
    {
      "cell_type": "markdown",
      "id": "ac3005d3",
      "metadata": {
        "id": "ac3005d3"
      },
      "source": [
        "### Рекуррентность "
      ]
    },
    {
      "cell_type": "code",
      "execution_count": null,
      "id": "17502678",
      "metadata": {
        "colab": {
          "base_uri": "https://localhost:8080/"
        },
        "id": "17502678",
        "outputId": "e4615056-a16f-476c-c4c4-f937294ab68d"
      },
      "outputs": [
        {
          "output_type": "execute_result",
          "data": {
            "text/plain": [
              "да    0.58\n",
              "нет   0.42\n",
              "Name: is_reccurent, dtype: float64"
            ]
          },
          "metadata": {},
          "execution_count": 138
        }
      ],
      "source": [
        "dd['is_reccurent'].value_counts(normalize=True)"
      ]
    },
    {
      "cell_type": "code",
      "source": [
        "dd.groupby('is_reccurent').agg({'donor_id':'nunique'})"
      ],
      "metadata": {
        "colab": {
          "base_uri": "https://localhost:8080/",
          "height": 143
        },
        "id": "ilcLi0EXUg5F",
        "outputId": "21991efd-47ce-4fe7-b232-68c2ae642c7f"
      },
      "id": "ilcLi0EXUg5F",
      "execution_count": null,
      "outputs": [
        {
          "output_type": "execute_result",
          "data": {
            "text/plain": [
              "              donor_id\n",
              "is_reccurent          \n",
              "да                 486\n",
              "нет               3334"
            ],
            "text/html": [
              "\n",
              "  <div id=\"df-48828e90-5a6d-4988-bdcc-58d968f4dbaf\">\n",
              "    <div class=\"colab-df-container\">\n",
              "      <div>\n",
              "<style scoped>\n",
              "    .dataframe tbody tr th:only-of-type {\n",
              "        vertical-align: middle;\n",
              "    }\n",
              "\n",
              "    .dataframe tbody tr th {\n",
              "        vertical-align: top;\n",
              "    }\n",
              "\n",
              "    .dataframe thead th {\n",
              "        text-align: right;\n",
              "    }\n",
              "</style>\n",
              "<table border=\"1\" class=\"dataframe\">\n",
              "  <thead>\n",
              "    <tr style=\"text-align: right;\">\n",
              "      <th></th>\n",
              "      <th>donor_id</th>\n",
              "    </tr>\n",
              "    <tr>\n",
              "      <th>is_reccurent</th>\n",
              "      <th></th>\n",
              "    </tr>\n",
              "  </thead>\n",
              "  <tbody>\n",
              "    <tr>\n",
              "      <th>да</th>\n",
              "      <td>486</td>\n",
              "    </tr>\n",
              "    <tr>\n",
              "      <th>нет</th>\n",
              "      <td>3334</td>\n",
              "    </tr>\n",
              "  </tbody>\n",
              "</table>\n",
              "</div>\n",
              "      <button class=\"colab-df-convert\" onclick=\"convertToInteractive('df-48828e90-5a6d-4988-bdcc-58d968f4dbaf')\"\n",
              "              title=\"Convert this dataframe to an interactive table.\"\n",
              "              style=\"display:none;\">\n",
              "        \n",
              "  <svg xmlns=\"http://www.w3.org/2000/svg\" height=\"24px\"viewBox=\"0 0 24 24\"\n",
              "       width=\"24px\">\n",
              "    <path d=\"M0 0h24v24H0V0z\" fill=\"none\"/>\n",
              "    <path d=\"M18.56 5.44l.94 2.06.94-2.06 2.06-.94-2.06-.94-.94-2.06-.94 2.06-2.06.94zm-11 1L8.5 8.5l.94-2.06 2.06-.94-2.06-.94L8.5 2.5l-.94 2.06-2.06.94zm10 10l.94 2.06.94-2.06 2.06-.94-2.06-.94-.94-2.06-.94 2.06-2.06.94z\"/><path d=\"M17.41 7.96l-1.37-1.37c-.4-.4-.92-.59-1.43-.59-.52 0-1.04.2-1.43.59L10.3 9.45l-7.72 7.72c-.78.78-.78 2.05 0 2.83L4 21.41c.39.39.9.59 1.41.59.51 0 1.02-.2 1.41-.59l7.78-7.78 2.81-2.81c.8-.78.8-2.07 0-2.86zM5.41 20L4 18.59l7.72-7.72 1.47 1.35L5.41 20z\"/>\n",
              "  </svg>\n",
              "      </button>\n",
              "      \n",
              "  <style>\n",
              "    .colab-df-container {\n",
              "      display:flex;\n",
              "      flex-wrap:wrap;\n",
              "      gap: 12px;\n",
              "    }\n",
              "\n",
              "    .colab-df-convert {\n",
              "      background-color: #E8F0FE;\n",
              "      border: none;\n",
              "      border-radius: 50%;\n",
              "      cursor: pointer;\n",
              "      display: none;\n",
              "      fill: #1967D2;\n",
              "      height: 32px;\n",
              "      padding: 0 0 0 0;\n",
              "      width: 32px;\n",
              "    }\n",
              "\n",
              "    .colab-df-convert:hover {\n",
              "      background-color: #E2EBFA;\n",
              "      box-shadow: 0px 1px 2px rgba(60, 64, 67, 0.3), 0px 1px 3px 1px rgba(60, 64, 67, 0.15);\n",
              "      fill: #174EA6;\n",
              "    }\n",
              "\n",
              "    [theme=dark] .colab-df-convert {\n",
              "      background-color: #3B4455;\n",
              "      fill: #D2E3FC;\n",
              "    }\n",
              "\n",
              "    [theme=dark] .colab-df-convert:hover {\n",
              "      background-color: #434B5C;\n",
              "      box-shadow: 0px 1px 3px 1px rgba(0, 0, 0, 0.15);\n",
              "      filter: drop-shadow(0px 1px 2px rgba(0, 0, 0, 0.3));\n",
              "      fill: #FFFFFF;\n",
              "    }\n",
              "  </style>\n",
              "\n",
              "      <script>\n",
              "        const buttonEl =\n",
              "          document.querySelector('#df-48828e90-5a6d-4988-bdcc-58d968f4dbaf button.colab-df-convert');\n",
              "        buttonEl.style.display =\n",
              "          google.colab.kernel.accessAllowed ? 'block' : 'none';\n",
              "\n",
              "        async function convertToInteractive(key) {\n",
              "          const element = document.querySelector('#df-48828e90-5a6d-4988-bdcc-58d968f4dbaf');\n",
              "          const dataTable =\n",
              "            await google.colab.kernel.invokeFunction('convertToInteractive',\n",
              "                                                     [key], {});\n",
              "          if (!dataTable) return;\n",
              "\n",
              "          const docLinkHtml = 'Like what you see? Visit the ' +\n",
              "            '<a target=\"_blank\" href=https://colab.research.google.com/notebooks/data_table.ipynb>data table notebook</a>'\n",
              "            + ' to learn more about interactive tables.';\n",
              "          element.innerHTML = '';\n",
              "          dataTable['output_type'] = 'display_data';\n",
              "          await google.colab.output.renderOutput(dataTable, element);\n",
              "          const docLink = document.createElement('div');\n",
              "          docLink.innerHTML = docLinkHtml;\n",
              "          element.appendChild(docLink);\n",
              "        }\n",
              "      </script>\n",
              "    </div>\n",
              "  </div>\n",
              "  "
            ]
          },
          "metadata": {},
          "execution_count": 139
        }
      ]
    },
    {
      "cell_type": "markdown",
      "id": "d1955642",
      "metadata": {
        "id": "d1955642"
      },
      "source": [
        "Вывод: рекуррентных платежей больше, чем нерекуррентных, но пользователей оформивших подписку в почти 7 раз меньше. "
      ]
    },
    {
      "cell_type": "markdown",
      "id": "6aa4eaf1",
      "metadata": {
        "id": "6aa4eaf1"
      },
      "source": [
        "Для удобства дальнейшего исследования, заменим значения да - 1 и нет - 0"
      ]
    },
    {
      "cell_type": "code",
      "source": [
        "def rename (row):\n",
        "    if 'да' in row:\n",
        "            return 1 \n",
        "    if 'нет' in row:\n",
        "            return 0      \n",
        "    return row\n",
        "\n",
        "dd['is_reccurent'] = dd['is_reccurent'].apply(rename)"
      ],
      "metadata": {
        "id": "Ji-JGJFJhocW"
      },
      "id": "Ji-JGJFJhocW",
      "execution_count": null,
      "outputs": []
    },
    {
      "cell_type": "markdown",
      "id": "4ed3bd2c",
      "metadata": {
        "id": "4ed3bd2c"
      },
      "source": [
        "### Пол"
      ]
    },
    {
      "cell_type": "code",
      "execution_count": null,
      "id": "6fc2db44",
      "metadata": {
        "id": "6fc2db44",
        "outputId": "6b9d58ba-6ebd-4d89-e9f3-3b5dac21ac78",
        "colab": {
          "base_uri": "https://localhost:8080/"
        }
      },
      "outputs": [
        {
          "output_type": "execute_result",
          "data": {
            "text/plain": [
              "Женский                                                                                                                                                                                                                                                      0.77\n",
              "Мужской                                                                                                                                                                                                                                                      0.23\n",
              "Name: gender, dtype: float64"
            ]
          },
          "metadata": {},
          "execution_count": 95
        }
      ],
      "source": [
        "donors['gender'].value_counts(normalize=True)"
      ]
    },
    {
      "cell_type": "markdown",
      "id": "b992f6b9",
      "metadata": {
        "id": "b992f6b9"
      },
      "source": [
        "Женщин доноров намного больше, чем мужчин. Рассмотрим частоту пожертвований."
      ]
    },
    {
      "cell_type": "code",
      "execution_count": null,
      "id": "2cb4b59d",
      "metadata": {
        "id": "2cb4b59d",
        "outputId": "64726805-f8af-4115-d182-e9e2662c5b36",
        "colab": {
          "base_uri": "https://localhost:8080/"
        }
      },
      "outputs": [
        {
          "output_type": "execute_result",
          "data": {
            "text/plain": [
              "женский   0.78\n",
              "мужской   0.22\n",
              "Name: gender, dtype: float64"
            ]
          },
          "metadata": {},
          "execution_count": 96
        }
      ],
      "source": [
        "dd['gender'].value_counts(normalize=True)"
      ]
    },
    {
      "cell_type": "markdown",
      "id": "b0a6b51e",
      "metadata": {
        "id": "b0a6b51e"
      },
      "source": [
        "По частоте пожертвований также лидируют женщины."
      ]
    },
    {
      "cell_type": "markdown",
      "id": "fd5d2f3b",
      "metadata": {
        "id": "fd5d2f3b"
      },
      "source": [
        "### Город"
      ]
    },
    {
      "cell_type": "code",
      "execution_count": null,
      "id": "ea6c2e73",
      "metadata": {
        "id": "ea6c2e73",
        "outputId": "942640ae-fa82-4e6b-c3d3-d8b89f9534b9",
        "colab": {
          "base_uri": "https://localhost:8080/"
        }
      },
      "outputs": [
        {
          "output_type": "execute_result",
          "data": {
            "text/plain": [
              "москва            0.54\n",
              "санкт-петербург   0.07\n",
              "краснодар         0.03\n",
              "якутск            0.02\n",
              "екатеринбург      0.01\n",
              "                  ... \n",
              "амангильдино      0.00\n",
              "кингисеппский     0.00\n",
              "туапсе            0.00\n",
              "бирск             0.00\n",
              "шемышейка         0.00\n",
              "Name: city, Length: 228, dtype: float64"
            ]
          },
          "metadata": {},
          "execution_count": 97
        }
      ],
      "source": [
        "dd['city'].value_counts(normalize=True)"
      ]
    },
    {
      "cell_type": "markdown",
      "id": "a84e770f",
      "metadata": {
        "id": "a84e770f"
      },
      "source": [
        "Больше всего пожертвований приходится на Москву."
      ]
    },
    {
      "cell_type": "markdown",
      "id": "c2dfe226",
      "metadata": {
        "id": "c2dfe226"
      },
      "source": [
        "### Сумма пожертвований"
      ]
    },
    {
      "cell_type": "code",
      "execution_count": null,
      "id": "999d3abb",
      "metadata": {
        "id": "999d3abb",
        "outputId": "c51bee2f-40b9-437e-dd58-43955f915964",
        "colab": {
          "base_uri": "https://localhost:8080/"
        }
      },
      "outputs": [
        {
          "output_type": "execute_result",
          "data": {
            "text/plain": [
              "count     14043.00\n",
              "mean       1720.85\n",
              "std       29499.77\n",
              "min           0.01\n",
              "25%         150.00\n",
              "50%         350.00\n",
              "75%         700.00\n",
              "max     3000000.00\n",
              "Name: amount, dtype: float64"
            ]
          },
          "metadata": {},
          "execution_count": 27
        }
      ],
      "source": [
        "dd['amount'].describe()"
      ]
    },
    {
      "cell_type": "markdown",
      "id": "3e3a59c6",
      "metadata": {
        "id": "3e3a59c6"
      },
      "source": [
        "Важно отметить, что средняя и медианная сумму пожертвований сильно различается. Это может свидетельствовать о том, что в данных имеются выбросы. Рассмотрим далее диаграмму размаха, которая нам и покажет эти выбросы."
      ]
    },
    {
      "cell_type": "code",
      "execution_count": null,
      "id": "64762356",
      "metadata": {
        "id": "64762356",
        "outputId": "14816703-8e10-41d3-aab7-0f1ec1902766",
        "colab": {
          "base_uri": "https://localhost:8080/",
          "height": 336
        }
      },
      "outputs": [
        {
          "output_type": "display_data",
          "data": {
            "text/plain": [
              "<Figure size 720x360 with 1 Axes>"
            ],
            "image/png": "[encoded data removed]"
          },
          "metadata": {
            "needs_background": "light"
          }
        }
      ],
      "source": [
        "plt.figure (figsize = (10,5))\n",
        "sns.boxplot(data=dd['amount'], orient = 'h')\n",
        "plt.title('Распределение величины пожертвования')\n",
        "plt.ticklabel_format(style='plain', axis='x')\n",
        "plt.show()"
      ]
    },
    {
      "cell_type": "markdown",
      "source": [
        "Предположение подтвердилось, в данных действительно есть выбросы. Далее рассмотрим, какие суммы чаще всего жертвовали доноры."
      ],
      "metadata": {
        "id": "TC3JUUFAK6rj"
      },
      "id": "TC3JUUFAK6rj"
    },
    {
      "cell_type": "code",
      "execution_count": null,
      "id": "14fe460f",
      "metadata": {
        "id": "14fe460f",
        "outputId": "c786c5ed-9834-4242-fdf4-663a536dd0e1",
        "colab": {
          "base_uri": "https://localhost:8080/"
        }
      },
      "outputs": [
        {
          "output_type": "stream",
          "name": "stdout",
          "text": [
            "[ 5000. 13853.]\n"
          ]
        }
      ],
      "source": [
        "print(np.percentile(dd['amount'], [95, 99])) "
      ]
    },
    {
      "cell_type": "markdown",
      "id": "920b0b8c",
      "metadata": {
        "id": "920b0b8c"
      },
      "source": [
        "Не более 5% доноров жертвовали более 5 тысяч рублей и не более 1% жертвовали более 14 тысяч."
      ]
    },
    {
      "cell_type": "markdown",
      "id": "83a7f80d",
      "metadata": {
        "id": "83a7f80d"
      },
      "source": [
        "Можем сделать вывод, что доноры чаще оставляют пожертвования в размере до 1000 рублей, например, 100, 300, 500, 1000, 5000 рублей. Это может быть связано с тем, что при оформлении ежемесячных платежей данные суммы представлены на выбор. \n",
        "Также может предположить, что данный факт связан с рекурентыми платежами. "
      ]
    },
    {
      "cell_type": "markdown",
      "source": [
        "Выведем профили доноров с их первым и последним  пожертвованием, с количеством пожертвований "
      ],
      "metadata": {
        "id": "_zh0iprTM5GB"
      },
      "id": "_zh0iprTM5GB"
    },
    {
      "cell_type": "code",
      "source": [
        "profiles = dd.groupby('donor_id').agg({'date': ['min', 'max'], 'amount':'count'}).set_axis(['first_dt', 'last_dt','donations_cnt'], axis=1, inplace=False).reset_index()\n",
        "profiles['dt_diff'] = (profiles['last_dt']-profiles['first_dt'])/np.timedelta64(1,'M')\n",
        "profiles['dt_diff'] = profiles['dt_diff'].astype(float).apply(np.floor)\n",
        "profiles"
      ],
      "metadata": {
        "colab": {
          "base_uri": "https://localhost:8080/",
          "height": 424
        },
        "id": "w_QrEp8vmQX7",
        "outputId": "97baadeb-032e-425d-af6b-62272e132a89"
      },
      "id": "w_QrEp8vmQX7",
      "execution_count": null,
      "outputs": [
        {
          "output_type": "execute_result",
          "data": {
            "text/plain": [
              "                                  donor_id            first_dt  \\\n",
              "0     0001afdd-94e3-48f3-b5e7-d5539700425e 2019-04-26 19:19:24   \n",
              "1     000711b2-2785-461b-bf5b-5cb7d2caba20 2020-03-27 08:23:58   \n",
              "2     0015a100-2d8c-4262-a9b3-bb1461c0c8b8 2021-07-27 12:15:05   \n",
              "3     002cb994-10cd-45e9-b6ed-ed7f3c90d7a9 2017-04-27 08:26:17   \n",
              "4     006f71d7-dfcf-4e7a-b9ad-b4721bef4f7a 2019-04-27 00:02:19   \n",
              "...                                    ...                 ...   \n",
              "3678  ff946fd1-eef8-4541-a906-bae64527aaa5 2019-05-01 20:27:40   \n",
              "3679  ffa30123-a516-44a7-b030-f83ed369b645 2020-03-27 19:55:41   \n",
              "3680  ffb1c4fa-f950-4bb7-a1f2-9dd655298fff 2019-04-26 20:37:02   \n",
              "3681  ffccba23-89ca-4a22-bd8a-7cad2d9eb7f7 2021-08-29 00:00:00   \n",
              "3682  ffebaa14-fde5-4a6d-9363-fe84a18d68bc 2017-04-14 21:28:03   \n",
              "\n",
              "                 last_dt  donations_cnt  dt_diff  \n",
              "0    2019-04-26 19:19:24              1     0.00  \n",
              "1    2022-06-27 08:24:05             21    27.00  \n",
              "2    2021-07-27 12:17:06              2     0.00  \n",
              "3    2017-04-27 08:26:17              1     0.00  \n",
              "4    2019-04-27 00:02:19              1     0.00  \n",
              "...                  ...            ...      ...  \n",
              "3678 2019-05-01 20:27:40              1     0.00  \n",
              "3679 2022-07-04 13:32:33             27    27.00  \n",
              "3680 2019-04-26 20:37:02              1     0.00  \n",
              "3681 2021-09-19 00:00:00              6     0.00  \n",
              "3682 2017-04-14 21:28:03              1     0.00  \n",
              "\n",
              "[3683 rows x 5 columns]"
            ],
            "text/html": [
              "\n",
              "  <div id=\"df-09824cae-e603-4678-9b0e-7c90fc7d6cd3\">\n",
              "    <div class=\"colab-df-container\">\n",
              "      <div>\n",
              "<style scoped>\n",
              "    .dataframe tbody tr th:only-of-type {\n",
              "        vertical-align: middle;\n",
              "    }\n",
              "\n",
              "    .dataframe tbody tr th {\n",
              "        vertical-align: top;\n",
              "    }\n",
              "\n",
              "    .dataframe thead th {\n",
              "        text-align: right;\n",
              "    }\n",
              "</style>\n",
              "<table border=\"1\" class=\"dataframe\">\n",
              "  <thead>\n",
              "    <tr style=\"text-align: right;\">\n",
              "      <th></th>\n",
              "      <th>donor_id</th>\n",
              "      <th>first_dt</th>\n",
              "      <th>last_dt</th>\n",
              "      <th>donations_cnt</th>\n",
              "      <th>dt_diff</th>\n",
              "    </tr>\n",
              "  </thead>\n",
              "  <tbody>\n",
              "    <tr>\n",
              "      <th>0</th>\n",
              "      <td>0001afdd-94e3-48f3-b5e7-d5539700425e</td>\n",
              "      <td>2019-04-26 19:19:24</td>\n",
              "      <td>2019-04-26 19:19:24</td>\n",
              "      <td>1</td>\n",
              "      <td>0.00</td>\n",
              "    </tr>\n",
              "    <tr>\n",
              "      <th>1</th>\n",
              "      <td>000711b2-2785-461b-bf5b-5cb7d2caba20</td>\n",
              "      <td>2020-03-27 08:23:58</td>\n",
              "      <td>2022-06-27 08:24:05</td>\n",
              "      <td>21</td>\n",
              "      <td>27.00</td>\n",
              "    </tr>\n",
              "    <tr>\n",
              "      <th>2</th>\n",
              "      <td>0015a100-2d8c-4262-a9b3-bb1461c0c8b8</td>\n",
              "      <td>2021-07-27 12:15:05</td>\n",
              "      <td>2021-07-27 12:17:06</td>\n",
              "      <td>2</td>\n",
              "      <td>0.00</td>\n",
              "    </tr>\n",
              "    <tr>\n",
              "      <th>3</th>\n",
              "      <td>002cb994-10cd-45e9-b6ed-ed7f3c90d7a9</td>\n",
              "      <td>2017-04-27 08:26:17</td>\n",
              "      <td>2017-04-27 08:26:17</td>\n",
              "      <td>1</td>\n",
              "      <td>0.00</td>\n",
              "    </tr>\n",
              "    <tr>\n",
              "      <th>4</th>\n",
              "      <td>006f71d7-dfcf-4e7a-b9ad-b4721bef4f7a</td>\n",
              "      <td>2019-04-27 00:02:19</td>\n",
              "      <td>2019-04-27 00:02:19</td>\n",
              "      <td>1</td>\n",
              "      <td>0.00</td>\n",
              "    </tr>\n",
              "    <tr>\n",
              "      <th>...</th>\n",
              "      <td>...</td>\n",
              "      <td>...</td>\n",
              "      <td>...</td>\n",
              "      <td>...</td>\n",
              "      <td>...</td>\n",
              "    </tr>\n",
              "    <tr>\n",
              "      <th>3678</th>\n",
              "      <td>ff946fd1-eef8-4541-a906-bae64527aaa5</td>\n",
              "      <td>2019-05-01 20:27:40</td>\n",
              "      <td>2019-05-01 20:27:40</td>\n",
              "      <td>1</td>\n",
              "      <td>0.00</td>\n",
              "    </tr>\n",
              "    <tr>\n",
              "      <th>3679</th>\n",
              "      <td>ffa30123-a516-44a7-b030-f83ed369b645</td>\n",
              "      <td>2020-03-27 19:55:41</td>\n",
              "      <td>2022-07-04 13:32:33</td>\n",
              "      <td>27</td>\n",
              "      <td>27.00</td>\n",
              "    </tr>\n",
              "    <tr>\n",
              "      <th>3680</th>\n",
              "      <td>ffb1c4fa-f950-4bb7-a1f2-9dd655298fff</td>\n",
              "      <td>2019-04-26 20:37:02</td>\n",
              "      <td>2019-04-26 20:37:02</td>\n",
              "      <td>1</td>\n",
              "      <td>0.00</td>\n",
              "    </tr>\n",
              "    <tr>\n",
              "      <th>3681</th>\n",
              "      <td>ffccba23-89ca-4a22-bd8a-7cad2d9eb7f7</td>\n",
              "      <td>2021-08-29 00:00:00</td>\n",
              "      <td>2021-09-19 00:00:00</td>\n",
              "      <td>6</td>\n",
              "      <td>0.00</td>\n",
              "    </tr>\n",
              "    <tr>\n",
              "      <th>3682</th>\n",
              "      <td>ffebaa14-fde5-4a6d-9363-fe84a18d68bc</td>\n",
              "      <td>2017-04-14 21:28:03</td>\n",
              "      <td>2017-04-14 21:28:03</td>\n",
              "      <td>1</td>\n",
              "      <td>0.00</td>\n",
              "    </tr>\n",
              "  </tbody>\n",
              "</table>\n",
              "<p>3683 rows × 5 columns</p>\n",
              "</div>\n",
              "      <button class=\"colab-df-convert\" onclick=\"convertToInteractive('df-09824cae-e603-4678-9b0e-7c90fc7d6cd3')\"\n",
              "              title=\"Convert this dataframe to an interactive table.\"\n",
              "              style=\"display:none;\">\n",
              "        \n",
              "  <svg xmlns=\"http://www.w3.org/2000/svg\" height=\"24px\"viewBox=\"0 0 24 24\"\n",
              "       width=\"24px\">\n",
              "    <path d=\"M0 0h24v24H0V0z\" fill=\"none\"/>\n",
              "    <path d=\"M18.56 5.44l.94 2.06.94-2.06 2.06-.94-2.06-.94-.94-2.06-.94 2.06-2.06.94zm-11 1L8.5 8.5l.94-2.06 2.06-.94-2.06-.94L8.5 2.5l-.94 2.06-2.06.94zm10 10l.94 2.06.94-2.06 2.06-.94-2.06-.94-.94-2.06-.94 2.06-2.06.94z\"/><path d=\"M17.41 7.96l-1.37-1.37c-.4-.4-.92-.59-1.43-.59-.52 0-1.04.2-1.43.59L10.3 9.45l-7.72 7.72c-.78.78-.78 2.05 0 2.83L4 21.41c.39.39.9.59 1.41.59.51 0 1.02-.2 1.41-.59l7.78-7.78 2.81-2.81c.8-.78.8-2.07 0-2.86zM5.41 20L4 18.59l7.72-7.72 1.47 1.35L5.41 20z\"/>\n",
              "  </svg>\n",
              "      </button>\n",
              "      \n",
              "  <style>\n",
              "    .colab-df-container {\n",
              "      display:flex;\n",
              "      flex-wrap:wrap;\n",
              "      gap: 12px;\n",
              "    }\n",
              "\n",
              "    .colab-df-convert {\n",
              "      background-color: #E8F0FE;\n",
              "      border: none;\n",
              "      border-radius: 50%;\n",
              "      cursor: pointer;\n",
              "      display: none;\n",
              "      fill: #1967D2;\n",
              "      height: 32px;\n",
              "      padding: 0 0 0 0;\n",
              "      width: 32px;\n",
              "    }\n",
              "\n",
              "    .colab-df-convert:hover {\n",
              "      background-color: #E2EBFA;\n",
              "      box-shadow: 0px 1px 2px rgba(60, 64, 67, 0.3), 0px 1px 3px 1px rgba(60, 64, 67, 0.15);\n",
              "      fill: #174EA6;\n",
              "    }\n",
              "\n",
              "    [theme=dark] .colab-df-convert {\n",
              "      background-color: #3B4455;\n",
              "      fill: #D2E3FC;\n",
              "    }\n",
              "\n",
              "    [theme=dark] .colab-df-convert:hover {\n",
              "      background-color: #434B5C;\n",
              "      box-shadow: 0px 1px 3px 1px rgba(0, 0, 0, 0.15);\n",
              "      filter: drop-shadow(0px 1px 2px rgba(0, 0, 0, 0.3));\n",
              "      fill: #FFFFFF;\n",
              "    }\n",
              "  </style>\n",
              "\n",
              "      <script>\n",
              "        const buttonEl =\n",
              "          document.querySelector('#df-09824cae-e603-4678-9b0e-7c90fc7d6cd3 button.colab-df-convert');\n",
              "        buttonEl.style.display =\n",
              "          google.colab.kernel.accessAllowed ? 'block' : 'none';\n",
              "\n",
              "        async function convertToInteractive(key) {\n",
              "          const element = document.querySelector('#df-09824cae-e603-4678-9b0e-7c90fc7d6cd3');\n",
              "          const dataTable =\n",
              "            await google.colab.kernel.invokeFunction('convertToInteractive',\n",
              "                                                     [key], {});\n",
              "          if (!dataTable) return;\n",
              "\n",
              "          const docLinkHtml = 'Like what you see? Visit the ' +\n",
              "            '<a target=\"_blank\" href=https://colab.research.google.com/notebooks/data_table.ipynb>data table notebook</a>'\n",
              "            + ' to learn more about interactive tables.';\n",
              "          element.innerHTML = '';\n",
              "          dataTable['output_type'] = 'display_data';\n",
              "          await google.colab.output.renderOutput(dataTable, element);\n",
              "          const docLink = document.createElement('div');\n",
              "          docLink.innerHTML = docLinkHtml;\n",
              "          element.appendChild(docLink);\n",
              "        }\n",
              "      </script>\n",
              "    </div>\n",
              "  </div>\n",
              "  "
            ]
          },
          "metadata": {},
          "execution_count": 106
        }
      ]
    },
    {
      "cell_type": "code",
      "source": [
        "result = dd[['donor_id', 'date', 'amount', 'new_purpose', 'gender', 'is_reccurent']].merge(\n",
        "    profiles[['donor_id', 'first_dt', 'last_dt' ]], on='donor_id', how='left')\n"
      ],
      "metadata": {
        "id": "YG2BjtwuoMny"
      },
      "id": "YG2BjtwuoMny",
      "execution_count": null,
      "outputs": []
    },
    {
      "cell_type": "code",
      "source": [
        "# вычисляем лайфтайм в разрезе доноров \n",
        "result['lifetime_days']= ((result['date']-result['first_dt']).dt.days)\n",
        "result.sort_values(by =['donor_id','date']).head(10)"
      ],
      "metadata": {
        "colab": {
          "base_uri": "https://localhost:8080/",
          "height": 407
        },
        "id": "I40PItoJp30u",
        "outputId": "03e31f07-93c4-4583-d411-cf7603d211b7"
      },
      "id": "I40PItoJp30u",
      "execution_count": null,
      "outputs": [
        {
          "output_type": "execute_result",
          "data": {
            "text/plain": [
              "                                   donor_id                date  amount  \\\n",
              "9911   0001afdd-94e3-48f3-b5e7-d5539700425e 2019-04-26 19:19:24  100.00   \n",
              "13539  000711b2-2785-461b-bf5b-5cb7d2caba20 2020-03-27 08:23:58  500.00   \n",
              "1631   000711b2-2785-461b-bf5b-5cb7d2caba20 2020-04-29 08:24:29  500.00   \n",
              "10926  000711b2-2785-461b-bf5b-5cb7d2caba20 2020-05-28 08:24:10  500.00   \n",
              "4612   000711b2-2785-461b-bf5b-5cb7d2caba20 2020-07-27 08:24:02  500.00   \n",
              "3269   000711b2-2785-461b-bf5b-5cb7d2caba20 2020-08-27 08:24:04  500.00   \n",
              "9292   000711b2-2785-461b-bf5b-5cb7d2caba20 2020-10-27 08:24:17  500.00   \n",
              "992    000711b2-2785-461b-bf5b-5cb7d2caba20 2020-11-27 08:24:03  500.00   \n",
              "2282   000711b2-2785-461b-bf5b-5cb7d2caba20 2020-12-27 08:24:03  500.00   \n",
              "48     000711b2-2785-461b-bf5b-5cb7d2caba20 2021-02-28 08:24:15  500.00   \n",
              "\n",
              "         new_purpose   gender  is_reccurent            first_dt  \\\n",
              "9911             смс      NaN             0 2019-04-26 19:19:24   \n",
              "13539  пожертвование  женский             1 2020-03-27 08:23:58   \n",
              "1631   пожертвование  женский             1 2020-03-27 08:23:58   \n",
              "10926  пожертвование  женский             1 2020-03-27 08:23:58   \n",
              "4612   пожертвование  женский             1 2020-03-27 08:23:58   \n",
              "3269   пожертвование  женский             1 2020-03-27 08:23:58   \n",
              "9292   пожертвование  женский             1 2020-03-27 08:23:58   \n",
              "992    пожертвование  женский             1 2020-03-27 08:23:58   \n",
              "2282   пожертвование  женский             1 2020-03-27 08:23:58   \n",
              "48     пожертвование  женский             1 2020-03-27 08:23:58   \n",
              "\n",
              "                  last_dt  lifetime_days  \n",
              "9911  2019-04-26 19:19:24              0  \n",
              "13539 2022-06-27 08:24:05              0  \n",
              "1631  2022-06-27 08:24:05             33  \n",
              "10926 2022-06-27 08:24:05             62  \n",
              "4612  2022-06-27 08:24:05            122  \n",
              "3269  2022-06-27 08:24:05            153  \n",
              "9292  2022-06-27 08:24:05            214  \n",
              "992   2022-06-27 08:24:05            245  \n",
              "2282  2022-06-27 08:24:05            275  \n",
              "48    2022-06-27 08:24:05            338  "
            ],
            "text/html": [
              "\n",
              "  <div id=\"df-06b8b5c1-cc0e-41ad-b67e-4c4d94df8e62\">\n",
              "    <div class=\"colab-df-container\">\n",
              "      <div>\n",
              "<style scoped>\n",
              "    .dataframe tbody tr th:only-of-type {\n",
              "        vertical-align: middle;\n",
              "    }\n",
              "\n",
              "    .dataframe tbody tr th {\n",
              "        vertical-align: top;\n",
              "    }\n",
              "\n",
              "    .dataframe thead th {\n",
              "        text-align: right;\n",
              "    }\n",
              "</style>\n",
              "<table border=\"1\" class=\"dataframe\">\n",
              "  <thead>\n",
              "    <tr style=\"text-align: right;\">\n",
              "      <th></th>\n",
              "      <th>donor_id</th>\n",
              "      <th>date</th>\n",
              "      <th>amount</th>\n",
              "      <th>new_purpose</th>\n",
              "      <th>gender</th>\n",
              "      <th>is_reccurent</th>\n",
              "      <th>first_dt</th>\n",
              "      <th>last_dt</th>\n",
              "      <th>lifetime_days</th>\n",
              "    </tr>\n",
              "  </thead>\n",
              "  <tbody>\n",
              "    <tr>\n",
              "      <th>9911</th>\n",
              "      <td>0001afdd-94e3-48f3-b5e7-d5539700425e</td>\n",
              "      <td>2019-04-26 19:19:24</td>\n",
              "      <td>100.00</td>\n",
              "      <td>смс</td>\n",
              "      <td>NaN</td>\n",
              "      <td>0</td>\n",
              "      <td>2019-04-26 19:19:24</td>\n",
              "      <td>2019-04-26 19:19:24</td>\n",
              "      <td>0</td>\n",
              "    </tr>\n",
              "    <tr>\n",
              "      <th>13539</th>\n",
              "      <td>000711b2-2785-461b-bf5b-5cb7d2caba20</td>\n",
              "      <td>2020-03-27 08:23:58</td>\n",
              "      <td>500.00</td>\n",
              "      <td>пожертвование</td>\n",
              "      <td>женский</td>\n",
              "      <td>1</td>\n",
              "      <td>2020-03-27 08:23:58</td>\n",
              "      <td>2022-06-27 08:24:05</td>\n",
              "      <td>0</td>\n",
              "    </tr>\n",
              "    <tr>\n",
              "      <th>1631</th>\n",
              "      <td>000711b2-2785-461b-bf5b-5cb7d2caba20</td>\n",
              "      <td>2020-04-29 08:24:29</td>\n",
              "      <td>500.00</td>\n",
              "      <td>пожертвование</td>\n",
              "      <td>женский</td>\n",
              "      <td>1</td>\n",
              "      <td>2020-03-27 08:23:58</td>\n",
              "      <td>2022-06-27 08:24:05</td>\n",
              "      <td>33</td>\n",
              "    </tr>\n",
              "    <tr>\n",
              "      <th>10926</th>\n",
              "      <td>000711b2-2785-461b-bf5b-5cb7d2caba20</td>\n",
              "      <td>2020-05-28 08:24:10</td>\n",
              "      <td>500.00</td>\n",
              "      <td>пожертвование</td>\n",
              "      <td>женский</td>\n",
              "      <td>1</td>\n",
              "      <td>2020-03-27 08:23:58</td>\n",
              "      <td>2022-06-27 08:24:05</td>\n",
              "      <td>62</td>\n",
              "    </tr>\n",
              "    <tr>\n",
              "      <th>4612</th>\n",
              "      <td>000711b2-2785-461b-bf5b-5cb7d2caba20</td>\n",
              "      <td>2020-07-27 08:24:02</td>\n",
              "      <td>500.00</td>\n",
              "      <td>пожертвование</td>\n",
              "      <td>женский</td>\n",
              "      <td>1</td>\n",
              "      <td>2020-03-27 08:23:58</td>\n",
              "      <td>2022-06-27 08:24:05</td>\n",
              "      <td>122</td>\n",
              "    </tr>\n",
              "    <tr>\n",
              "      <th>3269</th>\n",
              "      <td>000711b2-2785-461b-bf5b-5cb7d2caba20</td>\n",
              "      <td>2020-08-27 08:24:04</td>\n",
              "      <td>500.00</td>\n",
              "      <td>пожертвование</td>\n",
              "      <td>женский</td>\n",
              "      <td>1</td>\n",
              "      <td>2020-03-27 08:23:58</td>\n",
              "      <td>2022-06-27 08:24:05</td>\n",
              "      <td>153</td>\n",
              "    </tr>\n",
              "    <tr>\n",
              "      <th>9292</th>\n",
              "      <td>000711b2-2785-461b-bf5b-5cb7d2caba20</td>\n",
              "      <td>2020-10-27 08:24:17</td>\n",
              "      <td>500.00</td>\n",
              "      <td>пожертвование</td>\n",
              "      <td>женский</td>\n",
              "      <td>1</td>\n",
              "      <td>2020-03-27 08:23:58</td>\n",
              "      <td>2022-06-27 08:24:05</td>\n",
              "      <td>214</td>\n",
              "    </tr>\n",
              "    <tr>\n",
              "      <th>992</th>\n",
              "      <td>000711b2-2785-461b-bf5b-5cb7d2caba20</td>\n",
              "      <td>2020-11-27 08:24:03</td>\n",
              "      <td>500.00</td>\n",
              "      <td>пожертвование</td>\n",
              "      <td>женский</td>\n",
              "      <td>1</td>\n",
              "      <td>2020-03-27 08:23:58</td>\n",
              "      <td>2022-06-27 08:24:05</td>\n",
              "      <td>245</td>\n",
              "    </tr>\n",
              "    <tr>\n",
              "      <th>2282</th>\n",
              "      <td>000711b2-2785-461b-bf5b-5cb7d2caba20</td>\n",
              "      <td>2020-12-27 08:24:03</td>\n",
              "      <td>500.00</td>\n",
              "      <td>пожертвование</td>\n",
              "      <td>женский</td>\n",
              "      <td>1</td>\n",
              "      <td>2020-03-27 08:23:58</td>\n",
              "      <td>2022-06-27 08:24:05</td>\n",
              "      <td>275</td>\n",
              "    </tr>\n",
              "    <tr>\n",
              "      <th>48</th>\n",
              "      <td>000711b2-2785-461b-bf5b-5cb7d2caba20</td>\n",
              "      <td>2021-02-28 08:24:15</td>\n",
              "      <td>500.00</td>\n",
              "      <td>пожертвование</td>\n",
              "      <td>женский</td>\n",
              "      <td>1</td>\n",
              "      <td>2020-03-27 08:23:58</td>\n",
              "      <td>2022-06-27 08:24:05</td>\n",
              "      <td>338</td>\n",
              "    </tr>\n",
              "  </tbody>\n",
              "</table>\n",
              "</div>\n",
              "      <button class=\"colab-df-convert\" onclick=\"convertToInteractive('df-06b8b5c1-cc0e-41ad-b67e-4c4d94df8e62')\"\n",
              "              title=\"Convert this dataframe to an interactive table.\"\n",
              "              style=\"display:none;\">\n",
              "        \n",
              "  <svg xmlns=\"http://www.w3.org/2000/svg\" height=\"24px\"viewBox=\"0 0 24 24\"\n",
              "       width=\"24px\">\n",
              "    <path d=\"M0 0h24v24H0V0z\" fill=\"none\"/>\n",
              "    <path d=\"M18.56 5.44l.94 2.06.94-2.06 2.06-.94-2.06-.94-.94-2.06-.94 2.06-2.06.94zm-11 1L8.5 8.5l.94-2.06 2.06-.94-2.06-.94L8.5 2.5l-.94 2.06-2.06.94zm10 10l.94 2.06.94-2.06 2.06-.94-2.06-.94-.94-2.06-.94 2.06-2.06.94z\"/><path d=\"M17.41 7.96l-1.37-1.37c-.4-.4-.92-.59-1.43-.59-.52 0-1.04.2-1.43.59L10.3 9.45l-7.72 7.72c-.78.78-.78 2.05 0 2.83L4 21.41c.39.39.9.59 1.41.59.51 0 1.02-.2 1.41-.59l7.78-7.78 2.81-2.81c.8-.78.8-2.07 0-2.86zM5.41 20L4 18.59l7.72-7.72 1.47 1.35L5.41 20z\"/>\n",
              "  </svg>\n",
              "      </button>\n",
              "      \n",
              "  <style>\n",
              "    .colab-df-container {\n",
              "      display:flex;\n",
              "      flex-wrap:wrap;\n",
              "      gap: 12px;\n",
              "    }\n",
              "\n",
              "    .colab-df-convert {\n",
              "      background-color: #E8F0FE;\n",
              "      border: none;\n",
              "      border-radius: 50%;\n",
              "      cursor: pointer;\n",
              "      display: none;\n",
              "      fill: #1967D2;\n",
              "      height: 32px;\n",
              "      padding: 0 0 0 0;\n",
              "      width: 32px;\n",
              "    }\n",
              "\n",
              "    .colab-df-convert:hover {\n",
              "      background-color: #E2EBFA;\n",
              "      box-shadow: 0px 1px 2px rgba(60, 64, 67, 0.3), 0px 1px 3px 1px rgba(60, 64, 67, 0.15);\n",
              "      fill: #174EA6;\n",
              "    }\n",
              "\n",
              "    [theme=dark] .colab-df-convert {\n",
              "      background-color: #3B4455;\n",
              "      fill: #D2E3FC;\n",
              "    }\n",
              "\n",
              "    [theme=dark] .colab-df-convert:hover {\n",
              "      background-color: #434B5C;\n",
              "      box-shadow: 0px 1px 3px 1px rgba(0, 0, 0, 0.15);\n",
              "      filter: drop-shadow(0px 1px 2px rgba(0, 0, 0, 0.3));\n",
              "      fill: #FFFFFF;\n",
              "    }\n",
              "  </style>\n",
              "\n",
              "      <script>\n",
              "        const buttonEl =\n",
              "          document.querySelector('#df-06b8b5c1-cc0e-41ad-b67e-4c4d94df8e62 button.colab-df-convert');\n",
              "        buttonEl.style.display =\n",
              "          google.colab.kernel.accessAllowed ? 'block' : 'none';\n",
              "\n",
              "        async function convertToInteractive(key) {\n",
              "          const element = document.querySelector('#df-06b8b5c1-cc0e-41ad-b67e-4c4d94df8e62');\n",
              "          const dataTable =\n",
              "            await google.colab.kernel.invokeFunction('convertToInteractive',\n",
              "                                                     [key], {});\n",
              "          if (!dataTable) return;\n",
              "\n",
              "          const docLinkHtml = 'Like what you see? Visit the ' +\n",
              "            '<a target=\"_blank\" href=https://colab.research.google.com/notebooks/data_table.ipynb>data table notebook</a>'\n",
              "            + ' to learn more about interactive tables.';\n",
              "          element.innerHTML = '';\n",
              "          dataTable['output_type'] = 'display_data';\n",
              "          await google.colab.output.renderOutput(dataTable, element);\n",
              "          const docLink = document.createElement('div');\n",
              "          docLink.innerHTML = docLinkHtml;\n",
              "          element.appendChild(docLink);\n",
              "        }\n",
              "      </script>\n",
              "    </div>\n",
              "  </div>\n",
              "  "
            ]
          },
          "metadata": {},
          "execution_count": 144
        }
      ]
    },
    {
      "cell_type": "code",
      "source": [
        "result_lifetime = result.query('is_reccurent==1').groupby('donor_id').agg({'lifetime_days': ['max']}).set_axis(['lifetime_days'], axis=1, inplace=False)\n",
        "sns.distplot(result_lifetime);\n",
        "plt.title('Распределение продолжительности пожертвований для доноров по подписке')\n",
        "plt.show()\n",
        "result_lifetime.describe()"
      ],
      "metadata": {
        "colab": {
          "base_uri": "https://localhost:8080/",
          "height": 564
        },
        "id": "SKBFMv6VzwL9",
        "outputId": "b0766ebe-f455-40ab-a0de-9ca5b0945451"
      },
      "id": "SKBFMv6VzwL9",
      "execution_count": null,
      "outputs": [
        {
          "output_type": "display_data",
          "data": {
            "text/plain": [
              "<Figure size 432x288 with 1 Axes>"
            ],
            "image/png": "[encoded data removed]"
          },
          "metadata": {
            "needs_background": "light"
          }
        },
        {
          "output_type": "execute_result",
          "data": {
            "text/plain": [
              "       lifetime_days\n",
              "count         486.00\n",
              "mean          579.66\n",
              "std           485.71\n",
              "min             0.00\n",
              "25%           214.00\n",
              "50%           515.00\n",
              "75%           821.00\n",
              "max          2472.00"
            ],
            "text/html": [
              "\n",
              "  <div id=\"df-e5ec303f-ec98-4689-860f-49d765081e1d\">\n",
              "    <div class=\"colab-df-container\">\n",
              "      <div>\n",
              "<style scoped>\n",
              "    .dataframe tbody tr th:only-of-type {\n",
              "        vertical-align: middle;\n",
              "    }\n",
              "\n",
              "    .dataframe tbody tr th {\n",
              "        vertical-align: top;\n",
              "    }\n",
              "\n",
              "    .dataframe thead th {\n",
              "        text-align: right;\n",
              "    }\n",
              "</style>\n",
              "<table border=\"1\" class=\"dataframe\">\n",
              "  <thead>\n",
              "    <tr style=\"text-align: right;\">\n",
              "      <th></th>\n",
              "      <th>lifetime_days</th>\n",
              "    </tr>\n",
              "  </thead>\n",
              "  <tbody>\n",
              "    <tr>\n",
              "      <th>count</th>\n",
              "      <td>486.00</td>\n",
              "    </tr>\n",
              "    <tr>\n",
              "      <th>mean</th>\n",
              "      <td>579.66</td>\n",
              "    </tr>\n",
              "    <tr>\n",
              "      <th>std</th>\n",
              "      <td>485.71</td>\n",
              "    </tr>\n",
              "    <tr>\n",
              "      <th>min</th>\n",
              "      <td>0.00</td>\n",
              "    </tr>\n",
              "    <tr>\n",
              "      <th>25%</th>\n",
              "      <td>214.00</td>\n",
              "    </tr>\n",
              "    <tr>\n",
              "      <th>50%</th>\n",
              "      <td>515.00</td>\n",
              "    </tr>\n",
              "    <tr>\n",
              "      <th>75%</th>\n",
              "      <td>821.00</td>\n",
              "    </tr>\n",
              "    <tr>\n",
              "      <th>max</th>\n",
              "      <td>2472.00</td>\n",
              "    </tr>\n",
              "  </tbody>\n",
              "</table>\n",
              "</div>\n",
              "      <button class=\"colab-df-convert\" onclick=\"convertToInteractive('df-e5ec303f-ec98-4689-860f-49d765081e1d')\"\n",
              "              title=\"Convert this dataframe to an interactive table.\"\n",
              "              style=\"display:none;\">\n",
              "        \n",
              "  <svg xmlns=\"http://www.w3.org/2000/svg\" height=\"24px\"viewBox=\"0 0 24 24\"\n",
              "       width=\"24px\">\n",
              "    <path d=\"M0 0h24v24H0V0z\" fill=\"none\"/>\n",
              "    <path d=\"M18.56 5.44l.94 2.06.94-2.06 2.06-.94-2.06-.94-.94-2.06-.94 2.06-2.06.94zm-11 1L8.5 8.5l.94-2.06 2.06-.94-2.06-.94L8.5 2.5l-.94 2.06-2.06.94zm10 10l.94 2.06.94-2.06 2.06-.94-2.06-.94-.94-2.06-.94 2.06-2.06.94z\"/><path d=\"M17.41 7.96l-1.37-1.37c-.4-.4-.92-.59-1.43-.59-.52 0-1.04.2-1.43.59L10.3 9.45l-7.72 7.72c-.78.78-.78 2.05 0 2.83L4 21.41c.39.39.9.59 1.41.59.51 0 1.02-.2 1.41-.59l7.78-7.78 2.81-2.81c.8-.78.8-2.07 0-2.86zM5.41 20L4 18.59l7.72-7.72 1.47 1.35L5.41 20z\"/>\n",
              "  </svg>\n",
              "      </button>\n",
              "      \n",
              "  <style>\n",
              "    .colab-df-container {\n",
              "      display:flex;\n",
              "      flex-wrap:wrap;\n",
              "      gap: 12px;\n",
              "    }\n",
              "\n",
              "    .colab-df-convert {\n",
              "      background-color: #E8F0FE;\n",
              "      border: none;\n",
              "      border-radius: 50%;\n",
              "      cursor: pointer;\n",
              "      display: none;\n",
              "      fill: #1967D2;\n",
              "      height: 32px;\n",
              "      padding: 0 0 0 0;\n",
              "      width: 32px;\n",
              "    }\n",
              "\n",
              "    .colab-df-convert:hover {\n",
              "      background-color: #E2EBFA;\n",
              "      box-shadow: 0px 1px 2px rgba(60, 64, 67, 0.3), 0px 1px 3px 1px rgba(60, 64, 67, 0.15);\n",
              "      fill: #174EA6;\n",
              "    }\n",
              "\n",
              "    [theme=dark] .colab-df-convert {\n",
              "      background-color: #3B4455;\n",
              "      fill: #D2E3FC;\n",
              "    }\n",
              "\n",
              "    [theme=dark] .colab-df-convert:hover {\n",
              "      background-color: #434B5C;\n",
              "      box-shadow: 0px 1px 3px 1px rgba(0, 0, 0, 0.15);\n",
              "      filter: drop-shadow(0px 1px 2px rgba(0, 0, 0, 0.3));\n",
              "      fill: #FFFFFF;\n",
              "    }\n",
              "  </style>\n",
              "\n",
              "      <script>\n",
              "        const buttonEl =\n",
              "          document.querySelector('#df-e5ec303f-ec98-4689-860f-49d765081e1d button.colab-df-convert');\n",
              "        buttonEl.style.display =\n",
              "          google.colab.kernel.accessAllowed ? 'block' : 'none';\n",
              "\n",
              "        async function convertToInteractive(key) {\n",
              "          const element = document.querySelector('#df-e5ec303f-ec98-4689-860f-49d765081e1d');\n",
              "          const dataTable =\n",
              "            await google.colab.kernel.invokeFunction('convertToInteractive',\n",
              "                                                     [key], {});\n",
              "          if (!dataTable) return;\n",
              "\n",
              "          const docLinkHtml = 'Like what you see? Visit the ' +\n",
              "            '<a target=\"_blank\" href=https://colab.research.google.com/notebooks/data_table.ipynb>data table notebook</a>'\n",
              "            + ' to learn more about interactive tables.';\n",
              "          element.innerHTML = '';\n",
              "          dataTable['output_type'] = 'display_data';\n",
              "          await google.colab.output.renderOutput(dataTable, element);\n",
              "          const docLink = document.createElement('div');\n",
              "          docLink.innerHTML = docLinkHtml;\n",
              "          element.appendChild(docLink);\n",
              "        }\n",
              "      </script>\n",
              "    </div>\n",
              "  </div>\n",
              "  "
            ]
          },
          "metadata": {},
          "execution_count": 145
        }
      ]
    },
    {
      "cell_type": "markdown",
      "source": [
        "Вывод: доноры, оформившие рекурентный платеж, жертвуют фонду на протяжении полутора лет. "
      ],
      "metadata": {
        "id": "dHhUru_32FOk"
      },
      "id": "dHhUru_32FOk"
    },
    {
      "cell_type": "code",
      "source": [
        "sns.distplot(result['lifetime_days']);\n",
        "plt.title('Распределение продолжительности пожертвований')\n",
        "plt.show()\n",
        "result['lifetime_days'].describe()"
      ],
      "metadata": {
        "colab": {
          "base_uri": "https://localhost:8080/",
          "height": 452
        },
        "id": "TnsOHU2ksVp9",
        "outputId": "c8bd246d-d56e-4a50-95e1-63334f840ba3"
      },
      "id": "TnsOHU2ksVp9",
      "execution_count": null,
      "outputs": [
        {
          "output_type": "display_data",
          "data": {
            "text/plain": [
              "<Figure size 432x288 with 1 Axes>"
            ],
            "image/png": "[encoded data removed]"
          },
          "metadata": {
            "needs_background": "light"
          }
        },
        {
          "output_type": "execute_result",
          "data": {
            "text/plain": [
              "count   14043.00\n",
              "mean      340.66\n",
              "std       420.93\n",
              "min         0.00\n",
              "25%         0.00\n",
              "50%       201.00\n",
              "75%       517.00\n",
              "max      2486.00\n",
              "Name: lifetime_days, dtype: float64"
            ]
          },
          "metadata": {},
          "execution_count": 146
        }
      ]
    },
    {
      "cell_type": "markdown",
      "source": [
        "Вывод: чаще всего пользователи выбирают однократное пожертвование, но есть доноры, которые совершают пожертвования в течение длительного времени. Поскольку данные распределены неравномерно, будем ориентироваться на медианное значение. Поэтому в среднем жизнедеятельность донора составляет от 7 месяцев"
      ],
      "metadata": {
        "id": "KGAjA60EuBgN"
      },
      "id": "KGAjA60EuBgN"
    },
    {
      "cell_type": "code",
      "source": [
        "result_1=result.query('is_reccurent==1')\n",
        "sns.distplot(result_1['lifetime_days']);\n",
        "plt.title('Распределение продолжительности пожертвований')\n",
        "plt.show()\n",
        "result_1['lifetime_days'].describe()"
      ],
      "metadata": {
        "colab": {
          "base_uri": "https://localhost:8080/",
          "height": 452
        },
        "id": "dV7N02ezwdyP",
        "outputId": "dc294884-ae33-4636-d5b1-aede76c288ac"
      },
      "id": "dV7N02ezwdyP",
      "execution_count": null,
      "outputs": [
        {
          "output_type": "display_data",
          "data": {
            "text/plain": [
              "<Figure size 432x288 with 1 Axes>"
            ],
            "image/png": "[encoded data removed]"
          },
          "metadata": {
            "needs_background": "light"
          }
        },
        {
          "output_type": "execute_result",
          "data": {
            "text/plain": [
              "count   8085.00\n",
              "mean     461.93\n",
              "std      429.29\n",
              "min        0.00\n",
              "25%      152.00\n",
              "50%      365.00\n",
              "75%      640.00\n",
              "max     2472.00\n",
              "Name: lifetime_days, dtype: float64"
            ]
          },
          "metadata": {},
          "execution_count": 147
        }
      ]
    },
    {
      "cell_type": "code",
      "source": [
        ""
      ],
      "metadata": {
        "id": "Y5E4lIS4rVoK"
      },
      "id": "Y5E4lIS4rVoK",
      "execution_count": null,
      "outputs": []
    }
  ],
  "metadata": {
    "kernelspec": {
      "display_name": "Python 3 (ipykernel)",
      "language": "python",
      "name": "python3"
    },
    "language_info": {
      "codemirror_mode": {
        "name": "ipython",
        "version": 3
      },
      "file_extension": ".py",
      "mimetype": "text/x-python",
      "name": "python",
      "nbconvert_exporter": "python",
      "pygments_lexer": "ipython3",
      "version": "3.7.8"
    },
    "toc": {
      "base_numbering": 1,
      "nav_menu": {},
      "number_sections": true,
      "sideBar": true,
      "skip_h1_title": true,
      "title_cell": "Table of Contents",
      "title_sidebar": "Contents",
      "toc_cell": true,
      "toc_position": {},
      "toc_section_display": true,
      "toc_window_display": false
    },
    "colab": {
      "name": "buro_dobryh_del_L.ipynb",
      "provenance": [],
      "collapsed_sections": [],
      "toc_visible": true
    }
  },
  "nbformat": 4,
  "nbformat_minor": 5
}