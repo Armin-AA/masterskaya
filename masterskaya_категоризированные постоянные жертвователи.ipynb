{
 "cells": [
  {
   "cell_type": "markdown",
   "metadata": {},
   "source": [
    "# Задача\n",
    "\n",
    "Заказчик: <br>\n",
    "Благотворительный фонд “Бюро добрых дел”<br><br>\n",
    "\n",
    "Основная цель заказчика заключается в том, чтобы из пула тех клиентов, которые жертвовали за последний год, выявить клиентов, которые могут увеличить частоту или размер пожертвований.<br>\n",
    "* Данные, которыми располагает заказчик, включают в себя историю платежей жертвователей и какую-то дополнительную информацию за несколько лет по четырём тысячам жертвователей.<br>\n",
    "* Жизненный цикл жертвователя составляет от полутора до трёх лет, поэтому в истории будут примеры того, как именно меняется характер платежей клиентов.<br>\n",
    "* Если получится на основе данных сделать дополнительную сегментацию, например выделить характерное поведение пользователей, которые прекращают жертвовать, это также интересует заказчика.\n",
    "<br><br>\n",
    "\n",
    "Данные реальные, задача интересная, успешное её решение приведёт к тому, что больше людей получат ту помощь, в которой нуждаются."
   ]
  },
  {
   "cell_type": "markdown",
   "metadata": {},
   "source": [
    "## Подготовка данных"
   ]
  },
  {
   "cell_type": "code",
   "execution_count": 173,
   "metadata": {},
   "outputs": [],
   "source": [
    "import pandas as pd\n",
    "import warnings\n",
    "warnings.filterwarnings('ignore')"
   ]
  },
  {
   "cell_type": "code",
   "execution_count": 174,
   "metadata": {
    "colab": {
     "base_uri": "https://localhost:8080/",
     "height": 917
    },
    "id": "zBF04Td5bp9u",
    "outputId": "0c64d88d-5bf9-4fef-edec-eab0c5652c3c"
   },
   "outputs": [
    {
     "name": "stdout",
     "output_type": "stream",
     "text": [
      "<class 'pandas.core.frame.DataFrame'>\n",
      "RangeIndex: 3683 entries, 0 to 3682\n",
      "Data columns (total 4 columns):\n",
      " #   Column                           Non-Null Count  Dtype         \n",
      "---  ------                           --------------  -----         \n",
      " 0   ID                               3683 non-null   object        \n",
      " 1   Пол                              2431 non-null   object        \n",
      " 2   Город                            1015 non-null   object        \n",
      " 3   Дата последней email активности  1835 non-null   datetime64[ns]\n",
      "dtypes: datetime64[ns](1), object(3)\n",
      "memory usage: 115.2+ KB\n"
     ]
    },
    {
     "data": {
      "text/html": [
       "<div>\n",
       "<style scoped>\n",
       "    .dataframe tbody tr th:only-of-type {\n",
       "        vertical-align: middle;\n",
       "    }\n",
       "\n",
       "    .dataframe tbody tr th {\n",
       "        vertical-align: top;\n",
       "    }\n",
       "\n",
       "    .dataframe thead th {\n",
       "        text-align: right;\n",
       "    }\n",
       "</style>\n",
       "<table border=\"1\" class=\"dataframe\">\n",
       "  <thead>\n",
       "    <tr style=\"text-align: right;\">\n",
       "      <th></th>\n",
       "      <th>ID</th>\n",
       "      <th>Пол</th>\n",
       "      <th>Город</th>\n",
       "      <th>Дата последней email активности</th>\n",
       "    </tr>\n",
       "  </thead>\n",
       "  <tbody>\n",
       "    <tr>\n",
       "      <th>0</th>\n",
       "      <td>AF575B85-917F-475D-8875-00055586E05B</td>\n",
       "      <td>NaN</td>\n",
       "      <td>NaN</td>\n",
       "      <td>NaT</td>\n",
       "    </tr>\n",
       "    <tr>\n",
       "      <th>1</th>\n",
       "      <td>229A9B43-3A15-4A48-8CB6-000EDB240D50</td>\n",
       "      <td>NaN</td>\n",
       "      <td>NaN</td>\n",
       "      <td>NaT</td>\n",
       "    </tr>\n",
       "    <tr>\n",
       "      <th>2</th>\n",
       "      <td>C6606486-05A8-4437-ACF9-00344E54FEE1</td>\n",
       "      <td>NaN</td>\n",
       "      <td>NaN</td>\n",
       "      <td>NaT</td>\n",
       "    </tr>\n",
       "    <tr>\n",
       "      <th>3</th>\n",
       "      <td>6ED86154-A688-4A11-868F-006209035413</td>\n",
       "      <td>Женский                                       ...</td>\n",
       "      <td>NaN</td>\n",
       "      <td>NaT</td>\n",
       "    </tr>\n",
       "    <tr>\n",
       "      <th>4</th>\n",
       "      <td>46C41E20-EA56-4698-9C37-00692FD6FFE8</td>\n",
       "      <td>Женский                                       ...</td>\n",
       "      <td>NaN</td>\n",
       "      <td>NaT</td>\n",
       "    </tr>\n",
       "    <tr>\n",
       "      <th>5</th>\n",
       "      <td>8CBFF8AB-3153-473A-BE84-0079B873EA33</td>\n",
       "      <td>Мужской                                       ...</td>\n",
       "      <td>NaN</td>\n",
       "      <td>2022-07-18 17:36:39</td>\n",
       "    </tr>\n",
       "    <tr>\n",
       "      <th>6</th>\n",
       "      <td>20AC64AC-190E-4091-8D2E-00832BED87C5</td>\n",
       "      <td>Женский                                       ...</td>\n",
       "      <td>NaN</td>\n",
       "      <td>2022-07-18 16:29:53</td>\n",
       "    </tr>\n",
       "    <tr>\n",
       "      <th>7</th>\n",
       "      <td>0E516427-6B84-4268-AB70-009E9E1FD026</td>\n",
       "      <td>NaN</td>\n",
       "      <td>NaN</td>\n",
       "      <td>NaT</td>\n",
       "    </tr>\n",
       "    <tr>\n",
       "      <th>8</th>\n",
       "      <td>3845EBA8-054E-465D-98CE-00A2758E3F92</td>\n",
       "      <td>NaN</td>\n",
       "      <td>NaN</td>\n",
       "      <td>NaT</td>\n",
       "    </tr>\n",
       "    <tr>\n",
       "      <th>9</th>\n",
       "      <td>530A44DC-46A2-48E6-962F-00A67997F7A1</td>\n",
       "      <td>Женский                                       ...</td>\n",
       "      <td>NaN</td>\n",
       "      <td>2022-07-18 16:29:50</td>\n",
       "    </tr>\n",
       "  </tbody>\n",
       "</table>\n",
       "</div>"
      ],
      "text/plain": [
       "                                     ID  \\\n",
       "0  AF575B85-917F-475D-8875-00055586E05B   \n",
       "1  229A9B43-3A15-4A48-8CB6-000EDB240D50   \n",
       "2  C6606486-05A8-4437-ACF9-00344E54FEE1   \n",
       "3  6ED86154-A688-4A11-868F-006209035413   \n",
       "4  46C41E20-EA56-4698-9C37-00692FD6FFE8   \n",
       "5  8CBFF8AB-3153-473A-BE84-0079B873EA33   \n",
       "6  20AC64AC-190E-4091-8D2E-00832BED87C5   \n",
       "7  0E516427-6B84-4268-AB70-009E9E1FD026   \n",
       "8  3845EBA8-054E-465D-98CE-00A2758E3F92   \n",
       "9  530A44DC-46A2-48E6-962F-00A67997F7A1   \n",
       "\n",
       "                                                 Пол Город  \\\n",
       "0                                                NaN   NaN   \n",
       "1                                                NaN   NaN   \n",
       "2                                                NaN   NaN   \n",
       "3  Женский                                       ...   NaN   \n",
       "4  Женский                                       ...   NaN   \n",
       "5  Мужской                                       ...   NaN   \n",
       "6  Женский                                       ...   NaN   \n",
       "7                                                NaN   NaN   \n",
       "8                                                NaN   NaN   \n",
       "9  Женский                                       ...   NaN   \n",
       "\n",
       "  Дата последней email активности  \n",
       "0                             NaT  \n",
       "1                             NaT  \n",
       "2                             NaT  \n",
       "3                             NaT  \n",
       "4                             NaT  \n",
       "5             2022-07-18 17:36:39  \n",
       "6             2022-07-18 16:29:53  \n",
       "7                             NaT  \n",
       "8                             NaT  \n",
       "9             2022-07-18 16:29:50  "
      ]
     },
     "metadata": {},
     "output_type": "display_data"
    },
    {
     "data": {
      "text/plain": [
       "None"
      ]
     },
     "metadata": {},
     "output_type": "display_data"
    },
    {
     "name": "stdout",
     "output_type": "stream",
     "text": [
      "<class 'pandas.core.frame.DataFrame'>\n",
      "RangeIndex: 14043 entries, 0 to 14042\n",
      "Data columns (total 6 columns):\n",
      " #   Column              Non-Null Count  Dtype         \n",
      "---  ------              --------------  -----         \n",
      " 0   Donor ID            14043 non-null  object        \n",
      " 1   Дата платежа        14043 non-null  datetime64[ns]\n",
      " 2   Сумма платежа       14043 non-null  float64       \n",
      " 3   Рекуррентный        14043 non-null  object        \n",
      " 4   Назначение платежа  12774 non-null  object        \n",
      " 5   Канал оплаты        14043 non-null  object        \n",
      "dtypes: datetime64[ns](1), float64(1), object(4)\n",
      "memory usage: 658.4+ KB\n"
     ]
    },
    {
     "data": {
      "text/html": [
       "<div>\n",
       "<style scoped>\n",
       "    .dataframe tbody tr th:only-of-type {\n",
       "        vertical-align: middle;\n",
       "    }\n",
       "\n",
       "    .dataframe tbody tr th {\n",
       "        vertical-align: top;\n",
       "    }\n",
       "\n",
       "    .dataframe thead th {\n",
       "        text-align: right;\n",
       "    }\n",
       "</style>\n",
       "<table border=\"1\" class=\"dataframe\">\n",
       "  <thead>\n",
       "    <tr style=\"text-align: right;\">\n",
       "      <th></th>\n",
       "      <th>Donor ID</th>\n",
       "      <th>Дата платежа</th>\n",
       "      <th>Сумма платежа</th>\n",
       "      <th>Рекуррентный</th>\n",
       "      <th>Назначение платежа</th>\n",
       "      <th>Канал оплаты</th>\n",
       "    </tr>\n",
       "  </thead>\n",
       "  <tbody>\n",
       "    <tr>\n",
       "      <th>0</th>\n",
       "      <td>DE5393F9-9585-4057-B7FB-24B69697FC08</td>\n",
       "      <td>2022-07-03 19:49:48</td>\n",
       "      <td>300.0</td>\n",
       "      <td>Да                                            ...</td>\n",
       "      <td>ПОЖЕРТВОВАНИЕ  undefined</td>\n",
       "      <td>Банковские карты</td>\n",
       "    </tr>\n",
       "    <tr>\n",
       "      <th>1</th>\n",
       "      <td>81CD4BEF-443E-4D36-B34F-664E11182D65</td>\n",
       "      <td>2020-03-14 12:20:02</td>\n",
       "      <td>300.0</td>\n",
       "      <td>Нет                                           ...</td>\n",
       "      <td>SMS bdd</td>\n",
       "      <td>SMS</td>\n",
       "    </tr>\n",
       "    <tr>\n",
       "      <th>2</th>\n",
       "      <td>D3BEB76D-D8B6-47E2-8109-44F1B278943B</td>\n",
       "      <td>2022-04-07 00:00:00</td>\n",
       "      <td>16.0</td>\n",
       "      <td>Нет                                           ...</td>\n",
       "      <td>Добровольное пожертвование. НДС не облагается</td>\n",
       "      <td>Прямые поступления на счет</td>\n",
       "    </tr>\n",
       "    <tr>\n",
       "      <th>3</th>\n",
       "      <td>F1310736-B229-4AAC-99B7-F13ACECF67CB</td>\n",
       "      <td>2019-12-26 02:25:42</td>\n",
       "      <td>300.0</td>\n",
       "      <td>Нет                                           ...</td>\n",
       "      <td>NaN</td>\n",
       "      <td>SMS</td>\n",
       "    </tr>\n",
       "    <tr>\n",
       "      <th>4</th>\n",
       "      <td>61C3D86B-39DA-445C-9D7F-9924CE9BDA14</td>\n",
       "      <td>2021-06-26 01:26:07</td>\n",
       "      <td>200.0</td>\n",
       "      <td>Да                                            ...</td>\n",
       "      <td>ПОЖЕРТВОВАНИЕ  undefined</td>\n",
       "      <td>Банковские карты</td>\n",
       "    </tr>\n",
       "    <tr>\n",
       "      <th>5</th>\n",
       "      <td>6FDEE73B-0270-4AFA-BA21-579E5B970D6A</td>\n",
       "      <td>2017-08-26 18:16:27</td>\n",
       "      <td>100.0</td>\n",
       "      <td>Да                                            ...</td>\n",
       "      <td>Пожертвование в фонд помощи детям-отказникам и...</td>\n",
       "      <td>Банковские карты</td>\n",
       "    </tr>\n",
       "    <tr>\n",
       "      <th>6</th>\n",
       "      <td>F66CEFEF-38BB-4E7A-A795-207E19A03005</td>\n",
       "      <td>2017-06-28 14:15:06</td>\n",
       "      <td>2000.0</td>\n",
       "      <td>Да                                            ...</td>\n",
       "      <td>Пожертвование в фонд помощи детям-отказникам и...</td>\n",
       "      <td>Банковские карты</td>\n",
       "    </tr>\n",
       "    <tr>\n",
       "      <th>7</th>\n",
       "      <td>C09905A1-2059-4FAB-B74B-F52B5913CF84</td>\n",
       "      <td>2020-06-01 14:43:58</td>\n",
       "      <td>200.0</td>\n",
       "      <td>Да                                            ...</td>\n",
       "      <td>ПОЖЕРТВОВАНИЕ</td>\n",
       "      <td>Банковские карты</td>\n",
       "    </tr>\n",
       "    <tr>\n",
       "      <th>8</th>\n",
       "      <td>BBA4E944-A48D-44B8-A0E6-E4FEB6486097</td>\n",
       "      <td>2021-12-07 17:32:21</td>\n",
       "      <td>500.0</td>\n",
       "      <td>Да                                            ...</td>\n",
       "      <td>ПОЖЕРТВОВАНИЕ  undefined</td>\n",
       "      <td>Банковские карты</td>\n",
       "    </tr>\n",
       "    <tr>\n",
       "      <th>9</th>\n",
       "      <td>08C3988B-C0FF-44EE-83BF-5A75E18110D2</td>\n",
       "      <td>2019-11-05 20:59:40</td>\n",
       "      <td>100.0</td>\n",
       "      <td>Да                                            ...</td>\n",
       "      <td>ПОЖЕРТВОВАНИЕ  undefined</td>\n",
       "      <td>Банковские карты</td>\n",
       "    </tr>\n",
       "  </tbody>\n",
       "</table>\n",
       "</div>"
      ],
      "text/plain": [
       "                               Donor ID        Дата платежа  Сумма платежа  \\\n",
       "0  DE5393F9-9585-4057-B7FB-24B69697FC08 2022-07-03 19:49:48          300.0   \n",
       "1  81CD4BEF-443E-4D36-B34F-664E11182D65 2020-03-14 12:20:02          300.0   \n",
       "2  D3BEB76D-D8B6-47E2-8109-44F1B278943B 2022-04-07 00:00:00           16.0   \n",
       "3  F1310736-B229-4AAC-99B7-F13ACECF67CB 2019-12-26 02:25:42          300.0   \n",
       "4  61C3D86B-39DA-445C-9D7F-9924CE9BDA14 2021-06-26 01:26:07          200.0   \n",
       "5  6FDEE73B-0270-4AFA-BA21-579E5B970D6A 2017-08-26 18:16:27          100.0   \n",
       "6  F66CEFEF-38BB-4E7A-A795-207E19A03005 2017-06-28 14:15:06         2000.0   \n",
       "7  C09905A1-2059-4FAB-B74B-F52B5913CF84 2020-06-01 14:43:58          200.0   \n",
       "8  BBA4E944-A48D-44B8-A0E6-E4FEB6486097 2021-12-07 17:32:21          500.0   \n",
       "9  08C3988B-C0FF-44EE-83BF-5A75E18110D2 2019-11-05 20:59:40          100.0   \n",
       "\n",
       "                                        Рекуррентный  \\\n",
       "0  Да                                            ...   \n",
       "1  Нет                                           ...   \n",
       "2  Нет                                           ...   \n",
       "3  Нет                                           ...   \n",
       "4  Да                                            ...   \n",
       "5  Да                                            ...   \n",
       "6  Да                                            ...   \n",
       "7  Да                                            ...   \n",
       "8  Да                                            ...   \n",
       "9  Да                                            ...   \n",
       "\n",
       "                                  Назначение платежа  \\\n",
       "0                           ПОЖЕРТВОВАНИЕ  undefined   \n",
       "1                                            SMS bdd   \n",
       "2      Добровольное пожертвование. НДС не облагается   \n",
       "3                                                NaN   \n",
       "4                           ПОЖЕРТВОВАНИЕ  undefined   \n",
       "5  Пожертвование в фонд помощи детям-отказникам и...   \n",
       "6  Пожертвование в фонд помощи детям-отказникам и...   \n",
       "7                                      ПОЖЕРТВОВАНИЕ   \n",
       "8                           ПОЖЕРТВОВАНИЕ  undefined   \n",
       "9                           ПОЖЕРТВОВАНИЕ  undefined   \n",
       "\n",
       "                   Канал оплаты  \n",
       "0            Банковские карты    \n",
       "1                         SMS    \n",
       "2  Прямые поступления на счет    \n",
       "3                         SMS    \n",
       "4            Банковские карты    \n",
       "5            Банковские карты    \n",
       "6            Банковские карты    \n",
       "7            Банковские карты    \n",
       "8            Банковские карты    \n",
       "9            Банковские карты    "
      ]
     },
     "metadata": {},
     "output_type": "display_data"
    },
    {
     "data": {
      "text/plain": [
       "None"
      ]
     },
     "metadata": {},
     "output_type": "display_data"
    }
   ],
   "source": [
    "donors = pd.read_excel('Выгрузка для ЯП_2.xlsx', sheet_name='Доноры')\n",
    "donats = pd.read_excel('Выгрузка для ЯП_2.xlsx', sheet_name='Пожертвования')\n",
    "\n",
    "display(donors.head(10), donors.info())\n",
    "display(donats.head(10), donats.info())"
   ]
  },
  {
   "cell_type": "code",
   "execution_count": 175,
   "metadata": {
    "colab": {
     "base_uri": "https://localhost:8080/",
     "height": 53
    },
    "id": "juOsdEuJfkZw",
    "outputId": "b1ac44d8-0955-4635-95aa-d1f2172d634b"
   },
   "outputs": [
    {
     "data": {
      "text/plain": [
       "3683"
      ]
     },
     "metadata": {},
     "output_type": "display_data"
    },
    {
     "data": {
      "text/plain": [
       "3683"
      ]
     },
     "execution_count": 175,
     "metadata": {},
     "output_type": "execute_result"
    }
   ],
   "source": [
    "# сравним количество уникальных id в обеих датасетах\n",
    "display(len(donors['ID'].unique()))\n",
    "len(donats['Donor ID'].unique())"
   ]
  },
  {
   "cell_type": "code",
   "execution_count": 176,
   "metadata": {
    "colab": {
     "base_uri": "https://localhost:8080/",
     "height": 528
    },
    "id": "scKqKTXjf0dt",
    "outputId": "ebd39726-6520-4cd9-ee59-624d00bc7e15"
   },
   "outputs": [
    {
     "data": {
      "text/html": [
       "<div>\n",
       "<style scoped>\n",
       "    .dataframe tbody tr th:only-of-type {\n",
       "        vertical-align: middle;\n",
       "    }\n",
       "\n",
       "    .dataframe tbody tr th {\n",
       "        vertical-align: top;\n",
       "    }\n",
       "\n",
       "    .dataframe thead th {\n",
       "        text-align: right;\n",
       "    }\n",
       "</style>\n",
       "<table border=\"1\" class=\"dataframe\">\n",
       "  <thead>\n",
       "    <tr style=\"text-align: right;\">\n",
       "      <th></th>\n",
       "      <th>ID</th>\n",
       "      <th>Дата платежа</th>\n",
       "      <th>Сумма платежа</th>\n",
       "      <th>Рекуррентный</th>\n",
       "      <th>Назначение платежа</th>\n",
       "      <th>Канал оплаты</th>\n",
       "      <th>Пол</th>\n",
       "      <th>Город</th>\n",
       "      <th>Дата последней email активности</th>\n",
       "    </tr>\n",
       "  </thead>\n",
       "  <tbody>\n",
       "    <tr>\n",
       "      <th>0</th>\n",
       "      <td>DE5393F9-9585-4057-B7FB-24B69697FC08</td>\n",
       "      <td>2022-07-03 19:49:48</td>\n",
       "      <td>300.0</td>\n",
       "      <td>Да                                            ...</td>\n",
       "      <td>ПОЖЕРТВОВАНИЕ  undefined</td>\n",
       "      <td>Банковские карты</td>\n",
       "      <td>Женский                                       ...</td>\n",
       "      <td>Москва</td>\n",
       "      <td>2022-06-03 20:15:57</td>\n",
       "    </tr>\n",
       "    <tr>\n",
       "      <th>1</th>\n",
       "      <td>81CD4BEF-443E-4D36-B34F-664E11182D65</td>\n",
       "      <td>2020-03-14 12:20:02</td>\n",
       "      <td>300.0</td>\n",
       "      <td>Нет                                           ...</td>\n",
       "      <td>SMS bdd</td>\n",
       "      <td>SMS</td>\n",
       "      <td>Женский                                       ...</td>\n",
       "      <td>Москва</td>\n",
       "      <td>2022-07-18 17:19:02</td>\n",
       "    </tr>\n",
       "    <tr>\n",
       "      <th>2</th>\n",
       "      <td>D3BEB76D-D8B6-47E2-8109-44F1B278943B</td>\n",
       "      <td>2022-04-07 00:00:00</td>\n",
       "      <td>16.0</td>\n",
       "      <td>Нет                                           ...</td>\n",
       "      <td>Добровольное пожертвование. НДС не облагается</td>\n",
       "      <td>Прямые поступления на счет</td>\n",
       "      <td>Мужской                                       ...</td>\n",
       "      <td>NaN</td>\n",
       "      <td>NaT</td>\n",
       "    </tr>\n",
       "    <tr>\n",
       "      <th>3</th>\n",
       "      <td>F1310736-B229-4AAC-99B7-F13ACECF67CB</td>\n",
       "      <td>2019-12-26 02:25:42</td>\n",
       "      <td>300.0</td>\n",
       "      <td>Нет                                           ...</td>\n",
       "      <td>NaN</td>\n",
       "      <td>SMS</td>\n",
       "      <td>NaN</td>\n",
       "      <td>NaN</td>\n",
       "      <td>NaT</td>\n",
       "    </tr>\n",
       "    <tr>\n",
       "      <th>4</th>\n",
       "      <td>61C3D86B-39DA-445C-9D7F-9924CE9BDA14</td>\n",
       "      <td>2021-06-26 01:26:07</td>\n",
       "      <td>200.0</td>\n",
       "      <td>Да                                            ...</td>\n",
       "      <td>ПОЖЕРТВОВАНИЕ  undefined</td>\n",
       "      <td>Банковские карты</td>\n",
       "      <td>Женский                                       ...</td>\n",
       "      <td>NaN</td>\n",
       "      <td>2022-07-20 20:32:37</td>\n",
       "    </tr>\n",
       "  </tbody>\n",
       "</table>\n",
       "</div>"
      ],
      "text/plain": [
       "                                     ID        Дата платежа  Сумма платежа  \\\n",
       "0  DE5393F9-9585-4057-B7FB-24B69697FC08 2022-07-03 19:49:48          300.0   \n",
       "1  81CD4BEF-443E-4D36-B34F-664E11182D65 2020-03-14 12:20:02          300.0   \n",
       "2  D3BEB76D-D8B6-47E2-8109-44F1B278943B 2022-04-07 00:00:00           16.0   \n",
       "3  F1310736-B229-4AAC-99B7-F13ACECF67CB 2019-12-26 02:25:42          300.0   \n",
       "4  61C3D86B-39DA-445C-9D7F-9924CE9BDA14 2021-06-26 01:26:07          200.0   \n",
       "\n",
       "                                        Рекуррентный  \\\n",
       "0  Да                                            ...   \n",
       "1  Нет                                           ...   \n",
       "2  Нет                                           ...   \n",
       "3  Нет                                           ...   \n",
       "4  Да                                            ...   \n",
       "\n",
       "                              Назначение платежа  \\\n",
       "0                       ПОЖЕРТВОВАНИЕ  undefined   \n",
       "1                                        SMS bdd   \n",
       "2  Добровольное пожертвование. НДС не облагается   \n",
       "3                                            NaN   \n",
       "4                       ПОЖЕРТВОВАНИЕ  undefined   \n",
       "\n",
       "                   Канал оплаты  \\\n",
       "0            Банковские карты     \n",
       "1                         SMS     \n",
       "2  Прямые поступления на счет     \n",
       "3                         SMS     \n",
       "4            Банковские карты     \n",
       "\n",
       "                                                 Пол   Город  \\\n",
       "0  Женский                                       ...  Москва   \n",
       "1  Женский                                       ...  Москва   \n",
       "2  Мужской                                       ...     NaN   \n",
       "3                                                NaN     NaN   \n",
       "4  Женский                                       ...     NaN   \n",
       "\n",
       "  Дата последней email активности  \n",
       "0             2022-06-03 20:15:57  \n",
       "1             2022-07-18 17:19:02  \n",
       "2                             NaT  \n",
       "3                             NaT  \n",
       "4             2022-07-20 20:32:37  "
      ]
     },
     "execution_count": 176,
     "metadata": {},
     "output_type": "execute_result"
    }
   ],
   "source": [
    "# т.к. количество уникальных id равны, объединим таблицы в одну,\n",
    "# предварительно переименовав столбец в donats\n",
    "\n",
    "donats = donats.rename(columns={'Donor ID' : 'ID'})\n",
    "\n",
    "df = donats.merge(donors, how='left', on = 'ID')\n",
    "df.head()"
   ]
  },
  {
   "cell_type": "code",
   "execution_count": 177,
   "metadata": {
    "colab": {
     "base_uri": "https://localhost:8080/"
    },
    "id": "hA3xbkHTgMx8",
    "outputId": "f3c3fdfd-5be0-46fd-c412-8c183efb6aed"
   },
   "outputs": [
    {
     "data": {
      "text/plain": [
       "Index(['id', 'date', 'amount', 'is_reccurent', 'purpose', 'channel', 'gender',\n",
       "       'city', 'last_email_activity'],\n",
       "      dtype='object')"
      ]
     },
     "execution_count": 177,
     "metadata": {},
     "output_type": "execute_result"
    }
   ],
   "source": [
    "# переименуем столбцы, приведя их к змеиному регистру\n",
    "df = df.rename(columns = \n",
    "              {\n",
    "                  'ID':'id',\n",
    "                  'Дата платежа':'date',\n",
    "                  'Сумма платежа':'amount',\n",
    "                  'Пол':'gender',\n",
    "                  'Город':'city',\n",
    "                  'Назначение платежа' : 'purpose',\n",
    "                  'Рекуррентный' : 'is_reccurent',\n",
    "                  'Канал оплаты' : 'channel',\n",
    "                  'Дата последней email активности': 'last_email_activity'\n",
    "                  \n",
    "              }\n",
    "              )\n",
    "df.columns"
   ]
  },
  {
   "cell_type": "code",
   "execution_count": 178,
   "metadata": {},
   "outputs": [
    {
     "data": {
      "text/plain": [
       "0                         пожертвование  undefined\n",
       "1                                          sms bdd\n",
       "2    добровольное пожертвование. ндс не облагается\n",
       "3                                              NaN\n",
       "4                         пожертвование  undefined\n",
       "Name: purpose, dtype: object"
      ]
     },
     "execution_count": 178,
     "metadata": {},
     "output_type": "execute_result"
    }
   ],
   "source": [
    "# приведем данные в столбце 'purpose' к нижнему регистру\n",
    "\n",
    "df['purpose'] = df['purpose'].str.lower()\n",
    "df['purpose'].head()"
   ]
  },
  {
   "cell_type": "code",
   "execution_count": 179,
   "metadata": {
    "colab": {
     "base_uri": "https://localhost:8080/"
    },
    "id": "rmi8pJjRhGxz",
    "outputId": "defd2c1d-b623-4ba4-e477-711dc9ca56c7"
   },
   "outputs": [
    {
     "data": {
      "text/plain": [
       "id                     0.000000\n",
       "date                   0.000000\n",
       "amount                 0.000000\n",
       "is_reccurent           0.000000\n",
       "purpose                0.090437\n",
       "channel                0.000000\n",
       "gender                 0.111799\n",
       "city                   0.520188\n",
       "last_email_activity    0.211493\n",
       "dtype: float64"
      ]
     },
     "execution_count": 179,
     "metadata": {},
     "output_type": "execute_result"
    }
   ],
   "source": [
    "# посмотрим процентное соотношение пропусков\n",
    "df.isna().sum()/len(df['id'])"
   ]
  },
  {
   "cell_type": "code",
   "execution_count": 180,
   "metadata": {},
   "outputs": [
    {
     "data": {
      "text/plain": [
       "id                     0.0\n",
       "date                   0.0\n",
       "amount                 0.0\n",
       "is_reccurent           0.0\n",
       "purpose                0.0\n",
       "channel                0.0\n",
       "gender                 0.0\n",
       "city                   0.0\n",
       "last_email_activity    0.0\n",
       "dtype: float64"
      ]
     },
     "execution_count": 180,
     "metadata": {},
     "output_type": "execute_result"
    }
   ],
   "source": [
    "# заполним пропуски нулями\n",
    "df = df.fillna('0')\n",
    "df.isna().sum()/len(df['id'])"
   ]
  },
  {
   "cell_type": "code",
   "execution_count": 181,
   "metadata": {},
   "outputs": [
    {
     "data": {
      "text/html": [
       "<div>\n",
       "<style scoped>\n",
       "    .dataframe tbody tr th:only-of-type {\n",
       "        vertical-align: middle;\n",
       "    }\n",
       "\n",
       "    .dataframe tbody tr th {\n",
       "        vertical-align: top;\n",
       "    }\n",
       "\n",
       "    .dataframe thead th {\n",
       "        text-align: right;\n",
       "    }\n",
       "</style>\n",
       "<table border=\"1\" class=\"dataframe\">\n",
       "  <thead>\n",
       "    <tr style=\"text-align: right;\">\n",
       "      <th></th>\n",
       "      <th>id</th>\n",
       "      <th>date</th>\n",
       "      <th>amount</th>\n",
       "      <th>is_reccurent</th>\n",
       "      <th>purpose</th>\n",
       "      <th>channel</th>\n",
       "      <th>gender</th>\n",
       "      <th>city</th>\n",
       "      <th>last_email_activity</th>\n",
       "    </tr>\n",
       "  </thead>\n",
       "  <tbody>\n",
       "    <tr>\n",
       "      <th>133</th>\n",
       "      <td>5D288F50-4F0E-4FDF-A026-863590DF3F69</td>\n",
       "      <td>2022-04-28</td>\n",
       "      <td>1.0</td>\n",
       "      <td>Нет                                           ...</td>\n",
       "      <td>благотворительное пожертвование 1.00</td>\n",
       "      <td>Прямые поступления на счет</td>\n",
       "      <td>Мужской                                       ...</td>\n",
       "      <td>0</td>\n",
       "      <td>0</td>\n",
       "    </tr>\n",
       "    <tr>\n",
       "      <th>297</th>\n",
       "      <td>5D288F50-4F0E-4FDF-A026-863590DF3F69</td>\n",
       "      <td>2022-04-28</td>\n",
       "      <td>1.0</td>\n",
       "      <td>Нет                                           ...</td>\n",
       "      <td>благотворительное пожертвование 1.00</td>\n",
       "      <td>Прямые поступления на счет</td>\n",
       "      <td>Мужской                                       ...</td>\n",
       "      <td>0</td>\n",
       "      <td>0</td>\n",
       "    </tr>\n",
       "    <tr>\n",
       "      <th>1438</th>\n",
       "      <td>5D288F50-4F0E-4FDF-A026-863590DF3F69</td>\n",
       "      <td>2022-04-28</td>\n",
       "      <td>1.0</td>\n",
       "      <td>Нет                                           ...</td>\n",
       "      <td>благотворительное пожертвование 1.00</td>\n",
       "      <td>Прямые поступления на счет</td>\n",
       "      <td>Мужской                                       ...</td>\n",
       "      <td>0</td>\n",
       "      <td>0</td>\n",
       "    </tr>\n",
       "    <tr>\n",
       "      <th>2837</th>\n",
       "      <td>5D288F50-4F0E-4FDF-A026-863590DF3F69</td>\n",
       "      <td>2022-04-28</td>\n",
       "      <td>1.0</td>\n",
       "      <td>Нет                                           ...</td>\n",
       "      <td>благотворительное пожертвование 1.00</td>\n",
       "      <td>Прямые поступления на счет</td>\n",
       "      <td>Мужской                                       ...</td>\n",
       "      <td>0</td>\n",
       "      <td>0</td>\n",
       "    </tr>\n",
       "    <tr>\n",
       "      <th>5166</th>\n",
       "      <td>FFCCBA23-89CA-4A22-BD8A-7CAD2D9EB7F7</td>\n",
       "      <td>2021-09-13</td>\n",
       "      <td>20.0</td>\n",
       "      <td>Нет                                           ...</td>\n",
       "      <td>добровольное пожертвование. ндс не облагается</td>\n",
       "      <td>Прямые поступления на счет</td>\n",
       "      <td>Женский                                       ...</td>\n",
       "      <td>0</td>\n",
       "      <td>0</td>\n",
       "    </tr>\n",
       "    <tr>\n",
       "      <th>7654</th>\n",
       "      <td>FFCCBA23-89CA-4A22-BD8A-7CAD2D9EB7F7</td>\n",
       "      <td>2021-09-13</td>\n",
       "      <td>20.0</td>\n",
       "      <td>Нет                                           ...</td>\n",
       "      <td>добровольное пожертвование. ндс не облагается</td>\n",
       "      <td>Прямые поступления на счет</td>\n",
       "      <td>Женский                                       ...</td>\n",
       "      <td>0</td>\n",
       "      <td>0</td>\n",
       "    </tr>\n",
       "    <tr>\n",
       "      <th>9594</th>\n",
       "      <td>D38F6A22-9BEF-4484-B377-ED8ED1DB4553</td>\n",
       "      <td>2021-02-11</td>\n",
       "      <td>1.0</td>\n",
       "      <td>Нет                                           ...</td>\n",
       "      <td>добровольное пожертвование;сумма 1.00 руб.;ком...</td>\n",
       "      <td>Прямые поступления на счет</td>\n",
       "      <td>Женский                                       ...</td>\n",
       "      <td>0</td>\n",
       "      <td>0</td>\n",
       "    </tr>\n",
       "    <tr>\n",
       "      <th>10112</th>\n",
       "      <td>FFCCBA23-89CA-4A22-BD8A-7CAD2D9EB7F7</td>\n",
       "      <td>2021-09-13</td>\n",
       "      <td>20.0</td>\n",
       "      <td>Нет                                           ...</td>\n",
       "      <td>добровольное пожертвование. ндс не облагается</td>\n",
       "      <td>Прямые поступления на счет</td>\n",
       "      <td>Женский                                       ...</td>\n",
       "      <td>0</td>\n",
       "      <td>0</td>\n",
       "    </tr>\n",
       "    <tr>\n",
       "      <th>10685</th>\n",
       "      <td>5D288F50-4F0E-4FDF-A026-863590DF3F69</td>\n",
       "      <td>2022-04-28</td>\n",
       "      <td>1.0</td>\n",
       "      <td>Нет                                           ...</td>\n",
       "      <td>благотворительное пожертвование 1.00</td>\n",
       "      <td>Прямые поступления на счет</td>\n",
       "      <td>Мужской                                       ...</td>\n",
       "      <td>0</td>\n",
       "      <td>0</td>\n",
       "    </tr>\n",
       "    <tr>\n",
       "      <th>11757</th>\n",
       "      <td>5D288F50-4F0E-4FDF-A026-863590DF3F69</td>\n",
       "      <td>2022-04-28</td>\n",
       "      <td>1.0</td>\n",
       "      <td>Нет                                           ...</td>\n",
       "      <td>благотворительное пожертвование 1.00</td>\n",
       "      <td>Прямые поступления на счет</td>\n",
       "      <td>Мужской                                       ...</td>\n",
       "      <td>0</td>\n",
       "      <td>0</td>\n",
       "    </tr>\n",
       "    <tr>\n",
       "      <th>13775</th>\n",
       "      <td>8FBCD1D4-5490-496F-A089-FB39AB7975AF</td>\n",
       "      <td>2021-04-12</td>\n",
       "      <td>10.0</td>\n",
       "      <td>Нет                                           ...</td>\n",
       "      <td>добровольное пожертвование. ндс не облагается</td>\n",
       "      <td>Прямые поступления на счет</td>\n",
       "      <td>Женский                                       ...</td>\n",
       "      <td>0</td>\n",
       "      <td>0</td>\n",
       "    </tr>\n",
       "    <tr>\n",
       "      <th>13990</th>\n",
       "      <td>C6CA05F1-C324-46EE-8A5A-7B1302DBB149</td>\n",
       "      <td>2020-12-27</td>\n",
       "      <td>100.0</td>\n",
       "      <td>Нет                                           ...</td>\n",
       "      <td>добровольное пожертвование;сумма 100 руб.;коми...</td>\n",
       "      <td>Прямые поступления на счет</td>\n",
       "      <td>0</td>\n",
       "      <td>Ереван</td>\n",
       "      <td>0</td>\n",
       "    </tr>\n",
       "  </tbody>\n",
       "</table>\n",
       "</div>"
      ],
      "text/plain": [
       "                                         id       date  amount  \\\n",
       "133    5D288F50-4F0E-4FDF-A026-863590DF3F69 2022-04-28     1.0   \n",
       "297    5D288F50-4F0E-4FDF-A026-863590DF3F69 2022-04-28     1.0   \n",
       "1438   5D288F50-4F0E-4FDF-A026-863590DF3F69 2022-04-28     1.0   \n",
       "2837   5D288F50-4F0E-4FDF-A026-863590DF3F69 2022-04-28     1.0   \n",
       "5166   FFCCBA23-89CA-4A22-BD8A-7CAD2D9EB7F7 2021-09-13    20.0   \n",
       "7654   FFCCBA23-89CA-4A22-BD8A-7CAD2D9EB7F7 2021-09-13    20.0   \n",
       "9594   D38F6A22-9BEF-4484-B377-ED8ED1DB4553 2021-02-11     1.0   \n",
       "10112  FFCCBA23-89CA-4A22-BD8A-7CAD2D9EB7F7 2021-09-13    20.0   \n",
       "10685  5D288F50-4F0E-4FDF-A026-863590DF3F69 2022-04-28     1.0   \n",
       "11757  5D288F50-4F0E-4FDF-A026-863590DF3F69 2022-04-28     1.0   \n",
       "13775  8FBCD1D4-5490-496F-A089-FB39AB7975AF 2021-04-12    10.0   \n",
       "13990  C6CA05F1-C324-46EE-8A5A-7B1302DBB149 2020-12-27   100.0   \n",
       "\n",
       "                                            is_reccurent  \\\n",
       "133    Нет                                           ...   \n",
       "297    Нет                                           ...   \n",
       "1438   Нет                                           ...   \n",
       "2837   Нет                                           ...   \n",
       "5166   Нет                                           ...   \n",
       "7654   Нет                                           ...   \n",
       "9594   Нет                                           ...   \n",
       "10112  Нет                                           ...   \n",
       "10685  Нет                                           ...   \n",
       "11757  Нет                                           ...   \n",
       "13775  Нет                                           ...   \n",
       "13990  Нет                                           ...   \n",
       "\n",
       "                                                 purpose  \\\n",
       "133                 благотворительное пожертвование 1.00   \n",
       "297                 благотворительное пожертвование 1.00   \n",
       "1438                благотворительное пожертвование 1.00   \n",
       "2837                благотворительное пожертвование 1.00   \n",
       "5166       добровольное пожертвование. ндс не облагается   \n",
       "7654       добровольное пожертвование. ндс не облагается   \n",
       "9594   добровольное пожертвование;сумма 1.00 руб.;ком...   \n",
       "10112      добровольное пожертвование. ндс не облагается   \n",
       "10685               благотворительное пожертвование 1.00   \n",
       "11757               благотворительное пожертвование 1.00   \n",
       "13775      добровольное пожертвование. ндс не облагается   \n",
       "13990  добровольное пожертвование;сумма 100 руб.;коми...   \n",
       "\n",
       "                            channel  \\\n",
       "133    Прямые поступления на счет     \n",
       "297    Прямые поступления на счет     \n",
       "1438   Прямые поступления на счет     \n",
       "2837   Прямые поступления на счет     \n",
       "5166   Прямые поступления на счет     \n",
       "7654   Прямые поступления на счет     \n",
       "9594   Прямые поступления на счет     \n",
       "10112  Прямые поступления на счет     \n",
       "10685  Прямые поступления на счет     \n",
       "11757  Прямые поступления на счет     \n",
       "13775  Прямые поступления на счет     \n",
       "13990  Прямые поступления на счет     \n",
       "\n",
       "                                                  gender    city  \\\n",
       "133    Мужской                                       ...       0   \n",
       "297    Мужской                                       ...       0   \n",
       "1438   Мужской                                       ...       0   \n",
       "2837   Мужской                                       ...       0   \n",
       "5166   Женский                                       ...       0   \n",
       "7654   Женский                                       ...       0   \n",
       "9594   Женский                                       ...       0   \n",
       "10112  Женский                                       ...       0   \n",
       "10685  Мужской                                       ...       0   \n",
       "11757  Мужской                                       ...       0   \n",
       "13775  Женский                                       ...       0   \n",
       "13990                                                  0  Ереван   \n",
       "\n",
       "      last_email_activity  \n",
       "133                     0  \n",
       "297                     0  \n",
       "1438                    0  \n",
       "2837                    0  \n",
       "5166                    0  \n",
       "7654                    0  \n",
       "9594                    0  \n",
       "10112                   0  \n",
       "10685                   0  \n",
       "11757                   0  \n",
       "13775                   0  \n",
       "13990                   0  "
      ]
     },
     "execution_count": 181,
     "metadata": {},
     "output_type": "execute_result"
    }
   ],
   "source": [
    "# проверим наличие дубликатов\n",
    "df.duplicated().sum()\n",
    "df[df.duplicated() == True]"
   ]
  },
  {
   "cell_type": "code",
   "execution_count": 182,
   "metadata": {},
   "outputs": [
    {
     "data": {
      "text/plain": [
       "0"
      ]
     },
     "execution_count": 182,
     "metadata": {},
     "output_type": "execute_result"
    }
   ],
   "source": [
    "# удалим дубликаты\n",
    "df = df.drop_duplicates()\n",
    "df.duplicated().sum()"
   ]
  },
  {
   "cell_type": "code",
   "execution_count": 183,
   "metadata": {},
   "outputs": [],
   "source": [
    "# в столбце 'is_reccurent' содержатся значения со множеством пробелов\n",
    "# заменим их на более удобные \n",
    "df['is_reccurent'] = df['is_reccurent'].replace('Да                                                                                                                                                                                                                                                        ',\n",
    "                                                 1)\n",
    "df['is_reccurent'] = df['is_reccurent'].replace('Нет                                                                                                                                                                                                                                                       ',\n",
    "                                                  0)"
   ]
  },
  {
   "cell_type": "code",
   "execution_count": 184,
   "metadata": {},
   "outputs": [
    {
     "data": {
      "text/plain": [
       "<AxesSubplot:title={'center':'Распределение количества платежей по годам'}, ylabel='year'>"
      ]
     },
     "execution_count": 184,
     "metadata": {},
     "output_type": "execute_result"
    },
    {
     "data": {
      "image/png": "[encoded data removed]",
      "text/plain": [
       "<Figure size 504x504 with 1 Axes>"
      ]
     },
     "metadata": {},
     "output_type": "display_data"
    }
   ],
   "source": [
    "# добавим столбцы с годом, месяцем, датой, номером дня недели платежа\n",
    "df['weekday'] = df['date'].dt.weekday\n",
    "df['month'] = df['date'].dt.month\n",
    "df['year'] = df['date'].dt.year\n",
    "df['day_of_week'] = df['date'].dt.day_of_week\n",
    "#удалим столбец с датой\n",
    "df = df.drop('date',axis=1)\n",
    "\n",
    "# количество платежей по годам\n",
    "df['year'].value_counts().plot(title='Распределение количества платежей по годам', kind='pie', figsize=(7,7))"
   ]
  },
  {
   "cell_type": "code",
   "execution_count": 185,
   "metadata": {},
   "outputs": [
    {
     "data": {
      "text/html": [
       "<div>\n",
       "<style scoped>\n",
       "    .dataframe tbody tr th:only-of-type {\n",
       "        vertical-align: middle;\n",
       "    }\n",
       "\n",
       "    .dataframe tbody tr th {\n",
       "        vertical-align: top;\n",
       "    }\n",
       "\n",
       "    .dataframe thead th {\n",
       "        text-align: right;\n",
       "    }\n",
       "</style>\n",
       "<table border=\"1\" class=\"dataframe\">\n",
       "  <thead>\n",
       "    <tr style=\"text-align: right;\">\n",
       "      <th></th>\n",
       "      <th>id</th>\n",
       "      <th>amount</th>\n",
       "      <th>is_reccurent</th>\n",
       "      <th>purpose</th>\n",
       "      <th>channel</th>\n",
       "      <th>gender</th>\n",
       "      <th>city</th>\n",
       "      <th>last_email_activity</th>\n",
       "      <th>weekday</th>\n",
       "      <th>month</th>\n",
       "      <th>year</th>\n",
       "      <th>day_of_week</th>\n",
       "    </tr>\n",
       "  </thead>\n",
       "  <tbody>\n",
       "    <tr>\n",
       "      <th>0</th>\n",
       "      <td>DE5393F9-9585-4057-B7FB-24B69697FC08</td>\n",
       "      <td>300.0</td>\n",
       "      <td>1</td>\n",
       "      <td>пожертвование  undefined</td>\n",
       "      <td>Банковские карты</td>\n",
       "      <td>Женский                                       ...</td>\n",
       "      <td>Москва</td>\n",
       "      <td>2022-06-03 20:15:57</td>\n",
       "      <td>6</td>\n",
       "      <td>7</td>\n",
       "      <td>2022</td>\n",
       "      <td>6</td>\n",
       "    </tr>\n",
       "    <tr>\n",
       "      <th>1</th>\n",
       "      <td>81CD4BEF-443E-4D36-B34F-664E11182D65</td>\n",
       "      <td>300.0</td>\n",
       "      <td>0</td>\n",
       "      <td>sms bdd</td>\n",
       "      <td>SMS</td>\n",
       "      <td>Женский                                       ...</td>\n",
       "      <td>Москва</td>\n",
       "      <td>2022-07-18 17:19:02</td>\n",
       "      <td>5</td>\n",
       "      <td>3</td>\n",
       "      <td>2020</td>\n",
       "      <td>5</td>\n",
       "    </tr>\n",
       "    <tr>\n",
       "      <th>2</th>\n",
       "      <td>D3BEB76D-D8B6-47E2-8109-44F1B278943B</td>\n",
       "      <td>16.0</td>\n",
       "      <td>0</td>\n",
       "      <td>добровольное пожертвование. ндс не облагается</td>\n",
       "      <td>Прямые поступления на счет</td>\n",
       "      <td>Мужской                                       ...</td>\n",
       "      <td>0</td>\n",
       "      <td>0</td>\n",
       "      <td>3</td>\n",
       "      <td>4</td>\n",
       "      <td>2022</td>\n",
       "      <td>3</td>\n",
       "    </tr>\n",
       "    <tr>\n",
       "      <th>3</th>\n",
       "      <td>F1310736-B229-4AAC-99B7-F13ACECF67CB</td>\n",
       "      <td>300.0</td>\n",
       "      <td>0</td>\n",
       "      <td>0</td>\n",
       "      <td>SMS</td>\n",
       "      <td>0</td>\n",
       "      <td>0</td>\n",
       "      <td>0</td>\n",
       "      <td>3</td>\n",
       "      <td>12</td>\n",
       "      <td>2019</td>\n",
       "      <td>3</td>\n",
       "    </tr>\n",
       "    <tr>\n",
       "      <th>4</th>\n",
       "      <td>61C3D86B-39DA-445C-9D7F-9924CE9BDA14</td>\n",
       "      <td>200.0</td>\n",
       "      <td>1</td>\n",
       "      <td>пожертвование  undefined</td>\n",
       "      <td>Банковские карты</td>\n",
       "      <td>Женский                                       ...</td>\n",
       "      <td>0</td>\n",
       "      <td>2022-07-20 20:32:37</td>\n",
       "      <td>5</td>\n",
       "      <td>6</td>\n",
       "      <td>2021</td>\n",
       "      <td>5</td>\n",
       "    </tr>\n",
       "  </tbody>\n",
       "</table>\n",
       "</div>"
      ],
      "text/plain": [
       "                                     id  amount  is_reccurent  \\\n",
       "0  DE5393F9-9585-4057-B7FB-24B69697FC08   300.0             1   \n",
       "1  81CD4BEF-443E-4D36-B34F-664E11182D65   300.0             0   \n",
       "2  D3BEB76D-D8B6-47E2-8109-44F1B278943B    16.0             0   \n",
       "3  F1310736-B229-4AAC-99B7-F13ACECF67CB   300.0             0   \n",
       "4  61C3D86B-39DA-445C-9D7F-9924CE9BDA14   200.0             1   \n",
       "\n",
       "                                         purpose  \\\n",
       "0                       пожертвование  undefined   \n",
       "1                                        sms bdd   \n",
       "2  добровольное пожертвование. ндс не облагается   \n",
       "3                                              0   \n",
       "4                       пожертвование  undefined   \n",
       "\n",
       "                        channel  \\\n",
       "0            Банковские карты     \n",
       "1                         SMS     \n",
       "2  Прямые поступления на счет     \n",
       "3                         SMS     \n",
       "4            Банковские карты     \n",
       "\n",
       "                                              gender    city  \\\n",
       "0  Женский                                       ...  Москва   \n",
       "1  Женский                                       ...  Москва   \n",
       "2  Мужской                                       ...       0   \n",
       "3                                                  0       0   \n",
       "4  Женский                                       ...       0   \n",
       "\n",
       "   last_email_activity  weekday  month  year  day_of_week  \n",
       "0  2022-06-03 20:15:57        6      7  2022            6  \n",
       "1  2022-07-18 17:19:02        5      3  2020            5  \n",
       "2                    0        3      4  2022            3  \n",
       "3                    0        3     12  2019            3  \n",
       "4  2022-07-20 20:32:37        5      6  2021            5  "
      ]
     },
     "execution_count": 185,
     "metadata": {},
     "output_type": "execute_result"
    }
   ],
   "source": [
    "df.head()"
   ]
  },
  {
   "cell_type": "markdown",
   "metadata": {},
   "source": [
    "**Вывод:**  В нашем распоряжении информация о 14043 пожертвований<br>\n",
    " Уникальных пользователей (ID): 3683 <br>\n"
   ]
  },
  {
   "cell_type": "markdown",
   "metadata": {},
   "source": [
    "## Исследуем пользователей, совершивших повторные пожертвования"
   ]
  },
  {
   "cell_type": "markdown",
   "metadata": {},
   "source": [
    "### Выделим в отдельный датасет"
   ]
  },
  {
   "cell_type": "code",
   "execution_count": 186,
   "metadata": {},
   "outputs": [
    {
     "data": {
      "image/png": "[encoded data removed]",
      "text/plain": [
       "<Figure size 1080x360 with 1 Axes>"
      ]
     },
     "metadata": {
      "needs_background": "light"
     },
     "output_type": "display_data"
    }
   ],
   "source": [
    "# Сохраним информацию о пользователях, совершивших более одного платежа, в отдельный датасет\n",
    "# 1. Вычислим количество платежей от одинаковых ID\n",
    "df1 = df.groupby('id')['id'].count().sort_values(ascending=False)\n",
    "df1.hist(figsize=(15,5), range=(0,10), bins=10);"
   ]
  },
  {
   "cell_type": "markdown",
   "metadata": {},
   "source": [
    "**Вывод:**  Среди всех пользователей значительно преобладают жертвователи, совершившие два платежа.<br>"
   ]
  },
  {
   "cell_type": "code",
   "execution_count": 187,
   "metadata": {},
   "outputs": [
    {
     "data": {
      "text/plain": [
       "1039"
      ]
     },
     "execution_count": 187,
     "metadata": {},
     "output_type": "execute_result"
    }
   ],
   "source": [
    "# 2. вычислим количество пользователей, совершивших более одного платежа\n",
    "(df1>1).sum()"
   ]
  },
  {
   "cell_type": "code",
   "execution_count": 188,
   "metadata": {},
   "outputs": [
    {
     "data": {
      "text/html": [
       "<div>\n",
       "<style scoped>\n",
       "    .dataframe tbody tr th:only-of-type {\n",
       "        vertical-align: middle;\n",
       "    }\n",
       "\n",
       "    .dataframe tbody tr th {\n",
       "        vertical-align: top;\n",
       "    }\n",
       "\n",
       "    .dataframe thead th {\n",
       "        text-align: right;\n",
       "    }\n",
       "</style>\n",
       "<table border=\"1\" class=\"dataframe\">\n",
       "  <thead>\n",
       "    <tr style=\"text-align: right;\">\n",
       "      <th></th>\n",
       "      <th>id</th>\n",
       "      <th>amount</th>\n",
       "      <th>is_reccurent</th>\n",
       "      <th>purpose</th>\n",
       "      <th>channel</th>\n",
       "      <th>gender</th>\n",
       "      <th>city</th>\n",
       "      <th>last_email_activity</th>\n",
       "      <th>weekday</th>\n",
       "      <th>month</th>\n",
       "      <th>year</th>\n",
       "      <th>day_of_week</th>\n",
       "    </tr>\n",
       "  </thead>\n",
       "  <tbody>\n",
       "    <tr>\n",
       "      <th>0</th>\n",
       "      <td>DE5393F9-9585-4057-B7FB-24B69697FC08</td>\n",
       "      <td>300.0</td>\n",
       "      <td>1</td>\n",
       "      <td>пожертвование  undefined</td>\n",
       "      <td>Банковские карты</td>\n",
       "      <td>Женский                                       ...</td>\n",
       "      <td>Москва</td>\n",
       "      <td>2022-06-03 20:15:57</td>\n",
       "      <td>6</td>\n",
       "      <td>7</td>\n",
       "      <td>2022</td>\n",
       "      <td>6</td>\n",
       "    </tr>\n",
       "    <tr>\n",
       "      <th>1</th>\n",
       "      <td>81CD4BEF-443E-4D36-B34F-664E11182D65</td>\n",
       "      <td>300.0</td>\n",
       "      <td>0</td>\n",
       "      <td>sms bdd</td>\n",
       "      <td>SMS</td>\n",
       "      <td>Женский                                       ...</td>\n",
       "      <td>Москва</td>\n",
       "      <td>2022-07-18 17:19:02</td>\n",
       "      <td>5</td>\n",
       "      <td>3</td>\n",
       "      <td>2020</td>\n",
       "      <td>5</td>\n",
       "    </tr>\n",
       "    <tr>\n",
       "      <th>2</th>\n",
       "      <td>D3BEB76D-D8B6-47E2-8109-44F1B278943B</td>\n",
       "      <td>16.0</td>\n",
       "      <td>0</td>\n",
       "      <td>добровольное пожертвование. ндс не облагается</td>\n",
       "      <td>Прямые поступления на счет</td>\n",
       "      <td>Мужской                                       ...</td>\n",
       "      <td>0</td>\n",
       "      <td>0</td>\n",
       "      <td>3</td>\n",
       "      <td>4</td>\n",
       "      <td>2022</td>\n",
       "      <td>3</td>\n",
       "    </tr>\n",
       "    <tr>\n",
       "      <th>4</th>\n",
       "      <td>61C3D86B-39DA-445C-9D7F-9924CE9BDA14</td>\n",
       "      <td>200.0</td>\n",
       "      <td>1</td>\n",
       "      <td>пожертвование  undefined</td>\n",
       "      <td>Банковские карты</td>\n",
       "      <td>Женский                                       ...</td>\n",
       "      <td>0</td>\n",
       "      <td>2022-07-20 20:32:37</td>\n",
       "      <td>5</td>\n",
       "      <td>6</td>\n",
       "      <td>2021</td>\n",
       "      <td>5</td>\n",
       "    </tr>\n",
       "    <tr>\n",
       "      <th>5</th>\n",
       "      <td>6FDEE73B-0270-4AFA-BA21-579E5B970D6A</td>\n",
       "      <td>100.0</td>\n",
       "      <td>1</td>\n",
       "      <td>пожертвование в фонд помощи детям-отказникам и...</td>\n",
       "      <td>Банковские карты</td>\n",
       "      <td>Женский                                       ...</td>\n",
       "      <td>0</td>\n",
       "      <td>2022-07-18 16:29:38</td>\n",
       "      <td>5</td>\n",
       "      <td>8</td>\n",
       "      <td>2017</td>\n",
       "      <td>5</td>\n",
       "    </tr>\n",
       "  </tbody>\n",
       "</table>\n",
       "</div>"
      ],
      "text/plain": [
       "                                     id  amount  is_reccurent  \\\n",
       "0  DE5393F9-9585-4057-B7FB-24B69697FC08   300.0             1   \n",
       "1  81CD4BEF-443E-4D36-B34F-664E11182D65   300.0             0   \n",
       "2  D3BEB76D-D8B6-47E2-8109-44F1B278943B    16.0             0   \n",
       "4  61C3D86B-39DA-445C-9D7F-9924CE9BDA14   200.0             1   \n",
       "5  6FDEE73B-0270-4AFA-BA21-579E5B970D6A   100.0             1   \n",
       "\n",
       "                                             purpose  \\\n",
       "0                           пожертвование  undefined   \n",
       "1                                            sms bdd   \n",
       "2      добровольное пожертвование. ндс не облагается   \n",
       "4                           пожертвование  undefined   \n",
       "5  пожертвование в фонд помощи детям-отказникам и...   \n",
       "\n",
       "                        channel  \\\n",
       "0            Банковские карты     \n",
       "1                         SMS     \n",
       "2  Прямые поступления на счет     \n",
       "4            Банковские карты     \n",
       "5            Банковские карты     \n",
       "\n",
       "                                              gender    city  \\\n",
       "0  Женский                                       ...  Москва   \n",
       "1  Женский                                       ...  Москва   \n",
       "2  Мужской                                       ...       0   \n",
       "4  Женский                                       ...       0   \n",
       "5  Женский                                       ...       0   \n",
       "\n",
       "   last_email_activity  weekday  month  year  day_of_week  \n",
       "0  2022-06-03 20:15:57        6      7  2022            6  \n",
       "1  2022-07-18 17:19:02        5      3  2020            5  \n",
       "2                    0        3      4  2022            3  \n",
       "4  2022-07-20 20:32:37        5      6  2021            5  \n",
       "5  2022-07-18 16:29:38        5      8  2017            5  "
      ]
     },
     "execution_count": 188,
     "metadata": {},
     "output_type": "execute_result"
    }
   ],
   "source": [
    "# 3. сохраним ID этих пользователей\n",
    "repeat = df['id'].value_counts().head(1041).index.tolist()\n",
    "# 4. сохраним всю информацию о платежах от этих пользователей в датасет\n",
    "df1 = df[df['id'].isin(repeat)]\n",
    "\n",
    "df1.head()"
   ]
  },
  {
   "cell_type": "markdown",
   "metadata": {},
   "source": [
    "## Исследуем и категоризируем данные о постоянных жертвователях"
   ]
  },
  {
   "cell_type": "code",
   "execution_count": 189,
   "metadata": {},
   "outputs": [
    {
     "data": {
      "text/plain": [
       "11389"
      ]
     },
     "execution_count": 189,
     "metadata": {},
     "output_type": "execute_result"
    }
   ],
   "source": [
    "# количество пожертвований от постоянных жертвователей\n",
    "df1['id'].count()"
   ]
  },
  {
   "cell_type": "code",
   "execution_count": 190,
   "metadata": {},
   "outputs": [
    {
     "data": {
      "text/plain": [
       "10.940441882804995"
      ]
     },
     "execution_count": 190,
     "metadata": {},
     "output_type": "execute_result"
    }
   ],
   "source": [
    "# среднее количество пожертвований от постоянных жертвователей за все время\n",
    "df1['id'].count()/len(df1['id'].unique())"
   ]
  },
  {
   "cell_type": "code",
   "execution_count": 191,
   "metadata": {},
   "outputs": [
    {
     "data": {
      "text/plain": [
       "0.7082272368074458"
      ]
     },
     "execution_count": 191,
     "metadata": {},
     "output_type": "execute_result"
    }
   ],
   "source": [
    "# доля рекуррентных платежей\n",
    "(df1[df1['is_reccurent'] == 1]['id'].count()/len(df1['id']))"
   ]
  },
  {
   "cell_type": "markdown",
   "metadata": {},
   "source": [
    "###  Каналы платежей"
   ]
  },
  {
   "cell_type": "code",
   "execution_count": 192,
   "metadata": {},
   "outputs": [
    {
     "data": {
      "image/png": "[encoded data removed]",
      "text/plain": [
       "<Figure size 1080x360 with 1 Axes>"
      ]
     },
     "metadata": {
      "needs_background": "light"
     },
     "output_type": "display_data"
    }
   ],
   "source": [
    "# доля платежей из разных каналов для повторных пожертвований\n",
    "(df1['channel'].value_counts()/len(df1['id'])).plot(\n",
    "    title='Каналы платежей для пользователей, совершивших более 1 операции',\n",
    "    kind='bar', \n",
    "    figsize=(15,5),\n",
    "    color='peru'\n",
    ");"
   ]
  },
  {
   "cell_type": "markdown",
   "metadata": {},
   "source": [
    "###  Города постоянных жертвователей"
   ]
  },
  {
   "cell_type": "code",
   "execution_count": 193,
   "metadata": {},
   "outputs": [
    {
     "data": {
      "text/plain": [
       "120"
      ]
     },
     "execution_count": 193,
     "metadata": {},
     "output_type": "execute_result"
    }
   ],
   "source": [
    "# количество городов в датасете\n",
    "len(df1['city'].unique())"
   ]
  },
  {
   "cell_type": "code",
   "execution_count": 194,
   "metadata": {},
   "outputs": [
    {
     "data": {
      "text/plain": [
       "0                    0.452366\n",
       "Москва               0.303012\n",
       "Санкт-Петербург      0.039775\n",
       "Краснодар            0.018527\n",
       "Якутск               0.011327\n",
       "Мытищи               0.008166\n",
       "Екатеринбург         0.007727\n",
       "Самара               0.007639\n",
       "Frankfurt am Main    0.007288\n",
       "Изобильный           0.006673\n",
       "Сочи                 0.006585\n",
       "Ростов-на-Дону       0.006585\n",
       "Одинцово             0.006146\n",
       "Нижний Новгород      0.005883\n",
       "Брянск               0.004741\n",
       "Воронеж              0.004390\n",
       "Charleston           0.004302\n",
       "Казань               0.004127\n",
       "Владивосток          0.003512\n",
       "Ставрополь           0.003424\n",
       "Name: city, dtype: float64"
      ]
     },
     "execution_count": 194,
     "metadata": {},
     "output_type": "execute_result"
    }
   ],
   "source": [
    "# топ городов по количеству постоянных жертвователей\n",
    "\n",
    "(df1['city'].value_counts()/len(df1['id'])).head(20)"
   ]
  },
  {
   "cell_type": "code",
   "execution_count": 195,
   "metadata": {},
   "outputs": [
    {
     "data": {
      "image/png": "[encoded data removed]",
      "text/plain": [
       "<Figure size 1080x504 with 1 Axes>"
      ]
     },
     "metadata": {
      "needs_background": "light"
     },
     "output_type": "display_data"
    }
   ],
   "source": [
    "(df1['city'].value_counts()/len(df1['id'])).head(20).plot(\n",
    "    title='Города постоянных жетвователей',\n",
    "    kind='bar', \n",
    "    figsize=(15,7),\n",
    "    color='gray'\n",
    ");"
   ]
  },
  {
   "cell_type": "code",
   "execution_count": 196,
   "metadata": {},
   "outputs": [
    {
     "data": {
      "text/html": [
       "<div>\n",
       "<style scoped>\n",
       "    .dataframe tbody tr th:only-of-type {\n",
       "        vertical-align: middle;\n",
       "    }\n",
       "\n",
       "    .dataframe tbody tr th {\n",
       "        vertical-align: top;\n",
       "    }\n",
       "\n",
       "    .dataframe thead th {\n",
       "        text-align: right;\n",
       "    }\n",
       "</style>\n",
       "<table border=\"1\" class=\"dataframe\">\n",
       "  <thead>\n",
       "    <tr style=\"text-align: right;\">\n",
       "      <th></th>\n",
       "      <th>id</th>\n",
       "      <th>amount</th>\n",
       "      <th>is_reccurent</th>\n",
       "      <th>purpose</th>\n",
       "      <th>channel</th>\n",
       "      <th>gender</th>\n",
       "      <th>last_email_activity</th>\n",
       "      <th>weekday</th>\n",
       "      <th>month</th>\n",
       "      <th>year</th>\n",
       "      <th>day_of_week</th>\n",
       "      <th>city_category</th>\n",
       "    </tr>\n",
       "  </thead>\n",
       "  <tbody>\n",
       "    <tr>\n",
       "      <th>0</th>\n",
       "      <td>DE5393F9-9585-4057-B7FB-24B69697FC08</td>\n",
       "      <td>300.0</td>\n",
       "      <td>1</td>\n",
       "      <td>пожертвование  undefined</td>\n",
       "      <td>Банковские карты</td>\n",
       "      <td>Женский                                       ...</td>\n",
       "      <td>2022-06-03 20:15:57</td>\n",
       "      <td>6</td>\n",
       "      <td>7</td>\n",
       "      <td>2022</td>\n",
       "      <td>6</td>\n",
       "      <td>Москва</td>\n",
       "    </tr>\n",
       "    <tr>\n",
       "      <th>1</th>\n",
       "      <td>81CD4BEF-443E-4D36-B34F-664E11182D65</td>\n",
       "      <td>300.0</td>\n",
       "      <td>0</td>\n",
       "      <td>sms bdd</td>\n",
       "      <td>SMS</td>\n",
       "      <td>Женский                                       ...</td>\n",
       "      <td>2022-07-18 17:19:02</td>\n",
       "      <td>5</td>\n",
       "      <td>3</td>\n",
       "      <td>2020</td>\n",
       "      <td>5</td>\n",
       "      <td>Москва</td>\n",
       "    </tr>\n",
       "    <tr>\n",
       "      <th>2</th>\n",
       "      <td>D3BEB76D-D8B6-47E2-8109-44F1B278943B</td>\n",
       "      <td>16.0</td>\n",
       "      <td>0</td>\n",
       "      <td>добровольное пожертвование. ндс не облагается</td>\n",
       "      <td>Прямые поступления на счет</td>\n",
       "      <td>Мужской                                       ...</td>\n",
       "      <td>0</td>\n",
       "      <td>3</td>\n",
       "      <td>4</td>\n",
       "      <td>2022</td>\n",
       "      <td>3</td>\n",
       "      <td>Город неизвестен</td>\n",
       "    </tr>\n",
       "    <tr>\n",
       "      <th>4</th>\n",
       "      <td>61C3D86B-39DA-445C-9D7F-9924CE9BDA14</td>\n",
       "      <td>200.0</td>\n",
       "      <td>1</td>\n",
       "      <td>пожертвование  undefined</td>\n",
       "      <td>Банковские карты</td>\n",
       "      <td>Женский                                       ...</td>\n",
       "      <td>2022-07-20 20:32:37</td>\n",
       "      <td>5</td>\n",
       "      <td>6</td>\n",
       "      <td>2021</td>\n",
       "      <td>5</td>\n",
       "      <td>Город неизвестен</td>\n",
       "    </tr>\n",
       "    <tr>\n",
       "      <th>5</th>\n",
       "      <td>6FDEE73B-0270-4AFA-BA21-579E5B970D6A</td>\n",
       "      <td>100.0</td>\n",
       "      <td>1</td>\n",
       "      <td>пожертвование в фонд помощи детям-отказникам и...</td>\n",
       "      <td>Банковские карты</td>\n",
       "      <td>Женский                                       ...</td>\n",
       "      <td>2022-07-18 16:29:38</td>\n",
       "      <td>5</td>\n",
       "      <td>8</td>\n",
       "      <td>2017</td>\n",
       "      <td>5</td>\n",
       "      <td>Город неизвестен</td>\n",
       "    </tr>\n",
       "  </tbody>\n",
       "</table>\n",
       "</div>"
      ],
      "text/plain": [
       "                                     id  amount  is_reccurent  \\\n",
       "0  DE5393F9-9585-4057-B7FB-24B69697FC08   300.0             1   \n",
       "1  81CD4BEF-443E-4D36-B34F-664E11182D65   300.0             0   \n",
       "2  D3BEB76D-D8B6-47E2-8109-44F1B278943B    16.0             0   \n",
       "4  61C3D86B-39DA-445C-9D7F-9924CE9BDA14   200.0             1   \n",
       "5  6FDEE73B-0270-4AFA-BA21-579E5B970D6A   100.0             1   \n",
       "\n",
       "                                             purpose  \\\n",
       "0                           пожертвование  undefined   \n",
       "1                                            sms bdd   \n",
       "2      добровольное пожертвование. ндс не облагается   \n",
       "4                           пожертвование  undefined   \n",
       "5  пожертвование в фонд помощи детям-отказникам и...   \n",
       "\n",
       "                        channel  \\\n",
       "0            Банковские карты     \n",
       "1                         SMS     \n",
       "2  Прямые поступления на счет     \n",
       "4            Банковские карты     \n",
       "5            Банковские карты     \n",
       "\n",
       "                                              gender  last_email_activity  \\\n",
       "0  Женский                                       ...  2022-06-03 20:15:57   \n",
       "1  Женский                                       ...  2022-07-18 17:19:02   \n",
       "2  Мужской                                       ...                    0   \n",
       "4  Женский                                       ...  2022-07-20 20:32:37   \n",
       "5  Женский                                       ...  2022-07-18 16:29:38   \n",
       "\n",
       "   weekday  month  year  day_of_week     city_category  \n",
       "0        6      7  2022            6            Москва  \n",
       "1        5      3  2020            5            Москва  \n",
       "2        3      4  2022            3  Город неизвестен  \n",
       "4        5      6  2021            5  Город неизвестен  \n",
       "5        5      8  2017            5  Город неизвестен  "
      ]
     },
     "execution_count": 196,
     "metadata": {},
     "output_type": "execute_result"
    }
   ],
   "source": [
    "# Напишем функцию для категоризации городов\n",
    "\n",
    "def city_category(city):\n",
    "    foreign_cities = ['Frankfurt am Main', 'Charleston', 'Helsinki', 'Juba', 'Copenhagen', 'Holon', \n",
    "                     'Hyderabad', 'Alameda', 'Jakarta', 'Keighley', 'Southall', 'Denver']\n",
    "    \n",
    "    if city.loc['city'] == 'Москва':\n",
    "        return 'Москва'\n",
    "    elif city.loc['city'] == 'Санкт-Петербург':\n",
    "        return 'Санкт-Петербург'\n",
    "    elif city.loc['city'] in foreign_cities:\n",
    "        return 'Зарубежные страны'\n",
    "    elif city.loc['city'] == '0':\n",
    "        return 'Город неизвестен'\n",
    "    else:\n",
    "        return 'Другие города России'\n",
    "\n",
    "df1['city'] = df1['city'].fillna(0)\n",
    "# применим функцию\n",
    "df1['city_category'] = df1.apply(city_category, axis=1)\n",
    "# удалим столбец 'city'\n",
    "df1 = df1.drop('city',axis=1)\n",
    "\n",
    "df1.head()"
   ]
  },
  {
   "cell_type": "code",
   "execution_count": 197,
   "metadata": {},
   "outputs": [
    {
     "data": {
      "image/png": "[encoded data removed]",
      "text/plain": [
       "<Figure size 1080x504 with 1 Axes>"
      ]
     },
     "metadata": {
      "needs_background": "light"
     },
     "output_type": "display_data"
    }
   ],
   "source": [
    "(df1['city_category'].value_counts()/len(df1['id'])).head(20).plot(\n",
    "    title='Города постоянных жетвователей',\n",
    "    kind='bar', \n",
    "    figsize=(15,7),\n",
    "    color='darkcyan'\n",
    ");"
   ]
  },
  {
   "cell_type": "markdown",
   "metadata": {},
   "source": [
    "### Назначения пожертвований"
   ]
  },
  {
   "cell_type": "code",
   "execution_count": 198,
   "metadata": {},
   "outputs": [
    {
     "data": {
      "text/plain": [
       "648"
      ]
     },
     "execution_count": 198,
     "metadata": {},
     "output_type": "execute_result"
    }
   ],
   "source": [
    "# назначение пожертвования\n",
    "# количество уникальных назначений\n",
    "len(df1['purpose'].unique())"
   ]
  },
  {
   "cell_type": "code",
   "execution_count": 199,
   "metadata": {},
   "outputs": [
    {
     "data": {
      "text/plain": [
       "<AxesSubplot:>"
      ]
     },
     "execution_count": 199,
     "metadata": {},
     "output_type": "execute_result"
    },
    {
     "data": {
      "image/png": "[encoded data removed]",
      "text/plain": [
       "<Figure size 1080x360 with 1 Axes>"
      ]
     },
     "metadata": {
      "needs_background": "light"
     },
     "output_type": "display_data"
    }
   ],
   "source": [
    "# доли назначений платежей\n",
    "(df1['purpose'].value_counts()/len(df1['id'])).head(21).plot(kind='bar',figsize=(15,5), color='gray')"
   ]
  },
  {
   "cell_type": "code",
   "execution_count": 200,
   "metadata": {},
   "outputs": [
    {
     "data": {
      "text/plain": [
       "пожертвование                                                                     0.298270\n",
       "пожертвование в фонд помощи детям-отказникам и детям-сиротам \"бюро добрых дел\"    0.265695\n",
       "пожертвование  undefined                                                          0.189481\n",
       "добровольное пожертвование. ндс не облагается                                     0.027395\n",
       "0                                                                                 0.027044\n",
       "sms bdd                                                                           0.012293\n",
       "пожертвование клуб друзей                                                         0.011151\n",
       "на психологические консультации артёму                                            0.006497\n",
       "пожертвование без назначения                                                      0.005795\n",
       "на работу фонда                                                                   0.003161\n",
       "на обучение дмитрия                                                               0.002810\n",
       "на ресурсный центр                                                                0.002634\n",
       "на обучение саши в мастерской                                                     0.002634\n",
       "добровольное пожертвование                                                        0.002546\n",
       "на тьютора ренате                                                                 0.002546\n",
       "на обучение наташи                                                                0.002283\n",
       "пожертвование на обучение александры                                              0.002195\n",
       "на обучение фёдора                                                                0.002195\n",
       "на психологическую помощь лизе                                                    0.002107\n",
       "на обучение даниила                                                               0.002107\n",
       "пожертвование на обучение артёма                                                  0.002107\n",
       "Name: purpose, dtype: float64"
      ]
     },
     "execution_count": 200,
     "metadata": {},
     "output_type": "execute_result"
    }
   ],
   "source": [
    "# доля назначений пожертвований\n",
    "(df1['purpose'].value_counts()/len(df1['id'])).head(21)"
   ]
  },
  {
   "cell_type": "code",
   "execution_count": 201,
   "metadata": {},
   "outputs": [],
   "source": [
    "# изменим тип данных в столбце 'purpose' на object\n",
    "df1['purpose'] = df1['purpose'].astype('object')"
   ]
  },
  {
   "cell_type": "code",
   "execution_count": 202,
   "metadata": {},
   "outputs": [
    {
     "data": {
      "text/html": [
       "<div>\n",
       "<style scoped>\n",
       "    .dataframe tbody tr th:only-of-type {\n",
       "        vertical-align: middle;\n",
       "    }\n",
       "\n",
       "    .dataframe tbody tr th {\n",
       "        vertical-align: top;\n",
       "    }\n",
       "\n",
       "    .dataframe thead th {\n",
       "        text-align: right;\n",
       "    }\n",
       "</style>\n",
       "<table border=\"1\" class=\"dataframe\">\n",
       "  <thead>\n",
       "    <tr style=\"text-align: right;\">\n",
       "      <th></th>\n",
       "      <th>id</th>\n",
       "      <th>amount</th>\n",
       "      <th>is_reccurent</th>\n",
       "      <th>channel</th>\n",
       "      <th>gender</th>\n",
       "      <th>last_email_activity</th>\n",
       "      <th>weekday</th>\n",
       "      <th>month</th>\n",
       "      <th>year</th>\n",
       "      <th>day_of_week</th>\n",
       "      <th>city_category</th>\n",
       "      <th>purpose_category</th>\n",
       "    </tr>\n",
       "  </thead>\n",
       "  <tbody>\n",
       "    <tr>\n",
       "      <th>0</th>\n",
       "      <td>DE5393F9-9585-4057-B7FB-24B69697FC08</td>\n",
       "      <td>300.0</td>\n",
       "      <td>1</td>\n",
       "      <td>Банковские карты</td>\n",
       "      <td>Женский                                       ...</td>\n",
       "      <td>2022-06-03 20:15:57</td>\n",
       "      <td>6</td>\n",
       "      <td>7</td>\n",
       "      <td>2022</td>\n",
       "      <td>6</td>\n",
       "      <td>Москва</td>\n",
       "      <td>пожертвование</td>\n",
       "    </tr>\n",
       "    <tr>\n",
       "      <th>1</th>\n",
       "      <td>81CD4BEF-443E-4D36-B34F-664E11182D65</td>\n",
       "      <td>300.0</td>\n",
       "      <td>0</td>\n",
       "      <td>SMS</td>\n",
       "      <td>Женский                                       ...</td>\n",
       "      <td>2022-07-18 17:19:02</td>\n",
       "      <td>5</td>\n",
       "      <td>3</td>\n",
       "      <td>2020</td>\n",
       "      <td>5</td>\n",
       "      <td>Москва</td>\n",
       "      <td>sms</td>\n",
       "    </tr>\n",
       "    <tr>\n",
       "      <th>2</th>\n",
       "      <td>D3BEB76D-D8B6-47E2-8109-44F1B278943B</td>\n",
       "      <td>16.0</td>\n",
       "      <td>0</td>\n",
       "      <td>Прямые поступления на счет</td>\n",
       "      <td>Мужской                                       ...</td>\n",
       "      <td>0</td>\n",
       "      <td>3</td>\n",
       "      <td>4</td>\n",
       "      <td>2022</td>\n",
       "      <td>3</td>\n",
       "      <td>Город неизвестен</td>\n",
       "      <td>пожертвование</td>\n",
       "    </tr>\n",
       "    <tr>\n",
       "      <th>4</th>\n",
       "      <td>61C3D86B-39DA-445C-9D7F-9924CE9BDA14</td>\n",
       "      <td>200.0</td>\n",
       "      <td>1</td>\n",
       "      <td>Банковские карты</td>\n",
       "      <td>Женский                                       ...</td>\n",
       "      <td>2022-07-20 20:32:37</td>\n",
       "      <td>5</td>\n",
       "      <td>6</td>\n",
       "      <td>2021</td>\n",
       "      <td>5</td>\n",
       "      <td>Город неизвестен</td>\n",
       "      <td>пожертвование</td>\n",
       "    </tr>\n",
       "    <tr>\n",
       "      <th>5</th>\n",
       "      <td>6FDEE73B-0270-4AFA-BA21-579E5B970D6A</td>\n",
       "      <td>100.0</td>\n",
       "      <td>1</td>\n",
       "      <td>Банковские карты</td>\n",
       "      <td>Женский                                       ...</td>\n",
       "      <td>2022-07-18 16:29:38</td>\n",
       "      <td>5</td>\n",
       "      <td>8</td>\n",
       "      <td>2017</td>\n",
       "      <td>5</td>\n",
       "      <td>Город неизвестен</td>\n",
       "      <td>пожертвование</td>\n",
       "    </tr>\n",
       "  </tbody>\n",
       "</table>\n",
       "</div>"
      ],
      "text/plain": [
       "                                     id  amount  is_reccurent  \\\n",
       "0  DE5393F9-9585-4057-B7FB-24B69697FC08   300.0             1   \n",
       "1  81CD4BEF-443E-4D36-B34F-664E11182D65   300.0             0   \n",
       "2  D3BEB76D-D8B6-47E2-8109-44F1B278943B    16.0             0   \n",
       "4  61C3D86B-39DA-445C-9D7F-9924CE9BDA14   200.0             1   \n",
       "5  6FDEE73B-0270-4AFA-BA21-579E5B970D6A   100.0             1   \n",
       "\n",
       "                        channel  \\\n",
       "0            Банковские карты     \n",
       "1                         SMS     \n",
       "2  Прямые поступления на счет     \n",
       "4            Банковские карты     \n",
       "5            Банковские карты     \n",
       "\n",
       "                                              gender  last_email_activity  \\\n",
       "0  Женский                                       ...  2022-06-03 20:15:57   \n",
       "1  Женский                                       ...  2022-07-18 17:19:02   \n",
       "2  Мужской                                       ...                    0   \n",
       "4  Женский                                       ...  2022-07-20 20:32:37   \n",
       "5  Женский                                       ...  2022-07-18 16:29:38   \n",
       "\n",
       "   weekday  month  year  day_of_week     city_category purpose_category  \n",
       "0        6      7  2022            6            Москва    пожертвование  \n",
       "1        5      3  2020            5            Москва              sms  \n",
       "2        3      4  2022            3  Город неизвестен    пожертвование  \n",
       "4        5      6  2021            5  Город неизвестен    пожертвование  \n",
       "5        5      8  2017            5  Город неизвестен    пожертвование  "
      ]
     },
     "execution_count": 202,
     "metadata": {},
     "output_type": "execute_result"
    }
   ],
   "source": [
    "# Напишем функцию для категоризации назначений платежей\n",
    "\n",
    "def purose_category(purpose):\n",
    "    \n",
    "    if 'история успеха' in purpose.loc['purpose']:\n",
    "        return 'история успеха'\n",
    "    elif ('на обучение' or 'на тьютора' or 'на психологическую помощь') in purpose.loc['purpose']:\n",
    "        return 'именное пожертвование'\n",
    "    elif 'окно в мир' in purpose.loc['purpose']:\n",
    "        return 'окно в мир'\n",
    "    elif 'sms' in purpose.loc['purpose']:\n",
    "        return 'sms'\n",
    "    elif 'клуб друзей' in purpose.loc['purpose']:\n",
    "        return 'клуб друзей'\n",
    "    elif '0' in purpose.loc['purpose']:\n",
    "        return 'клуб друзей'\n",
    "    else:\n",
    "        return 'пожертвование'\n",
    "\n",
    "\n",
    "\n",
    "# применим функцию\n",
    "df1['purpose_category'] = df1.apply(purose_category, axis=1)\n",
    "# удалим столбец 'purpose'\n",
    "df1 = df1.drop('purpose',axis=1)\n",
    "\n",
    "df1.head()"
   ]
  },
  {
   "cell_type": "code",
   "execution_count": 203,
   "metadata": {},
   "outputs": [
    {
     "data": {
      "text/plain": [
       "<AxesSubplot:title={'center':'Назначения платежей для постоянных жертвователей'}>"
      ]
     },
     "execution_count": 203,
     "metadata": {},
     "output_type": "execute_result"
    },
    {
     "data": {
      "image/png": "[encoded data removed]",
      "text/plain": [
       "<Figure size 1080x360 with 1 Axes>"
      ]
     },
     "metadata": {
      "needs_background": "light"
     },
     "output_type": "display_data"
    }
   ],
   "source": [
    "# Назначения платежей\n",
    "(df1['purpose_category'].value_counts()/len(df1['id'])).head(21).plot(title='Назначения платежей для постоянных жертвователей', kind='bar',figsize=(15,5), color='darkslateblue')"
   ]
  }
 ],
 "metadata": {
  "colab": {
   "name": "Untitled4.ipynb",
   "provenance": []
  },
  "kernelspec": {
   "display_name": "Python 3 (ipykernel)",
   "language": "python",
   "name": "python3"
  },
  "language_info": {
   "codemirror_mode": {
    "name": "ipython",
    "version": 3
   },
   "file_extension": ".py",
   "mimetype": "text/x-python",
   "name": "python",
   "nbconvert_exporter": "python",
   "pygments_lexer": "ipython3",
   "version": "3.9.7"
  },
  "vscode": {
   "interpreter": {
    "hash": "aee8b7b246df8f9039afb4144a1f6fd8d2ca17a180786b69acc140d282b71a49"
   }
  }
 },
 "nbformat": 4,
 "nbformat_minor": 1
}
